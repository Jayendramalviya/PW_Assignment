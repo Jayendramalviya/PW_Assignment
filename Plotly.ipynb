{
 "cells": [
  {
   "cell_type": "code",
   "execution_count": null,
   "metadata": {},
   "outputs": [],
   "source": [
    "pip install plotly"
   ]
  },
  {
   "cell_type": "markdown",
   "metadata": {},
   "source": [
    "Q1. Load the \"titanic\" dataset using the load_dataset function of seaborn. Use Plotly express to plot a\n",
    "scatter plot for age and fare columns in the titanic dataset."
   ]
  },
  {
   "cell_type": "code",
   "execution_count": null,
   "metadata": {},
   "outputs": [],
   "source": [
    "import seaborn as sns\n",
    "import plotly.express as px\n",
    "import plotly.io as pio\n",
    "\n",
    "# Set the renderer\n",
    "pio.renderers.default = \"notebook\"  # or \"jupyterlab\" or \"browser\", as appropriate\n",
    "\n",
    "# Load the Titanic dataset\n",
    "df = sns.load_dataset('titanic')\n",
    "\n",
    "# Create a scatter plot for 'age' and 'fare'\n",
    "fig = px.scatter(df, x='age', y='fare', title=\"Titanic: Age vs Fare Scatter Plot\",\n",
    "                 labels={\"age\": \"Age\", \"fare\": \"Fare\"})\n",
    "\n",
    "fig.show()\n"
   ]
  },
  {
   "cell_type": "markdown",
   "metadata": {},
   "source": [
    "Q2. Using the tips dataset in the Plotly library, plot a box plot using Plotly express."
   ]
  },
  {
   "cell_type": "code",
   "execution_count": null,
   "metadata": {},
   "outputs": [],
   "source": [
    "import plotly.express as px\n",
    "\n",
    "# Load the tips dataset from Plotly Express's built-in data\n",
    "tips = px.data.tips()\n",
    "\n",
    "# Create a box plot with 'day' on the x-axis and 'tip' on the y-axis\n",
    "fig = px.box(tips, x=\"day\", y=\"tip\", title=\"Box Plot of Tip Amounts by Day\")\n",
    "\n",
    "# Display the plot\n",
    "fig.show()\n"
   ]
  },
  {
   "cell_type": "markdown",
   "metadata": {},
   "source": [
    "Q3. Using the tips dataset in the Plotly library, Plot a histogram for x= \"sex\" and y=\"total_bill\" column in\n",
    "the tips dataset. Also, use the \"smoker\" column with the pattern_shape parameter and the \"day\"\n",
    "column with the color parameter."
   ]
  },
  {
   "cell_type": "code",
   "execution_count": null,
   "metadata": {},
   "outputs": [],
   "source": [
    "import plotly.express as px\n",
    "\n",
    "# Load the built-in \"tips\" dataset\n",
    "tips = px.data.tips()\n",
    "\n",
    "# Create a histogram:\n",
    "# - x-axis: \"sex\"\n",
    "# - y-axis: \"total_bill\" aggregated using the average function\n",
    "# - Color by \"day\"\n",
    "# - Pattern shape by \"smoker\"\n",
    "fig = px.histogram(\n",
    "    tips,\n",
    "    x=\"sex\",\n",
    "    y=\"total_bill\",\n",
    "    color=\"day\",\n",
    "    pattern_shape=\"smoker\",\n",
    "    histfunc=\"avg\",  # calculates the average total_bill for each sex\n",
    "    title=\"Average Total Bill by Sex (with Smoker Pattern and Day Color)\"\n",
    ")\n",
    "\n",
    "# Display the figure\n",
    "fig.show()\n"
   ]
  },
  {
   "cell_type": "markdown",
   "metadata": {},
   "source": [
    "Q4. Using the iris dataset in the Plotly library, Plot a scatter matrix plot, using the \"species\" column for\n",
    "the color parameter."
   ]
  },
  {
   "cell_type": "code",
   "execution_count": null,
   "metadata": {},
   "outputs": [],
   "source": [
    "import plotly.express as px\n",
    "\n",
    "# Load the iris dataset\n",
    "iris = px.data.iris()\n",
    "\n",
    "# Create a scatter matrix plot using the numeric columns and color by 'species'\n",
    "fig = px.scatter_matrix(\n",
    "    iris,\n",
    "    dimensions=[\"sepal_length\", \"sepal_width\", \"petal_length\", \"petal_width\"],\n",
    "    color=\"species\",\n",
    "    title=\"Iris Dataset: Scatter Matrix\"\n",
    ")\n",
    "\n",
    "# Display the plot\n",
    "fig.show()\n"
   ]
  },
  {
   "cell_type": "markdown",
   "metadata": {},
   "source": [
    "Q5. What is Distplot? Using Plotly express, plot a distplot."
   ]
  },
  {
   "cell_type": "markdown",
   "metadata": {},
   "source": [
    "A distplot (distribution plot) is used to visualize the distribution of a continuous variable, typically by combining a histogram with a kernel density estimate (KDE) to show both the frequency and the underlying distribution shape. Although Seaborn provides a distplot function, Plotly Express does not have a direct equivalent named \"distplot.\" However, you can replicate a similar visualization using Plotly Express by creating a histogram and optionally adding a marginal plot to provide additional distribution information."
   ]
  },
  {
   "cell_type": "code",
   "execution_count": null,
   "metadata": {},
   "outputs": [],
   "source": [
    "import plotly.express as px\n",
    "import numpy as np\n",
    "\n",
    "# Generate sample data\n",
    "data = np.random.randn(500)\n",
    "\n",
    "# Create a histogram with a marginal rug plot to show data distribution\n",
    "fig = px.histogram(data, nbins=30, marginal=\"rug\",\n",
    "                   title=\"Distribution Plot using Plotly Express\")\n",
    "\n",
    "fig.show()\n"
   ]
  },
  {
   "cell_type": "markdown",
   "metadata": {},
   "source": []
  },
  {
   "cell_type": "markdown",
   "metadata": {},
   "source": []
  },
  {
   "cell_type": "markdown",
   "metadata": {},
   "source": []
  },
  {
   "cell_type": "markdown",
   "metadata": {},
   "source": []
  },
  {
   "cell_type": "markdown",
   "metadata": {},
   "source": []
  }
 ],
 "metadata": {
  "kernelspec": {
   "display_name": "Python 3",
   "language": "python",
   "name": "python3"
  },
  "language_info": {
   "codemirror_mode": {
    "name": "ipython",
    "version": 3
   },
   "file_extension": ".py",
   "mimetype": "text/x-python",
   "name": "python",
   "nbconvert_exporter": "python",
   "pygments_lexer": "ipython3",
   "version": "3.12.4"
  }
 },
 "nbformat": 4,
 "nbformat_minor": 2
}
