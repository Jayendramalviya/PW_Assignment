{
 "cells": [
  {
   "cell_type": "markdown",
   "id": "bba19245",
   "metadata": {},
   "source": [
    "Q1. Explain GET and POST methods."
   ]
  },
  {
   "cell_type": "markdown",
   "id": "a1a49d78",
   "metadata": {},
   "source": [
    "GET and POST are two commonly used HTTP methods for sending data between a client (such as a web browser) and a server. Here's an explanation of the GET and POST methods:\n",
    "\n",
    "1. GET Method:\n",
    "1.The GET method is used to retrieve or fetch data from a server.\n",
    "2.When a client sends a GET request, the parameters (query parameters) and data are appended to the URL in the form of key-value pairs.\n",
    "3.GET requests are typically used for fetching data, reading information, or retrieving resources.\n",
    "4.The GET method is idempotent, which means multiple identical GET requests should have the same effect as a single request. It should not cause any changes on the server.\n",
    "2. POST Method:\n",
    "1.The POST method is used to submit data to be processed by the server.\n",
    "2.When a client sends a POST request, the data is sent in the request body, separate from the URL."
   ]
  },
  {
   "cell_type": "markdown",
   "id": "fa03cb8a",
   "metadata": {},
   "source": [
    "Q2. Why is request used in Flask?"
   ]
  },
  {
   "cell_type": "markdown",
   "id": "a5cdb6b6",
   "metadata": {},
   "source": [
    "\n",
    "In Flask, the request object is provided by the Flask framework and is used to access incoming request data from the client-side. It represents the current HTTP request made by a client to the Flask application. The request object allows you to access various components and data of the request, such as form data, query parameters, headers, cookies, and more. Here are some reasons why the request object is used in Flask:\n",
    "\n",
    "1.Accessing Form Data: The request object allows you to retrieve form data submitted by the client. It provides methods and attributes such as request.form, request.args, and request.values to access form input values sent via POST or GET requests.\n",
    "\n",
    "2.Query Parameters: With the request object, you can access query parameters sent in the URL. Query parameters are commonly used to provide additional information or filter data in GET requests. You can retrieve query parameters using the request.args attribute.\n",
    "\n"
   ]
  },
  {
   "cell_type": "markdown",
   "id": "634c3ac8",
   "metadata": {},
   "source": [
    "Q3. Why is redirect() used in Flask?"
   ]
  },
  {
   "cell_type": "markdown",
   "id": "0cb54e09",
   "metadata": {},
   "source": [
    "\n",
    "In Flask, the redirect() function is used to redirect the client's browser to a different URL. It is a convenient way to guide the user to another page or route within the application after performing certain actions or when a specific condition is met. Here are a few reasons why the redirect() function is used in Flask:\n",
    "\n",
    "1.Route Redirection: The redirect() function is commonly used to redirect the user to a different route within the Flask application. It helps in maintaining a logical flow and guiding the user to the appropriate page or resource.\n",
    "\n",
    "2.Handling Form Submissions: After processing a form submission, such as creating a new record or updating an existing one, you can use the redirect() function to redirect the user to a confirmation page, a success page, or another relevant route. This ensures that refreshing the page won't re-submit the form data.\n",
    "\n",
    "3.Authentication and Authorization: In web applications that require authentication and authorization, the redirect() function can be used to redirect users to the login page when they try to access protected resources without proper authentication.  "
   ]
  },
  {
   "cell_type": "markdown",
   "id": "262c690b",
   "metadata": {},
   "source": [
    "Q4. What are templates in Flask? Why is the render_template() function used?"
   ]
  },
  {
   "cell_type": "markdown",
   "id": "4bacbfea",
   "metadata": {},
   "source": [
    "In Flask, templates are used to separate the presentation logic (HTML, CSS, etc.) from the application logic (Python code). Templates allow you to create dynamic web pages by combining static content with dynamically generated data. They provide a way to structure and render the output of your Flask application in a more organized and maintainable manner.\n",
    "\n",
    "    Templates in Flask are typically written using a templating engine, such as Jinja2, which is the default templating engine used by Flask. Jinja2 allows you to embed Python code and expressions within HTML templates, making it easy to generate dynamic content based on data provided by the Flask application.\n",
    "\n",
    "\n",
    "      In summary, templates in Flask provide a powerful mechanism for separating presentation logic from application logic. The render_template() function is used to render these templates, combining dynamic data with static content to generate the final HTML response that is sent back to the client. Templates enhance code organization, code reusability, and facilitate the generation of dynamic content, resulting in more maintainable and flexible web applications."
   ]
  },
  {
   "cell_type": "markdown",
   "id": "da3d2ab4",
   "metadata": {},
   "source": [
    "Q5. Create a simple API. Use Postman to test it. Attach the screenshot of the output in the Jupyter Notebook."
   ]
  },
  {
   "cell_type": "code",
   "execution_count": 2,
   "id": "8a8f150a",
   "metadata": {},
   "outputs": [
    {
     "name": "stdout",
     "output_type": "stream",
     "text": [
      " * Serving Flask app \"__main__\" (lazy loading)\n",
      " * Environment: production\n",
      "\u001b[31m   WARNING: This is a development server. Do not use it in a production deployment.\u001b[0m\n",
      "\u001b[2m   Use a production WSGI server instead.\u001b[0m\n",
      " * Debug mode: on\n"
     ]
    },
    {
     "name": "stderr",
     "output_type": "stream",
     "text": [
      " * Restarting with watchdog (windowsapi)\n"
     ]
    },
    {
     "ename": "SystemExit",
     "evalue": "1",
     "output_type": "error",
     "traceback": [
      "An exception has occurred, use %tb to see the full traceback.\n",
      "\u001b[1;31mSystemExit\u001b[0m\u001b[1;31m:\u001b[0m 1\n"
     ]
    },
    {
     "name": "stderr",
     "output_type": "stream",
     "text": [
      "C:\\Users\\acer\\anaconda3\\lib\\site-packages\\IPython\\core\\interactiveshell.py:3465: UserWarning: To exit: use 'exit', 'quit', or Ctrl-D.\n",
      "  warn(\"To exit: use 'exit', 'quit', or Ctrl-D.\", stacklevel=1)\n"
     ]
    }
   ],
   "source": [
    "from flask import Flask, jsonify, request\n",
    "\n",
    "app = Flask(__name__)\n",
    "\n",
    "@app.route('/api/hello', methods=['GET'])\n",
    "def hello():\n",
    "    return jsonify(message='Hello, world!')\n",
    "\n",
    "@app.route('/api/greet', methods=['POST'])\n",
    "def greet():\n",
    "    name = request.json.get('name')\n",
    "    return jsonify(message=f'Hello, {name}!')\n",
    "\n",
    "if __name__ == '__main__':\n",
    "    app.run(debug=True)\n"
   ]
  },
  {
   "cell_type": "code",
   "execution_count": null,
   "id": "a6d0d70b",
   "metadata": {},
   "outputs": [],
   "source": []
  }
 ],
 "metadata": {
  "kernelspec": {
   "display_name": "Python 3 (ipykernel)",
   "language": "python",
   "name": "python3"
  },
  "language_info": {
   "codemirror_mode": {
    "name": "ipython",
    "version": 3
   },
   "file_extension": ".py",
   "mimetype": "text/x-python",
   "name": "python",
   "nbconvert_exporter": "python",
   "pygments_lexer": "ipython3",
   "version": "3.9.13"
  }
 },
 "nbformat": 4,
 "nbformat_minor": 5
}
