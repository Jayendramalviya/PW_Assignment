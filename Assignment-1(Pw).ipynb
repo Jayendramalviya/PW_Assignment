{
 "cells": [
  {
   "cell_type": "markdown",
   "id": "110ad4ed",
   "metadata": {},
   "source": [
    "Q1 Create one variable containing following:-"
   ]
  },
  {
   "cell_type": "code",
   "execution_count": 1,
   "id": "93cc13d2",
   "metadata": {},
   "outputs": [
    {
     "data": {
      "text/plain": [
       "'Jayendra'"
      ]
     },
     "execution_count": 1,
     "metadata": {},
     "output_type": "execute_result"
    }
   ],
   "source": [
    "k=\"Jayendra\" \n",
    "k"
   ]
  },
  {
   "cell_type": "code",
   "execution_count": 2,
   "id": "f2f0aef7",
   "metadata": {},
   "outputs": [
    {
     "data": {
      "text/plain": [
       "[9, 9, 'i']"
      ]
     },
     "execution_count": 2,
     "metadata": {},
     "output_type": "execute_result"
    }
   ],
   "source": [
    "k=[9,9,'i']\n",
    "k"
   ]
  },
  {
   "cell_type": "code",
   "execution_count": 3,
   "id": "154c0341",
   "metadata": {},
   "outputs": [
    {
     "data": {
      "text/plain": [
       "9.89"
      ]
     },
     "execution_count": 3,
     "metadata": {},
     "output_type": "execute_result"
    }
   ],
   "source": [
    "k=9.89\n",
    "k"
   ]
  },
  {
   "cell_type": "code",
   "execution_count": 4,
   "id": "9ed2d720",
   "metadata": {},
   "outputs": [
    {
     "data": {
      "text/plain": [
       "tuple"
      ]
     },
     "execution_count": 4,
     "metadata": {},
     "output_type": "execute_result"
    }
   ],
   "source": [
    "tuple=(\"apple\",\"mango\")\n",
    "tuple\n",
    "type(tuple)"
   ]
  },
  {
   "cell_type": "markdown",
   "id": "5087cdfc",
   "metadata": {},
   "source": [
    "Q2. Given are some following variable containg Data\n"
   ]
  },
  {
   "cell_type": "code",
   "execution_count": 5,
   "id": "5d5f062c",
   "metadata": {},
   "outputs": [
    {
     "data": {
      "text/plain": [
       "str"
      ]
     },
     "execution_count": 5,
     "metadata": {},
     "output_type": "execute_result"
    }
   ],
   "source": [
    "var=''\n",
    "type(var)"
   ]
  },
  {
   "cell_type": "code",
   "execution_count": 6,
   "id": "4163d95b",
   "metadata": {},
   "outputs": [
    {
     "data": {
      "text/plain": [
       "str"
      ]
     },
     "execution_count": 6,
     "metadata": {},
     "output_type": "execute_result"
    }
   ],
   "source": [
    "var2='[DS,ML,Python]'\n",
    "type(var2)"
   ]
  },
  {
   "cell_type": "code",
   "execution_count": 7,
   "id": "5cdc146a",
   "metadata": {},
   "outputs": [
    {
     "data": {
      "text/plain": [
       "list"
      ]
     },
     "execution_count": 7,
     "metadata": {},
     "output_type": "execute_result"
    }
   ],
   "source": [
    "var3=['DS','ML','Python']\n",
    "type(var3)"
   ]
  },
  {
   "cell_type": "code",
   "execution_count": 8,
   "id": "e9c4139e",
   "metadata": {},
   "outputs": [
    {
     "data": {
      "text/plain": [
       "int"
      ]
     },
     "execution_count": 8,
     "metadata": {},
     "output_type": "execute_result"
    }
   ],
   "source": [
    "var4=1\n",
    "type(var4)"
   ]
  },
  {
   "cell_type": "markdown",
   "id": "a925f5d6",
   "metadata": {},
   "source": [
    "Q.4 Create a list of your choice cointaing multiple types of Data. using for loop print the element and its data type"
   ]
  },
  {
   "cell_type": "code",
   "execution_count": 9,
   "id": "2c823aa7",
   "metadata": {},
   "outputs": [
    {
     "name": "stdout",
     "output_type": "stream",
     "text": [
      "78\n",
      "<class 'int'>\n",
      "9\n",
      "<class 'int'>\n",
      "jay\n",
      "<class 'str'>\n",
      "8.9\n",
      "<class 'float'>\n"
     ]
    }
   ],
   "source": [
    "a=[78,9,'jay',8.90]\n",
    "for i in a:\n",
    "    print(i)\n",
    "    print(type(i))\n",
    "   "
   ]
  },
  {
   "cell_type": "markdown",
   "id": "e03914c6",
   "metadata": {},
   "source": [
    "Q 3. Explain following operator"
   ]
  },
  {
   "cell_type": "code",
   "execution_count": 10,
   "id": "7244d250",
   "metadata": {},
   "outputs": [
    {
     "data": {
      "text/plain": [
       "1.0"
      ]
     },
     "execution_count": 10,
     "metadata": {},
     "output_type": "execute_result"
    }
   ],
   "source": [
    "#1.  /(DIvision)\n",
    "a=9/9\n",
    "a"
   ]
  },
  {
   "cell_type": "code",
   "execution_count": 11,
   "id": "89c78612",
   "metadata": {},
   "outputs": [
    {
     "data": {
      "text/plain": [
       "2"
      ]
     },
     "execution_count": 11,
     "metadata": {},
     "output_type": "execute_result"
    }
   ],
   "source": [
    "#2. Modulus(%)\n",
    "a=2%5\n",
    "a #remainder"
   ]
  },
  {
   "cell_type": "code",
   "execution_count": 12,
   "id": "f93ce851",
   "metadata": {},
   "outputs": [
    {
     "data": {
      "text/plain": [
       "21"
      ]
     },
     "execution_count": 12,
     "metadata": {},
     "output_type": "execute_result"
    }
   ],
   "source": [
    "#3. // (flor Division)\n",
    "a=87//4\n",
    "a"
   ]
  },
  {
   "cell_type": "code",
   "execution_count": 13,
   "id": "b812dc95",
   "metadata": {},
   "outputs": [
    {
     "data": {
      "text/plain": [
       "531441"
      ]
     },
     "execution_count": 13,
     "metadata": {},
     "output_type": "execute_result"
    }
   ],
   "source": [
    "#4.** used for power calculate\n",
    "a=9**6\n",
    "a"
   ]
  },
  {
   "cell_type": "markdown",
   "id": "6e079201",
   "metadata": {},
   "source": [
    "Q5. Using While loop .Verify if the number A is purely divisible by number B and if so then how many times it can be divisible"
   ]
  },
  {
   "cell_type": "code",
   "execution_count": 15,
   "id": "1d6c7fd5",
   "metadata": {},
   "outputs": [
    {
     "name": "stdout",
     "output_type": "stream",
     "text": [
      "A is purely div. 5 times\n"
     ]
    }
   ],
   "source": [
    "A=32\n",
    "B=2\n",
    "Jay=0\n",
    "while A%B==0:\n",
    "    A=A/B\n",
    "    Jay=Jay+1\n",
    "if A==1:\n",
    "    print(\"A is purely div.\",Jay ,\"times\")\n",
    "else:\n",
    "    print(\"not divi.\")"
   ]
  },
  {
   "cell_type": "markdown",
   "id": "1d1667bf",
   "metadata": {},
   "source": [
    "Q6.Create a list containing 25 int type data item. Using for loop and if condition print if the element is divisible by 3 or not"
   ]
  },
  {
   "cell_type": "code",
   "execution_count": 18,
   "id": "e53b7add",
   "metadata": {},
   "outputs": [
    {
     "name": "stdout",
     "output_type": "stream",
     "text": [
      "not divisible by 3 1\n",
      "not divisible by 3 2\n",
      "divisible by 3 3\n",
      "not divisible by 3 4\n",
      "not divisible by 3 5\n",
      "divisible by 3 6\n",
      "not divisible by 3 7\n",
      "not divisible by 3 8\n",
      "divisible by 3 9\n",
      "not divisible by 3 10\n",
      "not divisible by 3 11\n",
      "divisible by 3 12\n",
      "not divisible by 3 13\n",
      "not divisible by 3 14\n",
      "divisible by 3 15\n",
      "not divisible by 3 16\n",
      "not divisible by 3 17\n",
      "divisible by 3 18\n",
      "not divisible by 3 19\n",
      "not divisible by 3 20\n",
      "divisible by 3 21\n",
      "not divisible by 3 22\n",
      "not divisible by 3 23\n",
      "divisible by 3 24\n",
      "not divisible by 3 25\n"
     ]
    }
   ],
   "source": [
    "N=[1,2,3,4,5,6,7,8,9,10,11,12,13,14,15,16,17,18,19,20,21,22,23,24,25]\n",
    "for i in N:\n",
    "    if i%3==0:\n",
    "        print(\"divisible by 3\",i)\n",
    "    else:\n",
    "        print(\"not divisible by 3\",i)"
   ]
  },
  {
   "cell_type": "markdown",
   "id": "ba279a05",
   "metadata": {},
   "source": [
    "Q7. Mutable:-mutable simply meaning is\" It can be Changeble\"\n",
    "    Ex:- list[]\n",
    "    list can be change"
   ]
  },
  {
   "cell_type": "code",
   "execution_count": 20,
   "id": "d00767f5",
   "metadata": {},
   "outputs": [
    {
     "data": {
      "text/plain": [
       "[2, 9, 8, 'Jayendra']"
      ]
     },
     "execution_count": 20,
     "metadata": {},
     "output_type": "execute_result"
    }
   ],
   "source": [
    "Mal=[2,9,8,'jay']\n",
    "Mal\n",
    "Mal[3]='Jayendra'\n",
    "Mal\n"
   ]
  },
  {
   "cell_type": "markdown",
   "id": "1ea03803",
   "metadata": {},
   "source": [
    "Immutable:-Immutable simply meaning is \"It cannot be Change\"\n",
    "Ex:- String ' '\n",
    "String cannot be Changeable"
   ]
  },
  {
   "cell_type": "code",
   "execution_count": 22,
   "id": "ce2f35b3",
   "metadata": {},
   "outputs": [
    {
     "data": {
      "text/plain": [
       "'Jayendra'"
      ]
     },
     "execution_count": 22,
     "metadata": {},
     "output_type": "execute_result"
    }
   ],
   "source": [
    "l=\"Jayendra\"\n",
    "l"
   ]
  },
  {
   "cell_type": "code",
   "execution_count": 23,
   "id": "110b9b52",
   "metadata": {},
   "outputs": [
    {
     "data": {
      "text/plain": [
       "'y'"
      ]
     },
     "execution_count": 23,
     "metadata": {},
     "output_type": "execute_result"
    }
   ],
   "source": [
    "l[2]"
   ]
  },
  {
   "cell_type": "code",
   "execution_count": 24,
   "id": "d8533881",
   "metadata": {},
   "outputs": [
    {
     "ename": "TypeError",
     "evalue": "'str' object does not support item assignment",
     "output_type": "error",
     "traceback": [
      "\u001b[1;31m---------------------------------------------------------------------------\u001b[0m",
      "\u001b[1;31mTypeError\u001b[0m                                 Traceback (most recent call last)",
      "\u001b[1;32m~\\AppData\\Local\\Temp\\ipykernel_10616\\623450932.py\u001b[0m in \u001b[0;36m<module>\u001b[1;34m\u001b[0m\n\u001b[1;32m----> 1\u001b[1;33m \u001b[0ml\u001b[0m\u001b[1;33m[\u001b[0m\u001b[1;36m2\u001b[0m\u001b[1;33m]\u001b[0m\u001b[1;33m=\u001b[0m\u001b[1;34m'g'\u001b[0m\u001b[1;33m\u001b[0m\u001b[1;33m\u001b[0m\u001b[0m\n\u001b[0m",
      "\u001b[1;31mTypeError\u001b[0m: 'str' object does not support item assignment"
     ]
    }
   ],
   "source": [
    "l[2]='g'"
   ]
  },
  {
   "cell_type": "code",
   "execution_count": null,
   "id": "e04bccdc",
   "metadata": {},
   "outputs": [],
   "source": []
  }
 ],
 "metadata": {
  "kernelspec": {
   "display_name": "Python 3 (ipykernel)",
   "language": "python",
   "name": "python3"
  },
  "language_info": {
   "codemirror_mode": {
    "name": "ipython",
    "version": 3
   },
   "file_extension": ".py",
   "mimetype": "text/x-python",
   "name": "python",
   "nbconvert_exporter": "python",
   "pygments_lexer": "ipython3",
   "version": "3.9.13"
  }
 },
 "nbformat": 4,
 "nbformat_minor": 5
}
