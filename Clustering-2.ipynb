{
 "cells": [
  {
   "cell_type": "markdown",
   "metadata": {},
   "source": [
    "Q1. What is hierarchical clustering, and how is it different from other clustering techniques?"
   ]
  },
  {
   "cell_type": "markdown",
   "metadata": {},
   "source": [
    "Hierarchical clustering is a clustering algorithm that creates a hierarchy of clusters in a tree-like structure. It differs from other clustering techniques like K-Means and DBSCAN in the following ways:\n",
    "\n",
    "- Does not require specifying the number of clusters in advance.\n",
    "- Produces a dendrogram, which helps visualize cluster relationships.\n",
    "- Works well with small to medium-sized datasets but is computationally expensive for large datasets."
   ]
  },
  {
   "cell_type": "markdown",
   "metadata": {},
   "source": [
    "Q2. What are the two main types of hierarchical clustering algorithms? Describe each in brief"
   ]
  },
  {
   "cell_type": "markdown",
   "metadata": {},
   "source": [
    "1. Agglomerative Hierarchical Clustering (Bottom-Up)\n",
    "\n",
    "- Starts with each data point as its own cluster.\n",
    "- Merges the closest clusters iteratively until all points belong to a single cluster.\n",
    "- More commonly used.\n",
    "\n",
    "2. Divisive Hierarchical Clustering (Top-Down)\n",
    "\n",
    "- Starts with all data points in a single cluster.\n",
    "- Recursively splits clusters into smaller groups.\n",
    "- Less commonly used due to its higher computational cost."
   ]
  },
  {
   "cell_type": "markdown",
   "metadata": {},
   "source": [
    "Q3. How do you determine the distance between two clusters in hierarchical clustering, and what are the\n",
    "common distance metrics used?"
   ]
  },
  {
   "cell_type": "markdown",
   "metadata": {},
   "source": [
    "Distance between two clusters is measured using linkage criteria, which defines how the distance is calculated. Common linkage methods include:\n",
    "\n",
    "- Single Linkage – Minimum distance between points in two clusters.\n",
    "- Complete Linkage – Maximum distance between points in two clusters.\n",
    "- Average Linkage – Mean distance between all points in two clusters.\n",
    "- Centroid Linkage – Distance between centroids of two clusters.\n",
    "- Ward’s Method – Minimizes variance within clusters.\n",
    "\n",
    "\n",
    "Common distance metrics used:\n",
    "\n",
    "- Euclidean Distance (default for continuous data)\n",
    "- Manhattan Distance (better for high-dimensional data)\n",
    "- Cosine Similarity (for text or high-dimensional sparse data)"
   ]
  },
  {
   "cell_type": "markdown",
   "metadata": {},
   "source": [
    "Q4. How do you determine the optimal number of clusters in hierarchical clustering, and what are some\n",
    "common methods used for this purpose?"
   ]
  },
  {
   "cell_type": "markdown",
   "metadata": {},
   "source": [
    "Common methods include:\n",
    "\n",
    "- Dendrogram Analysis – Cutting the dendrogram at an appropriate height.\n",
    "- Elbow Method – Plotting the Within-Cluster Sum of Squares (WCSS) and finding the \"elbow\" point.\n",
    "- Silhouette Score – Measuring how well each point fits within its cluster.\n"
   ]
  },
  {
   "cell_type": "markdown",
   "metadata": {},
   "source": [
    "Q5. What are dendrograms in hierarchical clustering, and how are they useful in analyzing the results?"
   ]
  },
  {
   "cell_type": "markdown",
   "metadata": {},
   "source": [
    "A dendrogram is a tree-like diagram that represents the merging of clusters in hierarchical clustering. It helps:\n",
    "\n",
    "- Visualize the structure and relationships between clusters.\n",
    "- Identify the optimal number of clusters by cutting the dendrogram at the right height.\n",
    "- Detect outliers based on their distance from other clusters.\n"
   ]
  },
  {
   "cell_type": "markdown",
   "metadata": {},
   "source": [
    "Q6. Can hierarchical clustering be used for both numerical and categorical data? If yes, how are the\n",
    "distance metrics different for each type of data?"
   ]
  },
  {
   "cell_type": "markdown",
   "metadata": {},
   "source": [
    "Yes, but the choice of distance metric differs:\n",
    "\n",
    "- For Numerical Data:\n",
    "\n",
    "    - Euclidean Distance (common choice)\n",
    "     - Manhattan Distance\n",
    "    - Mahalanobis Distance (for correlated variables)\n",
    "\n",
    "\n",
    "- For Categorical Data:\n",
    "\n",
    "     - Hamming Distance (counts differences in categorical attributes)\n",
    "     - Jaccard Similarity (for binary data)\n",
    "     - Gower’s Distance (for mixed data types)\n"
   ]
  },
  {
   "cell_type": "markdown",
   "metadata": {},
   "source": [
    "Q7. How can you use hierarchical clustering to identify outliers or anomalies in your data?"
   ]
  },
  {
   "cell_type": "markdown",
   "metadata": {},
   "source": [
    "- Looking at points that form their own separate cluster in the dendrogram.\n",
    "- Checking clusters with very high distance from other clusters.\n",
    "- Identifying singleton clusters (clusters with only one point).\n"
   ]
  },
  {
   "cell_type": "markdown",
   "metadata": {},
   "source": []
  }
 ],
 "metadata": {
  "language_info": {
   "name": "python"
  }
 },
 "nbformat": 4,
 "nbformat_minor": 2
}
