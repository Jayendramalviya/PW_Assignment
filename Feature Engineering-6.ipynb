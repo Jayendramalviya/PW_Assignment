{
 "cells": [
  {
   "cell_type": "markdown",
   "metadata": {},
   "source": [
    "Q1. Pearson correlation coefficient is a measure of the linear relationship between two variables. Suppose\n",
    "you have collected data on the amount of time students spend studying for an exam and their final exam\n",
    "scores. Calculate the Pearson correlation coefficient between these two variables and interpret the result."
   ]
  },
  {
   "cell_type": "code",
   "execution_count": 1,
   "metadata": {},
   "outputs": [
    {
     "name": "stdout",
     "output_type": "stream",
     "text": [
      "Pearson Correlation Coefficient: 0.99\n"
     ]
    }
   ],
   "source": [
    "import numpy as np\n",
    "from scipy.stats import pearsonr\n",
    "\n",
    "# Data\n",
    "study_time = np.array([2, 3, 5, 7, 9, 10])\n",
    "exam_scores = np.array([50, 55, 65, 70, 85, 90])\n",
    "\n",
    "# Compute Pearson correlation coefficient\n",
    "correlation_coefficient, _ = pearsonr(study_time, exam_scores)\n",
    "\n",
    "print(f\"Pearson Correlation Coefficient: {correlation_coefficient:.2f}\")\n"
   ]
  },
  {
   "cell_type": "markdown",
   "metadata": {},
   "source": [
    "Q2. Spearman's rank correlation is a measure of the monotonic relationship between two variables.\n",
    "Suppose you have collected data on the amount of sleep individuals get each night and their overall job\n",
    "satisfaction level on a scale of 1 to 10. Calculate the Spearman's rank correlation between these two\n",
    "variables and interpret the result.\n",
    "\n"
   ]
  },
  {
   "cell_type": "code",
   "execution_count": 2,
   "metadata": {},
   "outputs": [
    {
     "name": "stdout",
     "output_type": "stream",
     "text": [
      "Spearman's Rank Correlation Coefficient: 1.00\n"
     ]
    }
   ],
   "source": [
    "import numpy as np\n",
    "from scipy.stats import spearmanr\n",
    "\n",
    "# Data\n",
    "sleep_hours = np.array([4, 5, 6, 7, 8, 9])\n",
    "job_satisfaction = np.array([3, 4, 7, 8, 9, 10])\n",
    "\n",
    "# Compute Spearman's rank correlation coefficient\n",
    "spearman_corr, _ = spearmanr(sleep_hours, job_satisfaction)\n",
    "\n",
    "print(f\"Spearman's Rank Correlation Coefficient: {spearman_corr:.2f}\")\n"
   ]
  },
  {
   "cell_type": "markdown",
   "metadata": {},
   "source": [
    "Q3. Suppose you are conducting a study to examine the relationship between the number of hours of\n",
    "exercise per week and body mass index (BMI) in a sample of adults. You collected data on both variables\n",
    "for 50 participants. Calculate the Pearson correlation coefficient and the Spearman's rank correlation\n",
    "between these two variables and compare the results.\n",
    "\n",
    "\n",
    "\n",
    "Interpret:-\n",
    "\n",
    "In our generated data, we expect negative correlations (since more exercise generally lowers BMI).\n",
    "\n",
    "Pearson’s r may be weaker if the relationship isn’t strictly linear.\n",
    "Spearman’s ρ will likely be stronger if BMI decreases consistently as exercise incre"
   ]
  },
  {
   "cell_type": "code",
   "execution_count": 3,
   "metadata": {},
   "outputs": [
    {
     "name": "stdout",
     "output_type": "stream",
     "text": [
      "Pearson Correlation Coefficient: -0.10\n",
      "Spearman's Rank Correlation Coefficient: -0.05\n"
     ]
    }
   ],
   "source": [
    "import numpy as np\n",
    "from scipy.stats import pearsonr, spearmanr\n",
    "\n",
    "# Set random seed for reproducibility\n",
    "np.random.seed(42)\n",
    "\n",
    "# Generate random data for 50 participants\n",
    "exercise_hours = np.random.uniform(0, 10, 50)  # Exercise hours (0 to 10 hours per week)\n",
    "bmi_values = np.random.uniform(18, 35, 50) - 0.3 * exercise_hours  # BMI decreasing with more exercise\n",
    "\n",
    "# Compute Pearson correlation\n",
    "pearson_corr, _ = pearsonr(exercise_hours, bmi_values)\n",
    "\n",
    "# Compute Spearman's rank correlation\n",
    "spearman_corr, _ = spearmanr(exercise_hours, bmi_values)\n",
    "\n",
    "print(f\"Pearson Correlation Coefficient: {pearson_corr:.2f}\")\n",
    "print(f\"Spearman's Rank Correlation Coefficient: {spearman_corr:.2f}\")\n"
   ]
  },
  {
   "cell_type": "markdown",
   "metadata": {},
   "source": [
    "Q4. A researcher is interested in examining the relationship between the number of hours individuals\n",
    "spend watching television per day and their level of physical activity. The researcher collected data on\n",
    "both variables from a sample of 50 participants. Calculate the Pearson correlation coefficient between\n",
    "these two variables."
   ]
  },
  {
   "cell_type": "code",
   "execution_count": 4,
   "metadata": {},
   "outputs": [
    {
     "data": {
      "text/plain": [
       "np.float64(-0.21547654463138363)"
      ]
     },
     "execution_count": 4,
     "metadata": {},
     "output_type": "execute_result"
    }
   ],
   "source": [
    "import numpy as np\n",
    "from scipy.stats import pearsonr\n",
    "\n",
    "# Set random seed for reproducibility\n",
    "np.random.seed(42)\n",
    "\n",
    "# Generate random data for 50 participants\n",
    "tv_hours = np.random.uniform(0, 6, 50)  # Hours of TV watched per day (0 to 6 hours)\n",
    "physical_activity = np.random.uniform(0, 10, 50) - 0.5 * tv_hours  # Physical activity decreases with more TV\n",
    "\n",
    "# Compute Pearson correlation coefficient\n",
    "pearson_corr, _ = pearsonr(tv_hours, physical_activity)\n",
    "\n",
    "pearson_corr\n"
   ]
  },
  {
   "cell_type": "markdown",
   "metadata": {},
   "source": [
    "Q5. A survey was conducted to examine the relationship between age and preference for a particular\n",
    "brand of soft drink. The survey results are shown below:"
   ]
  },
  {
   "cell_type": "code",
   "execution_count": 5,
   "metadata": {},
   "outputs": [
    {
     "name": "stdout",
     "output_type": "stream",
     "text": [
      "Chi-Square Statistic: 5.00\n",
      "P-Value: 0.2873\n"
     ]
    }
   ],
   "source": [
    "import pandas as pd\n",
    "from scipy.stats import chi2_contingency\n",
    "\n",
    "# Sample data\n",
    "data = {'Age': [25, 42, 37, 19, 31, 28], \n",
    "        'Soft_Drink': ['Coke', 'Pepsi', 'Mountain Dew', 'Coke', 'Pepsi', 'Coke']}\n",
    "\n",
    "df = pd.DataFrame(data)\n",
    "\n",
    "# Create age bins\n",
    "df['Age_Group'] = pd.cut(df['Age'], bins=[18, 25, 35, 45], labels=['18-25', '26-35', '36-45'])\n",
    "\n",
    "# Create contingency table\n",
    "contingency_table = pd.crosstab(df['Age_Group'], df['Soft_Drink'])\n",
    "\n",
    "# Perform Chi-Square test\n",
    "chi2, p, dof, expected = chi2_contingency(contingency_table)\n",
    "\n",
    "print(f\"Chi-Square Statistic: {chi2:.2f}\")\n",
    "print(f\"P-Value: {p:.4f}\")\n"
   ]
  },
  {
   "cell_type": "code",
   "execution_count": 6,
   "metadata": {},
   "outputs": [
    {
     "name": "stdout",
     "output_type": "stream",
     "text": [
      "ANOVA P-Value: 0.1631\n"
     ]
    }
   ],
   "source": [
    "from scipy.stats import f_oneway\n",
    "\n",
    "# Group ages by soft drink preference\n",
    "coke_ages = df[df['Soft_Drink'] == 'Coke']['Age']\n",
    "pepsi_ages = df[df['Soft_Drink'] == 'Pepsi']['Age']\n",
    "dew_ages = df[df['Soft_Drink'] == 'Mountain Dew']['Age']\n",
    "\n",
    "# Perform ANOVA test\n",
    "anova_result = f_oneway(coke_ages, pepsi_ages, dew_ages)\n",
    "\n",
    "print(f\"ANOVA P-Value: {anova_result.pvalue:.4f}\")\n"
   ]
  },
  {
   "cell_type": "markdown",
   "metadata": {},
   "source": [
    "Q6. A company is interested in examining the relationship between the number of sales calls made per day\n",
    "and the number of sales made per week. The company collected data on both variables from a sample of\n",
    "30 sales representatives. Calculate the Pearson correlation coefficient between these two variables"
   ]
  },
  {
   "cell_type": "code",
   "execution_count": 7,
   "metadata": {},
   "outputs": [
    {
     "data": {
      "text/plain": [
       "np.float64(0.4176122039520441)"
      ]
     },
     "execution_count": 7,
     "metadata": {},
     "output_type": "execute_result"
    }
   ],
   "source": [
    "# Import necessary libraries\n",
    "import numpy as np\n",
    "from scipy.stats import pearsonr\n",
    "\n",
    "# Set random seed for reproducibility\n",
    "np.random.seed(42)\n",
    "\n",
    "# Generate random data for 30 sales representatives\n",
    "sales_calls_per_day = np.random.randint(5, 30, 30)  # Number of sales calls made per day (5 to 30)\n",
    "sales_per_week = np.random.randint(10, 100, 30) + 2 * sales_calls_per_day  # Sales per week\n",
    "\n",
    "# Compute Pearson correlation coefficient\n",
    "pearson_corr, _ = pearsonr(sales_calls_per_day, sales_per_week)\n",
    "\n",
    "pearson_corr\n"
   ]
  },
  {
   "cell_type": "code",
   "execution_count": null,
   "metadata": {},
   "outputs": [],
   "source": []
  }
 ],
 "metadata": {
  "kernelspec": {
   "display_name": "Python 3",
   "language": "python",
   "name": "python3"
  },
  "language_info": {
   "codemirror_mode": {
    "name": "ipython",
    "version": 3
   },
   "file_extension": ".py",
   "mimetype": "text/x-python",
   "name": "python",
   "nbconvert_exporter": "python",
   "pygments_lexer": "ipython3",
   "version": "3.12.4"
  }
 },
 "nbformat": 4,
 "nbformat_minor": 2
}
