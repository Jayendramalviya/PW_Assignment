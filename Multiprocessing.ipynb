{
 "cells": [
  {
   "cell_type": "markdown",
   "metadata": {
    "vscode": {
     "languageId": "plaintext"
    }
   },
   "source": [
    "Q1. What is multiprocessing in Python? Why is it useful?\n",
    "Answer:\n",
    "\n",
    "Multiprocessing is a module in Python that allows the creation and management of multiple processes. Each process runs in its own Python interpreter with its own memory space.\n",
    "\n",
    "Usefulness:\n",
    "True Parallelism: It bypasses the Global Interpreter Lock (GIL) so that multiple processes can run in parallel on different CPU cores, making it ideal for CPU-bound tasks.\n",
    "Isolation: Each process is isolated, which can prevent issues that arise from shared state.\n",
    "Improved Performance: For heavy computations, using multiple processes can significantly reduce execution time compared to single-threaded or multithreaded approaches in CPU-bound scenarios."
   ]
  },
  {
   "cell_type": "markdown",
   "metadata": {},
   "source": [
    "Q2. What are the differences between multiprocessing and multithreading?\n",
    "Answer:\n",
    "\n",
    "Feature\tMultiprocessing\tMultithreading\n",
    "Memory\t\n",
    "Each process has its own memory space (isolated).\tThreads share the same memory space.\n",
    "\n",
    "GIL (Global Interpreter Lock)\t\n",
    "Bypasses the GIL; processes run truly in parallel on multiple CPU cores.\tSubject to the GIL in CPython; limits parallel execution of CPU-bound threads.\n",
    "\n",
    "Overhead\t\n",
    "Higher overhead due to process creation and inter-process communication.\tLower overhead since threads are lighter weight than processes.\n",
    "\n",
    "Use Case\tBest for CPU-bound tasks (intensive computations).\tBest for I/O-bound tasks (network, disk operations) where waiting is involved."
   ]
  },
  {
   "cell_type": "markdown",
   "metadata": {},
   "source": [
    "Q3. Write a Python code to create a process using the multiprocessing module."
   ]
  },
  {
   "cell_type": "code",
   "execution_count": null,
   "metadata": {},
   "outputs": [],
   "source": [
    "import multiprocessing\n",
    "import time\n",
    "\n",
    "def worker():\n",
    "    print(\"Worker process started.\")\n",
    "    time.sleep(2)\n",
    "    print(\"Worker process finished.\")\n",
    "\n",
    "if __name__ == '__main__':\n",
    "    # Create a process object that targets the worker function\n",
    "    process = multiprocessing.Process(target=worker)\n",
    "    \n",
    "    # Start the process\n",
    "    process.start()\n",
    "    \n",
    "    # Wait for the process to complete\n",
    "    process.join()\n",
    "    \n",
    "    print(\"Process has completed.\")\n"
   ]
  },
  {
   "cell_type": "markdown",
   "metadata": {},
   "source": [
    "Q4. What is a multiprocessing pool in Python? Why is it used?\n",
    "Answer:\n",
    "\n",
    "A multiprocessing pool is a collection of worker processes that can be used to execute tasks concurrently.\n",
    "Usage:\n",
    "It allows you to manage multiple processes efficiently.\n",
    "It provides convenient methods such as map(), apply(), and starmap() to parallelize the execution of a function across an iterable or multiple arguments.\n",
    "Pools are particularly useful when you have many small tasks that can be distributed among a fixed number of processes, reducing the overhead of process creation and management."
   ]
  },
  {
   "cell_type": "markdown",
   "metadata": {},
   "source": [
    "Q5. How can we create a pool of worker processes in Python using the multiprocessing module?"
   ]
  },
  {
   "cell_type": "code",
   "execution_count": null,
   "metadata": {},
   "outputs": [],
   "source": [
    "import multiprocessing\n",
    "\n",
    "def square(x):\n",
    "    return x * x\n",
    "\n",
    "if __name__ == '__main__':\n",
    "    # Create a pool with 4 worker processes\n",
    "    with multiprocessing.Pool(processes=4) as pool:\n",
    "        # Use pool.map to apply the square function to each element of the list\n",
    "        numbers = [1, 2, 3, 4, 5]\n",
    "        results = pool.map(square, numbers)\n",
    "    \n",
    "    print(\"Squared values:\", results)\n",
    "\n"
   ]
  },
  {
   "cell_type": "markdown",
   "metadata": {},
   "source": []
  },
  {
   "cell_type": "code",
   "execution_count": 1,
   "metadata": {},
   "outputs": [
    {
     "name": "stdout",
     "output_type": "stream",
     "text": [
      "All processes have finished execution.\n"
     ]
    }
   ],
   "source": [
    "#Q6. Write a Python program to create 4 processes, each process should print a different number using the multiprocessing module in #Python.\n",
    "\n",
    "import multiprocessing\n",
    "\n",
    "def print_number(num):\n",
    "    print(f\"Process {multiprocessing.current_process().name} prints number: {num}\")\n",
    "\n",
    "if __name__ == '__main__':\n",
    "    processes = []\n",
    "    \n",
    "    # Create 4 processes, each with a different number\n",
    "    for i in range(1, 5):\n",
    "        p = multiprocessing.Process(target=print_number, args=(i,))\n",
    "        processes.append(p)\n",
    "        p.start()\n",
    "    \n",
    "    # Wait for all processes to finish\n",
    "    for p in processes:\n",
    "        p.join()\n",
    "    \n",
    "    print(\"All processes have finished execution.\")"
   ]
  },
  {
   "cell_type": "code",
   "execution_count": null,
   "metadata": {},
   "outputs": [],
   "source": []
  }
 ],
 "metadata": {
  "kernelspec": {
   "display_name": "Python 3",
   "language": "python",
   "name": "python3"
  },
  "language_info": {
   "codemirror_mode": {
    "name": "ipython",
    "version": 3
   },
   "file_extension": ".py",
   "mimetype": "text/x-python",
   "name": "python",
   "nbconvert_exporter": "python",
   "pygments_lexer": "ipython3",
   "version": "3.12.4"
  }
 },
 "nbformat": 4,
 "nbformat_minor": 2
}
