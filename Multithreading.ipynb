{
 "cells": [
  {
   "cell_type": "markdown",
   "metadata": {},
   "source": [
    "Q1. What is multithreading in Python? Why is it used? Name the module used to handle threads in Python.\n",
    "Answer:\n",
    "\n",
    "Multithreading in Python refers to the concurrent execution of two or more threads (smaller units of a process) within a single process.\n",
    "Why is it used?\n",
    "To improve the responsiveness of applications (e.g., in GUIs) by performing background operations without freezing the main program.\n",
    "To handle I/O-bound tasks (like network operations, file I/O, etc.) concurrently, which can improve performance when waiting for external events.\n",
    "Although Python’s Global Interpreter Lock (GIL) restricts parallel execution of CPU-bound threads, multithreading can still be beneficial for I/O-bound operations.\n",
    "Module Used:\n",
    "The built-in threading module is used for handling threads in Python."
   ]
  },
  {
   "cell_type": "code",
   "execution_count": 2,
   "metadata": {},
   "outputs": [
    {
     "name": "stdout",
     "output_type": "stream",
     "text": [
      "Active threads: 6\n",
      "Current thread: MainThread\n",
      "List of active threads: [<_MainThread(MainThread, started 3356)>, <Thread(IOPub, started daemon 18200)>, <Heartbeat(Heartbeat, started daemon 7316)>, <ControlThread(Control, started daemon 4100)>, <HistorySavingThread(IPythonHistorySavingThread, started 18232)>, <ParentPollerWindows(Thread-3, started daemon 7416)>]\n"
     ]
    },
    {
     "name": "stderr",
     "output_type": "stream",
     "text": [
      "C:\\Users\\acer\\AppData\\Local\\Temp\\ipykernel_3240\\998168449.py:9: DeprecationWarning: activeCount() is deprecated, use active_count() instead\n",
      "  print(\"Active threads:\", threading.activeCount())\n",
      "C:\\Users\\acer\\AppData\\Local\\Temp\\ipykernel_3240\\998168449.py:19: DeprecationWarning: currentThread() is deprecated, use current_thread() instead\n",
      "  print(\"Current thread:\", threading.currentThread().getName())\n",
      "C:\\Users\\acer\\AppData\\Local\\Temp\\ipykernel_3240\\998168449.py:19: DeprecationWarning: getName() is deprecated, get the name attribute instead\n",
      "  print(\"Current thread:\", threading.currentThread().getName())\n"
     ]
    }
   ],
   "source": [
    "#Q2. Why is the threading module used? Explain the use of the following functions:\n",
    "#1.activeCount()\n",
    "\n",
    "#Purpose: Returns the number of Thread objects that are currently active.\n",
    "\n",
    "#Example:\n",
    "#python\n",
    "import threading\n",
    "print(\"Active threads:\", threading.activeCount())\n",
    "\n",
    "#2.currentThread()\n",
    "\n",
    "#Purpose: Returns the current thread object (the thread from which the call is made).\n",
    "\n",
    "#Example:\n",
    "#python\n",
    "\n",
    "import threading\n",
    "print(\"Current thread:\", threading.currentThread().getName())\n",
    "\n",
    "#3.enumerate()\n",
    "\n",
    "#Purpose: Returns a list of all Thread objects that are currently active.\n",
    "#Example:\n",
    "#python\n",
    "\n",
    "import threading\n",
    "print(\"List of active threads:\", threading.enumerate())\n",
    "\n",
    "#Explanation: The threading module provides these functions to monitor and manage threads, enabling developers to check how many #threads are running, identify the current thread, and list all active threads.\n",
    "\n"
   ]
  },
  {
   "cell_type": "markdown",
   "metadata": {},
   "source": [
    "Q3. Explain the following functions in the context of threading:\n",
    "Ans:-\n",
    "run()\n",
    "Purpose: Contains the code that a thread executes. In a subclass of Thread, you override the run() method to define what the thread should do.\n",
    "start()\n",
    "Purpose: Initiates a thread’s activity. When you call start(), it internally calls the thread’s run() method in a separate thread of control.\n",
    "join()\n",
    "Purpose: Blocks the calling thread until the thread on which join() is called terminates. It ensures that a thread has completed its execution before moving on.\n",
    "isAlive() (or is_alive())\n",
    "Purpose: Returns True if the thread is still running (alive), and False otherwise."
   ]
  },
  {
   "cell_type": "code",
   "execution_count": 4,
   "metadata": {},
   "outputs": [
    {
     "name": "stdout",
     "output_type": "stream",
     "text": [
      "Before starting thread, is alive? False\n",
      "Worker thread is starting...\n",
      "After starting thread, is alive? True\n",
      "Worker thread is finished.\n",
      "After joining thread, is alive? False\n"
     ]
    }
   ],
   "source": [
    "import threading\n",
    "import time\n",
    "\n",
    "def worker():\n",
    "    print(\"Worker thread is starting...\")\n",
    "    time.sleep(2)\n",
    "    print(\"Worker thread is finished.\")\n",
    "\n",
    "# Create a Thread instance\n",
    "t = threading.Thread(target=worker)\n",
    "\n",
    "print(\"Before starting thread, is alive?\", t.is_alive())\n",
    "t.start()  # This calls worker() in a new thread.\n",
    "print(\"After starting thread, is alive?\", t.is_alive())\n",
    "t.join()  # Wait for the thread to finish.\n",
    "print(\"After joining thread, is alive?\", t.is_alive())\n"
   ]
  },
  {
   "cell_type": "markdown",
   "metadata": {},
   "source": [
    "Q4. Write a Python program to create two threads.\n",
    "Thread one: Prints the list of squares of a given list of numbers.\n",
    "Thread two: Prints the list of cubes of a given list of numbers."
   ]
  },
  {
   "cell_type": "code",
   "execution_count": 5,
   "metadata": {},
   "outputs": [
    {
     "name": "stdout",
     "output_type": "stream",
     "text": [
      "Squares:Cubes: [1, 8, 27, 64, 125]\n",
      " [1, 4, 9, 16, 25]\n",
      "Both threads have finished execution.\n"
     ]
    }
   ],
   "source": [
    "import threading\n",
    "\n",
    "# Function to print squares of numbers\n",
    "def print_squares(numbers):\n",
    "    squares = [n**2 for n in numbers]\n",
    "    print(\"Squares:\", squares)\n",
    "\n",
    "# Function to print cubes of numbers\n",
    "def print_cubes(numbers):\n",
    "    cubes = [n**3 for n in numbers]\n",
    "    print(\"Cubes:\", cubes)\n",
    "\n",
    "# List of numbers\n",
    "numbers = [1, 2, 3, 4, 5]\n",
    "\n",
    "# Create threads\n",
    "thread1 = threading.Thread(target=print_squares, args=(numbers,))\n",
    "thread2 = threading.Thread(target=print_cubes, args=(numbers,))\n",
    "\n",
    "# Start threads\n",
    "thread1.start()\n",
    "thread2.start()\n",
    "\n",
    "# Wait for both threads to complete\n",
    "thread1.join()\n",
    "thread2.join()\n",
    "\n",
    "print(\"Both threads have finished execution.\")\n"
   ]
  },
  {
   "cell_type": "markdown",
   "metadata": {},
   "source": [
    "Q5. State advantages and disadvantages of multithreading.\n",
    "\n",
    "\n",
    "Advantages:\n",
    "\n",
    "Responsiveness: Multithreading can keep applications responsive, especially in GUI applications, by offloading long-running tasks to background threads.\n",
    "\n",
    "Resource Sharing: Threads share the same memory space, which allows for efficient communication and data sharing.\n",
    "\n",
    "I/O Efficiency: Ideal for I/O-bound operations (network calls, file I/O) where threads can wait without blocking the entire process.\n",
    "\n",
    "Better Utilization of System Resources: Multithreading can improve the efficiency of programs by utilizing waiting times effectively.\n",
    "\n",
    "Disadvantages:\n",
    "\n",
    "Global Interpreter Lock (GIL): In CPython, the GIL prevents multiple threads from executing Python bytecodes at the same time, which limits the performance improvement for CPU-bound tasks.\n",
    "\n",
    "Complexity: Managing concurrent threads can be complex and error-prone. Issues such as race conditions, deadlocks, and synchronization problems may arise.\n",
    "\n",
    "Debugging Difficulty: Debugging multithreaded programs is more challenging due to the non-deterministic nature of thread execution.\n",
    "\n",
    "Overhead: The creation and management of threads have overhead, which might reduce performance if not managed properly."
   ]
  },
  {
   "cell_type": "markdown",
   "metadata": {},
   "source": [
    "Q6. Explain deadlocks and race conditions.\n",
    "\n",
    "Deadlocks:\n",
    "\n",
    "Definition: A deadlock occurs when two or more threads are blocked forever, each waiting for the other to release a resource. In other words, the threads are stuck in a cyclic dependency.\n",
    "\n",
    "Example Scenario:\n",
    "Imagine two threads, Thread A and Thread B.\n",
    "Thread A holds Resource 1 and waits to acquire Resource 2.\n",
    "Thread B holds Resource 2 and waits to acquire Resource 1.\n",
    "Since neither thread can proceed until the other releases the resource, both become deadlocked.\n",
    "\n",
    "Race Conditions:\n",
    "\n",
    "Definition: A race condition occurs when the outcome of a program depends on the timing or sequence of execution of threads, leading to unpredictable results. It happens when multiple threads access shared data simultaneously and at least one thread modifies the data."
   ]
  },
  {
   "cell_type": "code",
   "execution_count": 6,
   "metadata": {},
   "outputs": [
    {
     "name": "stdout",
     "output_type": "stream",
     "text": [
      "Final counter value: 200000\n"
     ]
    }
   ],
   "source": [
    "import threading\n",
    "\n",
    "counter = 0\n",
    "\n",
    "def increment():\n",
    "    global counter\n",
    "    for _ in range(100000):\n",
    "        counter += 1\n",
    "\n",
    "thread1 = threading.Thread(target=increment)\n",
    "thread2 = threading.Thread(target=increment)\n",
    "\n",
    "thread1.start()\n",
    "thread2.start()\n",
    "thread1.join()\n",
    "thread2.join()\n",
    "\n",
    "print(\"Final counter value:\", counter)\n"
   ]
  },
  {
   "cell_type": "markdown",
   "metadata": {},
   "source": []
  }
 ],
 "metadata": {
  "kernelspec": {
   "display_name": "Python 3",
   "language": "python",
   "name": "python3"
  },
  "language_info": {
   "codemirror_mode": {
    "name": "ipython",
    "version": 3
   },
   "file_extension": ".py",
   "mimetype": "text/x-python",
   "name": "python",
   "nbconvert_exporter": "python",
   "pygments_lexer": "ipython3",
   "version": "3.12.4"
  }
 },
 "nbformat": 4,
 "nbformat_minor": 2
}
