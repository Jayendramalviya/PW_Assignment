{
 "cells": [
  {
   "cell_type": "markdown",
   "id": "5f5e42aa",
   "metadata": {},
   "source": [
    "Q1. Explain Class and Object with respect to Object-Oriented Programming. Give a suitable example."
   ]
  },
  {
   "cell_type": "markdown",
   "id": "1cc764b8",
   "metadata": {},
   "source": [
    "In object-oriented programming (OOP), a class is a blueprint or a template for creating objects. It defines the common properties and behaviors that objects of a certain type will have. A class encapsulates data (attributes) and methods (functions) that operate on that data. It provides a way to define the structure and behavior of objects.\n",
    "\n",
    "An object, on the other hand, is an instance of a class. It is a specific entity created from the class, with its own unique set of data and the ability to perform actions defined by the class methods. An object represents a real-world entity or concept.\n",
    "\n",
    "To illustrate this concept, let's consider a class called \"Car\":\n",
    "\n",
    "\n"
   ]
  },
  {
   "cell_type": "code",
   "execution_count": 2,
   "id": "e5f93764",
   "metadata": {},
   "outputs": [],
   "source": [
    "class Car:\n",
    "    def __init__(self, brand, model, color):\n",
    "        self.brand = brand\n",
    "        self.model = model\n",
    "        self.color = color\n",
    "    \n",
    "    def start_engine(self):\n",
    "        print(\"The car's engine is running.\")\n",
    "    \n",
    "    def stop_engine(self):\n",
    "        print(\"The car's engine is stopped.\")\n",
    "    \n",
    "    def display_info(self):\n",
    "        print(f\"Brand: {self.brand}\")\n",
    "        print(f\"Model: {self.model}\")\n",
    "        print(f\"Color: {self.color}\")\n"
   ]
  },
  {
   "cell_type": "code",
   "execution_count": 3,
   "id": "50e9d2c5",
   "metadata": {},
   "outputs": [],
   "source": [
    "car1 = Car(\"Toyota\", \"Camry\", \"Silver\")\n",
    "car2 = Car(\"Tesla\", \"Model S\", \"Red\")\n"
   ]
  },
  {
   "cell_type": "code",
   "execution_count": 4,
   "id": "04495995",
   "metadata": {},
   "outputs": [
    {
     "name": "stdout",
     "output_type": "stream",
     "text": [
      "The car's engine is running.\n",
      "Brand: Tesla\n",
      "Model: Model S\n",
      "Color: Red\n"
     ]
    }
   ],
   "source": [
    "car1.start_engine()     \n",
    "car2.display_info()\n",
    "\n"
   ]
  },
  {
   "cell_type": "markdown",
   "id": "0c7f3a84",
   "metadata": {},
   "source": [
    "Q2. Name the four pillars of OOPs."
   ]
  },
  {
   "cell_type": "markdown",
   "id": "e9d7ca66",
   "metadata": {},
   "source": [
    "The four pillars of object-oriented programming (OOP) are:\n",
    "\n",
    "Encapsulation\n",
    "Inheritance \n",
    "Polymorphism \n",
    "Abstraction\n",
    "\n"
   ]
  },
  {
   "cell_type": "markdown",
   "id": "0cf2e14d",
   "metadata": {},
   "source": [
    "Q3. Explain why the __init__() function is used. Give a suitable example."
   ]
  },
  {
   "cell_type": "markdown",
   "id": "ee633d45",
   "metadata": {},
   "source": [
    "The __init__() function is a special method in Python classes that is automatically called when an object of the class is created. It is used to initialize the attributes or state of the object. The __init__() method allows you to define the initial values of the object's attributes, perform any necessary setup or computations, and prepare the object for use."
   ]
  },
  {
   "cell_type": "code",
   "execution_count": 7,
   "id": "c4cfcdf8",
   "metadata": {},
   "outputs": [
    {
     "name": "stdout",
     "output_type": "stream",
     "text": [
      "Name: Jayendra\n",
      "Age: 19\n",
      "Name: Malviya\n",
      "Age: 23\n"
     ]
    }
   ],
   "source": [
    "class Person:\n",
    "    def __init__(self, name, age):\n",
    "        self.name = name\n",
    "        self.age = age\n",
    "\n",
    "    def display_info(self):\n",
    "        print(f\"Name: {self.name}\")\n",
    "        print(f\"Age: {self.age}\")\n",
    "\n",
    "\n",
    "person1 = Person(\"Jayendra\", 19)\n",
    "person2 = Person(\"Malviya\", 23)\n",
    "\n",
    "\n",
    "person1.display_info()\n",
    "person2.display_info()\n"
   ]
  },
  {
   "cell_type": "markdown",
   "id": "245cd516",
   "metadata": {},
   "source": [
    "Q4. Why self is used in OOPs?"
   ]
  },
  {
   "cell_type": "markdown",
   "id": "48d9e805",
   "metadata": {},
   "source": [
    "In object-oriented programming (OOP), the self keyword is used as a convention to refer to the instance of the class within its own methods. It is the first parameter in most class methods, including the constructor (__init__() method), instance methods, and static methods."
   ]
  },
  {
   "cell_type": "markdown",
   "id": "8233c5ab",
   "metadata": {},
   "source": [
    "Q5. What is inheritance? Give an example for each type of inheritance."
   ]
  },
  {
   "cell_type": "markdown",
   "id": "257d9183",
   "metadata": {},
   "source": [
    "Inheritance is a fundamental concept in object-oriented programming (OOP) that allows the creation of new classes (derived classes) based on existing classes (base or parent classes). "
   ]
  },
  {
   "cell_type": "markdown",
   "id": "e11283f0",
   "metadata": {},
   "source": [
    "Single Inheritance:\n",
    "Single inheritance involves one base class and one derived class. The derived class inherits the attributes and methods of the base class.\n",
    "\n"
   ]
  },
  {
   "cell_type": "code",
   "execution_count": 10,
   "id": "7cfd6898",
   "metadata": {},
   "outputs": [
    {
     "name": "stdout",
     "output_type": "stream",
     "text": [
      "Buddy is eating.\n",
      "Woof!\n"
     ]
    }
   ],
   "source": [
    "class Animal:\n",
    "    def __init__(self, name):\n",
    "        self.name = name\n",
    "\n",
    "    def eat(self):\n",
    "        print(f\"{self.name} is eating.\")\n",
    "\n",
    "class Dog(Animal):\n",
    "    def bark(self):\n",
    "        print(\"Woof!\")\n",
    "\n",
    "dog = Dog(\"Buddy\")\n",
    "dog.eat() \n",
    "dog.bark()"
   ]
  },
  {
   "cell_type": "markdown",
   "id": "90e3e257",
   "metadata": {},
   "source": [
    "Multiple Inheritance:\n",
    "Multiple inheritance involves multiple base classes and one derived class. The derived class inherits attributes and methods from multiple base classes.\n",
    "\n"
   ]
  },
  {
   "cell_type": "code",
   "execution_count": 11,
   "id": "c175b0f5",
   "metadata": {},
   "outputs": [
    {
     "name": "stdout",
     "output_type": "stream",
     "text": [
      "Flying...\n",
      "Swimming...\n",
      "Quack!\n"
     ]
    }
   ],
   "source": [
    "class Flyer:\n",
    "    def fly(self):\n",
    "        print(\"Flying...\")\n",
    "\n",
    "class Swimmer:\n",
    "    def swim(self):\n",
    "        print(\"Swimming...\")\n",
    "\n",
    "class Duck(Flyer, Swimmer):\n",
    "    def quack(self):\n",
    "        print(\"Quack!\")\n",
    "\n",
    "duck = Duck()\n",
    "duck.fly()\n",
    "duck.swim()  \n",
    "duck.quack()  "
   ]
  },
  {
   "cell_type": "markdown",
   "id": "1dfd02f3",
   "metadata": {},
   "source": [
    "Multilevel Inheritance:\n",
    "Multilevel inheritance involves a chain of inheritance with multiple levels. A derived class becomes the base class for another derived class.\n",
    "\n"
   ]
  },
  {
   "cell_type": "code",
   "execution_count": 12,
   "id": "7913aa89",
   "metadata": {},
   "outputs": [
    {
     "name": "stdout",
     "output_type": "stream",
     "text": [
      "Breathing...\n",
      "Feeding milk...\n",
      "Swimming...\n"
     ]
    }
   ],
   "source": [
    "class Animal:\n",
    "    def breathe(self):\n",
    "        print(\"Breathing...\")\n",
    "\n",
    "class Mammal(Animal):\n",
    "    def feed_milk(self):\n",
    "        print(\"Feeding milk...\")\n",
    "\n",
    "class Whale(Mammal):\n",
    "    def swim(self):\n",
    "        print(\"Swimming...\")\n",
    "\n",
    "whale = Whale()\n",
    "whale.breathe()\n",
    "whale.feed_milk() \n",
    "whale.swim()"
   ]
  },
  {
   "cell_type": "code",
   "execution_count": null,
   "id": "ba1011ab",
   "metadata": {},
   "outputs": [],
   "source": []
  }
 ],
 "metadata": {
  "kernelspec": {
   "display_name": "Python 3 (ipykernel)",
   "language": "python",
   "name": "python3"
  },
  "language_info": {
   "codemirror_mode": {
    "name": "ipython",
    "version": 3
   },
   "file_extension": ".py",
   "mimetype": "text/x-python",
   "name": "python",
   "nbconvert_exporter": "python",
   "pygments_lexer": "ipython3",
   "version": "3.9.13"
  }
 },
 "nbformat": 4,
 "nbformat_minor": 5
}
