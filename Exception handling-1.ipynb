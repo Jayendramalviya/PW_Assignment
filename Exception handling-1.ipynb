{
 "cells": [
  {
   "cell_type": "markdown",
   "metadata": {},
   "source": [
    "Q1. What is an Exception in Python? Write the difference between Exceptions and Syntax errors.\n",
    "\n",
    "\n",
    "Answer:\n",
    "\n",
    "Exception:\n",
    "An exception in Python is an error event that occurs during the execution of a program, disrupting its normal flow. Examples include division by zero, file not found, or an index out of range.\n",
    "\n",
    "Syntax Error:\n",
    "A syntax error occurs when the code violates the rules of Python’s grammar. These errors are detected during the parsing (compilation) stage and prevent the program from running.\n",
    "\n",
    "Differences:\n",
    "\n",
    "When they occur:\n",
    "\n",
    "Syntax errors occur at compile time (before the code runs).\n",
    "Exceptions occur at runtime (while the code is executing).\n",
    "Nature:\n",
    "\n",
    "Syntax errors are mistakes in the code structure (e.g., missing colons, incorrect indentation).\n",
    "Exceptions are runtime errors due to invalid operations (e.g., dividing by zero)."
   ]
  },
  {
   "cell_type": "code",
   "execution_count": 1,
   "metadata": {},
   "outputs": [
    {
     "name": "stdout",
     "output_type": "stream",
     "text": [
      "Hello\n"
     ]
    },
    {
     "ename": "ZeroDivisionError",
     "evalue": "division by zero",
     "output_type": "error",
     "traceback": [
      "\u001b[1;31m---------------------------------------------------------------------------\u001b[0m",
      "\u001b[1;31mZeroDivisionError\u001b[0m                         Traceback (most recent call last)",
      "Cell \u001b[1;32mIn[1], line 5\u001b[0m\n\u001b[0;32m      3\u001b[0m     \u001b[38;5;28mprint\u001b[39m(\u001b[38;5;124m\"\u001b[39m\u001b[38;5;124mHello\u001b[39m\u001b[38;5;124m\"\u001b[39m)\n\u001b[0;32m      4\u001b[0m \u001b[38;5;66;03m# Division by zero raises a ZeroDivisionError at runtime\u001b[39;00m\n\u001b[1;32m----> 5\u001b[0m result \u001b[38;5;241m=\u001b[39m \u001b[38;5;241;43m10\u001b[39;49m\u001b[43m \u001b[49m\u001b[38;5;241;43m/\u001b[39;49m\u001b[43m \u001b[49m\u001b[38;5;241;43m0\u001b[39;49m  \n",
      "\u001b[1;31mZeroDivisionError\u001b[0m: division by zero"
     ]
    }
   ],
   "source": [
    "\n",
    "# Missing colon results in a syntax error\n",
    "if True :\n",
    "    print(\"Hello\")\n",
    "# Division by zero raises a ZeroDivisionError at runtime\n",
    "result = 10 / 0  \n",
    "\n"
   ]
  },
  {
   "cell_type": "markdown",
   "metadata": {},
   "source": [
    "Q2. What happens when an exception is not handled? Explain with an example.\n",
    "\n",
    "Answer:\n",
    "When an exception is not handled (i.e., not caught using try/except blocks), Python stops executing the program and displays a traceback (error message), resulting in an abrupt termination of the program.\n",
    "\n",
    "Example:\n",
    "def divide(a, b):\n",
    "    return a / b\n",
    "\n",
    "#This will raise a ZeroDivisionError and crash the program\n",
    "print(divide(5, 0))\n",
    "\n",
    "Explanation:\n",
    "Since there is no exception handling mechanism (try/except) around the division, attempting to divide by zero causes a ZeroDivisionError, and the program halts with a traceback error message."
   ]
  },
  {
   "cell_type": "markdown",
   "metadata": {},
   "source": [
    "Q3. Which Python statements are used to catch and handle exceptions? Explain with an example.\n",
    "\n",
    "\n",
    "Answer:\n",
    "Python uses the following statements for exception handling:\n",
    "\n",
    "try\n",
    "except\n",
    "else\n",
    "finally\n",
    "raise"
   ]
  },
  {
   "cell_type": "code",
   "execution_count": 2,
   "metadata": {},
   "outputs": [
    {
     "name": "stdout",
     "output_type": "stream",
     "text": [
      "Error: You cannot divide by zero!\n",
      "Execution of the try block is complete.\n"
     ]
    }
   ],
   "source": [
    "try:\n",
    "    # Code that might raise an exception\n",
    "    result = 10 / 0\n",
    "except ZeroDivisionError:\n",
    "    # Handling the specific exception\n",
    "    print(\"Error: You cannot divide by zero!\")\n",
    "else:\n",
    "    # This block executes if no exception occurs\n",
    "    print(\"Division successful, result =\", result)\n",
    "finally:\n",
    "    # This block always executes, regardless of exceptions\n",
    "    print(\"Execution of the try block is complete.\")\n"
   ]
  },
  {
   "cell_type": "code",
   "execution_count": 3,
   "metadata": {},
   "outputs": [
    {
     "name": "stdout",
     "output_type": "stream",
     "text": [
      "ValueError occurred: invalid literal for int() with base 10: ''\n",
      "Execution complete.\n"
     ]
    }
   ],
   "source": [
    "#Q4. Explain with an example: try and else, finally, and raise\n",
    "\n",
    "\n",
    "try:\n",
    "    num = int(input(\"Enter a positive integer: \"))\n",
    "    if num <= 0:\n",
    "        # Raise an exception if the input is not a positive integer\n",
    "        raise ValueError(\"The number must be positive.\")\n",
    "except ValueError as e:\n",
    "    # Exception handling block\n",
    "    print(\"ValueError occurred:\", e)\n",
    "else:\n",
    "    # Executes if no exception occurs\n",
    "    print(\"You entered:\", num)\n",
    "finally:\n",
    "    # Executes regardless of whether an exception occurred\n",
    "    print(\"Execution complete.\")"
   ]
  },
  {
   "cell_type": "markdown",
   "metadata": {},
   "source": [
    "Q5. What are Custom Exceptions in Python? Why do we need Custom Exceptions? Explain with an example.\n",
    "\n",
    "Answer:\n",
    "\n",
    "Custom Exceptions:\n",
    "Custom exceptions are user-defined exception classes that inherit from Python’s built-in Exception class (or one of its subclasses). They allow you to create more specific and meaningful error types for your application.\n",
    "\n",
    "Why We Need Them:\n",
    "\n",
    "To provide more detailed error messages.\n",
    "To differentiate between different error conditions in your application.\n",
    "To handle specific error cases in a clean and organized way.\n"
   ]
  },
  {
   "cell_type": "code",
   "execution_count": 4,
   "metadata": {},
   "outputs": [
    {
     "name": "stdout",
     "output_type": "stream",
     "text": [
      "Custom Exception Caught: Cannot compute square root of a negative number.\n"
     ]
    }
   ],
   "source": [
    "\n",
    "# Define a custom exception class\n",
    "class NegativeNumberError(Exception):\n",
    "    def __init__(self, message=\"Negative numbers are not allowed.\"):\n",
    "        self.message = message\n",
    "        super().__init__(self.message)\n",
    "\n",
    "def compute_square_root(x):\n",
    "    if x < 0:\n",
    "        # Raise custom exception for negative numbers\n",
    "        raise NegativeNumberError(\"Cannot compute square root of a negative number.\")\n",
    "    return x ** 0.5\n",
    "\n",
    "try:\n",
    "    print(compute_square_root(-9))\n",
    "except NegativeNumberError as e:\n",
    "    print(\"Custom Exception Caught:\", e)"
   ]
  },
  {
   "cell_type": "code",
   "execution_count": 5,
   "metadata": {},
   "outputs": [
    {
     "name": "stdout",
     "output_type": "stream",
     "text": [
      "Caught Custom Exception: Value must be non-negative!\n"
     ]
    }
   ],
   "source": [
    "#Q6. Create a custom exception class. Use this class to handle an exception.\n",
    "\n",
    "# Custom Exception Class\n",
    "class CustomError(Exception):\n",
    "    \"\"\"Custom exception for demonstration purposes.\"\"\"\n",
    "    def __init__(self, message=\"A custom error occurred.\"):\n",
    "        self.message = message\n",
    "        super().__init__(self.message)\n",
    "\n",
    "# Function that uses the custom exception\n",
    "def process_value(value):\n",
    "    if value < 0:\n",
    "        raise CustomError(\"Value must be non-negative!\")\n",
    "    return value * 2\n",
    "\n",
    "# Using the custom exception in practice\n",
    "try:\n",
    "    result = process_value(-5)\n",
    "    print(\"Result:\", result)\n",
    "except CustomError as e:\n",
    "    print(\"Caught Custom Exception:\", e)\n"
   ]
  },
  {
   "cell_type": "code",
   "execution_count": null,
   "metadata": {},
   "outputs": [],
   "source": []
  },
  {
   "cell_type": "code",
   "execution_count": null,
   "metadata": {},
   "outputs": [],
   "source": []
  },
  {
   "cell_type": "code",
   "execution_count": null,
   "metadata": {},
   "outputs": [],
   "source": []
  }
 ],
 "metadata": {
  "kernelspec": {
   "display_name": "Python 3",
   "language": "python",
   "name": "python3"
  },
  "language_info": {
   "codemirror_mode": {
    "name": "ipython",
    "version": 3
   },
   "file_extension": ".py",
   "mimetype": "text/x-python",
   "name": "python",
   "nbconvert_exporter": "python",
   "pygments_lexer": "ipython3",
   "version": "3.12.4"
  }
 },
 "nbformat": 4,
 "nbformat_minor": 2
}
