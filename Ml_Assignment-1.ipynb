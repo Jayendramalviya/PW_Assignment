{
 "cells": [
  {
   "cell_type": "markdown",
   "id": "74a46b50",
   "metadata": {},
   "source": [
    "Q1.Explain the following with an Example:-\n"
   ]
  },
  {
   "cell_type": "markdown",
   "id": "4015bc51",
   "metadata": {},
   "source": [
    "1.Artificial Intelligence:-AI stands for Artificial Intelligence. It refers to the simulation of human intelligence in machines that can perform tasks typically requiring human intelligence, such as learning, problem-solving, perception, and decision-making.\n",
    "2.Machine Learning:-ML stands for Machine Learning. It is a subset of artificial intelligence that involves the use of algorithms and statistical models to enable computers to learn from and make predictions or decisions based on data, without being explicitly programmed for each specific task.\n",
    "3.Deep Learning:-DL stands for Deep Learning. It is a subfield of machine learning that uses artificial neural networks, inspired by the structure and function of the human brain, to learn and make sense of complex patterns and data representations. "
   ]
  },
  {
   "cell_type": "markdown",
   "id": "48127d8b",
   "metadata": {},
   "source": [
    "Q2- What is supervised learning?list some examples."
   ]
  },
  {
   "cell_type": "markdown",
   "id": "580d4a6f",
   "metadata": {},
   "source": [
    "Supervised learning is a type of machine learning where the algorithm is trained on labeled data, meaning the input data and the corresponding correct output are provided during training. The goal of supervised learning is to learn a mapping from inputs to outputs so that the algorithm can make predictions on new, unseen data.\n",
    "\n",
    "Examples of supervised learning tasks include:\n",
    "\n",
    "Image Classification: Given a dataset of images with labeled categories, the algorithm learns to classify new images into the correct categories (e.g., cat or dog).\n",
    "\n",
    "Spam Detection: In this task, the algorithm learns to distinguish between spam and non-spam (ham) emails based on labeled examples."
   ]
  },
  {
   "cell_type": "markdown",
   "id": "9fdee25f",
   "metadata": {},
   "source": [
    "Q2- What is Unsupervised learning?list some examples."
   ]
  },
  {
   "cell_type": "markdown",
   "id": "dcc9b982",
   "metadata": {},
   "source": [
    "Unsupervised learning is a type of machine learning where the algorithm is trained on unlabeled data, meaning the input data is provided without any corresponding output labels. The goal of unsupervised learning is to find patterns, structures, and relationships within the data without explicit guidance.\n",
    "\n",
    "Examples of unsupervised learning tasks include:\n",
    "\n",
    "Clustering: Grouping similar data points together based on their characteristics. For example, clustering customers based on their purchasing behavior to identify market segments.\n",
    "\n",
    "Anomaly Detection: Identifying unusual patterns or outliers in data that deviate significantly from the norm, such as detecting fraudulent transactions in financial data."
   ]
  },
  {
   "cell_type": "markdown",
   "id": "b9429346",
   "metadata": {},
   "source": [
    "Q4- What is the difference between AI, ML, DL, and DS?"
   ]
  },
  {
   "cell_type": "markdown",
   "id": "b5c4e1d6",
   "metadata": {},
   "source": [
    "AI: Simulating human intelligence in machines.\n",
    "ML: Algorithms learning from data to make predictions.\n",
    "DL: Specialized ML using neural networks for complex tasks.\n",
    "DS: Extracting insights from data using various techniques."
   ]
  },
  {
   "cell_type": "markdown",
   "id": "88e8f7cc",
   "metadata": {},
   "source": [
    "Q5- What are the main differences between supervised, unsupervised, and semi-supervised learning?"
   ]
  },
  {
   "cell_type": "markdown",
   "id": "ba069580",
   "metadata": {},
   "source": [
    "In summary, supervised learning uses labeled data for prediction, unsupervised learning discovers patterns in unlabeled data, and semi-supervised learning combines a small amount of labeled data with a larger pool of unlabeled data to improve learning performance."
   ]
  },
  {
   "cell_type": "markdown",
   "id": "0a6fc210",
   "metadata": {},
   "source": [
    "Q6- What is train, test and validation split? Explain the importance of each item."
   ]
  },
  {
   "cell_type": "markdown",
   "id": "91e5a4d2",
   "metadata": {},
   "source": [
    "Train Set: Used to train the model on labeled data.\n",
    "\n",
    "Test Set: Used to evaluate the model's performance on unseen data.\n",
    "\n",
    "Validation Set: Used to fine-tune model hyperparameters and prevent overfitting.\n",
    "\n",
    "Its importances:-\n",
    "Train Set: Important for the model to learn and build knowledge from data.\n",
    "\n",
    "Test Set: Important for unbiased evaluation of model performance on new data.\n",
    "\n",
    "Validation Set: Important for tuning hyperparameters and preventing overfitting to test data.\n",
    "\n",
    "\n",
    "\n",
    "\n"
   ]
  },
  {
   "cell_type": "markdown",
   "id": "4c3b31aa",
   "metadata": {},
   "source": [
    "Q7- How can unsupervised learning be used in anomaly detection?"
   ]
  },
  {
   "cell_type": "markdown",
   "id": "a2bce115",
   "metadata": {},
   "source": [
    "Unsupervised learning can be effectively used in anomaly detection by leveraging its ability to find patterns and structures in data without the need for labeled examples of anomalies. Anomaly detection involves identifying data points that deviate significantly from the normal behavior or distribution of the majority of data points.\n",
    "\n",
    "Here's how unsupervised learning can be applied to anomaly detection:\n",
    "\n",
    "1.Clustering-Based Anomaly Detection:\n",
    "Unsupervised clustering algorithms, such as K-means or DBSCAN, can be applied to group data points into clusters based on their similarities.\n",
    "Data points that do not belong to any cluster or belong to small, sparse clusters could be potential anomalies.\n",
    "The assumption is that anomalies will be far away from the majority of data points and will not cluster tightly with other points.\n",
    "\n",
    "2.Density-Based Anomaly Detection:\n",
    "Density estimation techniques, like Gaussian Mixture Models (GMM) or Kernel Density Estimation, can be used to model the distribution of the data.\n",
    "Data points that have low probability density under the learned model might be considered anomalies.\n",
    "The idea is that anomalies are regions of low probability density in the data space.\n",
    "\n",
    "3.Autoencoders for Anomaly Detection:\n",
    "Autoencoders are a type of neural network used for unsupervised learning that learns to encode the input data into a lower-dimensional representation and then decode it back to the original data format.\n",
    "During training, the autoencoder learns to reconstruct normal data instances accurately.\n",
    "Anomalies, which deviate significantly from the normal data distribution, will be poorly reconstructed and can be detected as reconstruction error.\n",
    "\n",
    "4.One-Class SVM:\n",
    "One-Class Support Vector Machine (SVM) is an unsupervised algorithm designed for novelty detection, which is a form of anomaly detection.\n",
    "It learns a decision boundary around the majority of data points in a way that encompasses most of the data, treating the rest as potential anomalies.\n",
    "\n",
    "Data points lying outside this boundary are classified as anomalies.\n",
    "The advantage of using unsupervised learning for anomaly detection is that it can identify anomalies without requiring labeled examples of anomalies, which can be difficult or expensive to obtain. By discovering patterns and structures in data, unsupervised learning can efficiently detect anomalies that deviate from the norm, making it a valuable tool for anomaly detection tasks.\n",
    "\n",
    "\n",
    "\n",
    "\n"
   ]
  },
  {
   "cell_type": "markdown",
   "id": "699f51bb",
   "metadata": {},
   "source": [
    "Q8- List down some commonly used algorithm in supervised and unsupervised machine learning?"
   ]
  },
  {
   "cell_type": "markdown",
   "id": "f111ef47",
   "metadata": {},
   "source": [
    "\n",
    "Supervised Learning Algorithms:\n",
    "\n",
    "1.Linear Regression: Used for regression tasks to predict continuous numerical values.\n",
    "\n",
    "2.Logistic Regression: Used for binary classification tasks, where the output is binary (e.g., true/false, yes/no).\n",
    "\n",
    "3.Decision Trees: Used for both classification and regression tasks, providing interpretable models.\n",
    "\n",
    "4.Random Forest: An ensemble method based on decision trees, providing improved performance and robustness.\n",
    "\n",
    "5.Support Vector Machines (SVM): Effective for classification tasks, especially in high-dimensional spaces.\n",
    "\n",
    "6.Naive Bayes: A probabilistic algorithm commonly used for text classification and spam detection.\n",
    "\n",
    "7.K-Nearest Neighbors (KNN): A simple algorithm for classification and regression based on the similarity of data points.\n",
    "\n",
    "8.Gradient Boosting Machines (GBM): A powerful ensemble method used for both classification and regression tasks.\n",
    "\n",
    "\n",
    "\n",
    "Unsupervised Learning Algorithms:\n",
    "\n",
    "1.K-Means: A popular clustering algorithm that partitions data points into K clusters based on similarity.\n",
    "\n",
    "2.DBSCAN (Density-Based Spatial Clustering of Applications with Noise): Clusters data points based on density.\n",
    "\n",
    "3.Hierarchical Clustering: Builds a tree-like structure of nested clusters to group data points.\n",
    "\n",
    "4.Gaussian Mixture Models (GMM): A probabilistic model used for clustering and density estimation.\n",
    "\n",
    "5.Principal Component Analysis (PCA): A dimensionality reduction technique that identifies important features in data.\n",
    "\n",
    "6.t-distributed Stochastic Neighbor Embedding (t-SNE): Used for data visualization by mapping high-dimensional data into a 2D or 3D space.\n",
    "\n",
    "7.Autoencoders: Neural network-based models used for feature learning and anomaly detection.\n",
    "\n",
    "Isolation Forest: An ensemble method for detecting anomalies based on isolating them in binary trees."
   ]
  }
 ],
 "metadata": {
  "kernelspec": {
   "display_name": "Python 3 (ipykernel)",
   "language": "python",
   "name": "python3"
  },
  "language_info": {
   "codemirror_mode": {
    "name": "ipython",
    "version": 3
   },
   "file_extension": ".py",
   "mimetype": "text/x-python",
   "name": "python",
   "nbconvert_exporter": "python",
   "pygments_lexer": "ipython3",
   "version": "3.9.13"
  }
 },
 "nbformat": 4,
 "nbformat_minor": 5
}
