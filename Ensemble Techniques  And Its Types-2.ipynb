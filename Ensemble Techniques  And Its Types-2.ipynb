{
 "cells": [
  {
   "cell_type": "markdown",
   "metadata": {},
   "source": [
    "\n",
    "Q1. How does bagging reduce overfitting in decision trees?"
   ]
  },
  {
   "cell_type": "markdown",
   "metadata": {},
   "source": [
    "Bagging reduces overfitting by training multiple decision trees on different bootstrap samples (random subsets with replacement) of the dataset. By averaging predictions (or majority voting in classification), it smooths out noise and reduces variance, leading to better generalization."
   ]
  },
  {
   "cell_type": "markdown",
   "metadata": {},
   "source": [
    "Q2. What are the advantages and disadvantages of using different types of base learners in bagging?"
   ]
  },
  {
   "cell_type": "markdown",
   "metadata": {},
   "source": [
    "Advantages:\n",
    "Complex models (e.g., deep decision trees) benefit from reduced variance.\n",
    "Simple models can also be used, but they may not capture complex patterns.\n",
    "Disadvantages:\n",
    "Too simple models (e.g., shallow decision trees) may still have high bias.\n",
    "More complex models increase computational cost."
   ]
  },
  {
   "cell_type": "markdown",
   "metadata": {},
   "source": [
    "Q3. How does the choice of base learner affect the bias-variance tradeoff in bagging?"
   ]
  },
  {
   "cell_type": "markdown",
   "metadata": {},
   "source": [
    "High variance models (e.g., deep decision trees): Bagging significantly reduces overfitting by averaging multiple predictions.\n",
    "\n",
    "\n",
    "\n",
    "High bias models (e.g., shallow decision trees, linear models): Bagging has little effect because it does not improve underfitting."
   ]
  },
  {
   "cell_type": "markdown",
   "metadata": {},
   "source": [
    "Q4. Can bagging be used for both classification and regression tasks? How does it differ in each case?"
   ]
  },
  {
   "cell_type": "markdown",
   "metadata": {},
   "source": [
    "Yes, bagging can be used for both:\n",
    "\n",
    "Classification: Uses majority voting among models.\n",
    "\n",
    "\n",
    "Regression: Uses the average of predictions from all models."
   ]
  },
  {
   "cell_type": "markdown",
   "metadata": {},
   "source": [
    "Q5. What is the role of ensemble size in bagging? How many models should be included in the ensemble?"
   ]
  },
  {
   "cell_type": "markdown",
   "metadata": {},
   "source": [
    "A larger ensemble size generally improves performance by reducing variance, but after a certain point, gains diminish. A common choice is 100-500 models, but fewer may work well depending on the problem."
   ]
  },
  {
   "cell_type": "markdown",
   "metadata": {},
   "source": [
    "Q6. Can you provide an example of a real-world application of bagging in machine learning?"
   ]
  },
  {
   "cell_type": "markdown",
   "metadata": {},
   "source": [
    "Random Forest, a popular bagging-based model, is widely used in:\n",
    "\n",
    "Finance: Fraud detection and credit scoring.\n",
    "\n",
    "Healthcare: Disease prediction and medical diagnosis.\n",
    "\n",
    "E-commerce: Customer behavior analysis and recommendation systems."
   ]
  },
  {
   "cell_type": "markdown",
   "metadata": {},
   "source": []
  }
 ],
 "metadata": {
  "language_info": {
   "name": "python"
  }
 },
 "nbformat": 4,
 "nbformat_minor": 2
}
