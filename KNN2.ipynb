{
 "cells": [
  {
   "cell_type": "markdown",
   "metadata": {},
   "source": [
    "Q1. What is the main difference between the Euclidean distance metric and the Manhattan distance\n",
    "metric in KNN? How might this difference affect the performance of a KNN classifier or regressor?"
   ]
  },
  {
   "cell_type": "markdown",
   "metadata": {},
   "source": [
    "Euclidean distance measures the straight-line distance between two points, while Manhattan distance measures distance along grid-like paths. \n",
    "\n",
    "How might this difference affect the performance of a KNN classifier or regressor?\n",
    "\n",
    "- Euclidean distance is sensitive to large feature differences and works well in continuous spaces.\n",
    "\n",
    "- Manhattan distance is better suited for high-dimensional or grid-like data."
   ]
  },
  {
   "cell_type": "markdown",
   "metadata": {},
   "source": [
    "Q2. How do you choose the optimal value of k for a KNN classifier or regressor? What techniques can be\n",
    "used to determine the optimal k value?"
   ]
  },
  {
   "cell_type": "markdown",
   "metadata": {},
   "source": [
    "Use cross-validation techniques such as:\n",
    "\n",
    "- Grid search to test different k values.\n",
    "\n",
    "- The elbow method to identify the k with the best balance between bias and variance."
   ]
  },
  {
   "cell_type": "markdown",
   "metadata": {},
   "source": [
    "Q3. How does the choice of distance metric affect the performance of a KNN classifier or regressor? In\n",
    "what situations might you choose one distance metric over the other?"
   ]
  },
  {
   "cell_type": "markdown",
   "metadata": {},
   "source": [
    "Different distance metrics impact classification accuracy:\n",
    "\n",
    "- Euclidean is best for continuous data.\n",
    "\n",
    "- Manhattan is useful for high-dimensional or sparse data.\n",
    "\n",
    "\n",
    "\n",
    "In what situations might you choose one distance metric over the other?\n",
    "\n",
    "- Euclidean: When feature scaling is applied and the data is continuous.\n",
    "\n",
    "- Manhattan: When dealing with high-dimensional data or discrete features."
   ]
  },
  {
   "cell_type": "markdown",
   "metadata": {},
   "source": [
    "Q4. What are some common hyperparameters in KNN classifiers and regressors, and how do they affect\n",
    "the performance of the model? How might you go about tuning these hyperparameters to improve\n",
    "model performance?"
   ]
  },
  {
   "cell_type": "markdown",
   "metadata": {},
   "source": [
    "- k (number of neighbors): A small k increases variance, while a large k increases bias.\n",
    "\n",
    "- Distance metric (Euclidean, Manhattan, etc.): Affects how neighbors are selected.\n",
    "\n",
    "- Weighting scheme: Uniform weighting treats all neighbors equally, while distance-weighted gives more importance to closer points.\n",
    "\n",
    "How might you go about tuning these hyperparameters to improve model performance?\n",
    "\n",
    "Use grid search or random search with cross-validation to find the best combination."
   ]
  },
  {
   "cell_type": "markdown",
   "metadata": {},
   "source": [
    "Q5. How does the size of the training set affect the performance of a KNN classifier or regressor? What\n",
    "techniques can be used to optimize the size of the training set?"
   ]
  },
  {
   "cell_type": "markdown",
   "metadata": {},
   "source": [
    "- A large dataset improves accuracy but increases computational cost.\n",
    "\n",
    "- A small dataset can lead to high variance.\n",
    "\n",
    "What techniques can be used to optimize the size of the training set?\n",
    "\n",
    "- Feature selection to remove irrelevant data.\n",
    "\n",
    "- Dimensionality reduction (PCA) to speed up computation.\n",
    "\n",
    "- Using approximate nearest neighbor (ANN) methods to improve efficiency."
   ]
  },
  {
   "cell_type": "markdown",
   "metadata": {},
   "source": [
    "Q6. What are some potential drawbacks of using KNN as a classifier or regressor? How might you\n",
    "overcome these drawbacks to improve the performance of the model?"
   ]
  },
  {
   "cell_type": "markdown",
   "metadata": {},
   "source": [
    "- Computationally expensive for large datasets.\n",
    "\n",
    "- Sensitive to irrelevant features and the curse of dimensionality.\n",
    "\n",
    "- Memory-intensive as it stores all training data.\n",
    "\n",
    "How might you overcome these drawbacks to improve the performance of the model?\n",
    "\n",
    "- Use feature selection and dimensionality reduction.\n",
    "\n",
    "- Optimize k using cross-validation.\n",
    "\n",
    "- Implement efficient algorithms like KD-trees or Ball-trees for fast nearest neighbor search."
   ]
  },
  {
   "cell_type": "markdown",
   "metadata": {},
   "source": []
  }
 ],
 "metadata": {
  "language_info": {
   "name": "python"
  }
 },
 "nbformat": 4,
 "nbformat_minor": 2
}
