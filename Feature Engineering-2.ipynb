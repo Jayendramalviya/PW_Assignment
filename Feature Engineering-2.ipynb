{
 "cells": [
  {
   "cell_type": "markdown",
   "metadata": {},
   "source": [
    "Q1. What is the Filter method in feature selection, and how does it work?\n"
   ]
  },
  {
   "cell_type": "markdown",
   "metadata": {
    "vscode": {
     "languageId": "plaintext"
    }
   },
   "source": [
    "Filter Method in Feature Selection\n",
    "The Filter Method is a feature selection technique used in machine learning to select relevant features (independent variables) before training a model. It works by evaluating each feature individually, based on statistical tests, without involving a machine learning model.\n",
    "\n",
    "How It Works:\n",
    "Rank Features: Each feature is scored using a statistical measure that evaluates its relevance to the target variable.\n",
    "Set a Threshold: Features with scores above a certain threshold are selected, while less important features are removed.\n",
    "Train the Model: The reduced feature set is used to train the machine learning model.\n"
   ]
  },
  {
   "cell_type": "markdown",
   "metadata": {},
   "source": [
    "Q2. How does the Wrapper method differ from the Filter method in feature selection?\n"
   ]
  },
  {
   "cell_type": "markdown",
   "metadata": {},
   "source": [
    "1. Filter Method (Example: Correlation, Chi-Square, Mutual Information)\n",
    "\n",
    "Features are ranked based on a statistical measure.\n",
    "\n",
    "A threshold is applied to select top-ranked features.\n",
    "\n",
    "The reduced feature set is used for model training.\n",
    "\n",
    "\n",
    "\n",
    "2. Wrapper Method (Example: Forward/Backward Selection, Recursive Feature Elimination)\n",
    "A subset of features is selected.\n",
    "\n",
    "A model is trained and evaluated on this subset.\n",
    "\n",
    "Features are added/removed iteratively to optimize performance.\n",
    "\n",
    "The best-performing subset is selected."
   ]
  },
  {
   "cell_type": "markdown",
   "metadata": {},
   "source": [
    "Q3. What are some common techniques used in Embedded feature selection methods?\n"
   ]
  },
  {
   "cell_type": "markdown",
   "metadata": {},
   "source": [
    "Common Techniques in Embedded Feature Selection\n",
    "Lasso (L1 Regularization)\n",
    "Shrinks feature coefficients, setting some to zero (removing irrelevant features).\n",
    "Used in Lasso Regression, Logistic Regression (L1 penalty).\n",
    "\n",
    "\n",
    "Ridge (L2 Regularization) & Elastic Net\n",
    "Ridge shrinks coefficients but does not remove features.\n",
    "Elastic Net combines L1 (Lasso) & L2 (Ridge) for balanced selection.\n",
    "\n",
    "\n",
    "Tree-Based Feature Importance\n",
    "Random Forest, Decision Trees, XGBoost assign importance scores to features.\n",
    "Features with low importance are removed.\n",
    "\n",
    "\n",
    "Recursive Feature Elimination (RFE)\n",
    "Iteratively removes least important features using model performance evaluation.\n",
    "Advantage: Automatic selection during training, efficient.\n",
    "Limitation: Computationally expensive for large datasets.\n",
    "\n"
   ]
  },
  {
   "cell_type": "markdown",
   "metadata": {},
   "source": [
    "Q4. What are some drawbacks of using the Filter method for feature selection?\n"
   ]
  },
  {
   "cell_type": "markdown",
   "metadata": {},
   "source": [
    "Ignores Feature Interactions – Evaluates features individually, missing important combinations.\n",
    "\n",
    "May Select Irrelevant Features – High correlation does not guarantee predictive usefulness.\n",
    "\n",
    "Not Model-Specific – Doesn't optimize feature selection for a specific ML model.\n",
    "\n",
    "Threshold Sensitivity – Arbitrary cutoffs may lead to removing useful features.\n",
    "\n",
    "Redundant Features – Keeps highly correlated features, leading to redundancy."
   ]
  },
  {
   "cell_type": "markdown",
   "metadata": {},
   "source": [
    "Q5. In which situations would you prefer using the Filter method over the Wrapper method for feature\n",
    "selection?\n"
   ]
  },
  {
   "cell_type": "markdown",
   "metadata": {},
   "source": [
    "Large Datasets \n",
    "The Filter method is faster and computationally efficient, making it ideal for datasets with many features (e.g., text data, genomics).\n",
    "\n",
    "Preprocessing Step Before Advanced Methods \n",
    "Often used before Wrapper or Embedded methods to remove irrelevant features quickly, reducing computation time.\n",
    "\n",
    "Avoiding Overfitting \n",
    "Since it doesn't rely on a specific model, it helps prevent overfitting, especially when dealing with small datasets.\n",
    "\n",
    "Interpretability & Simplicity \n",
    "Uses statistical tests like correlation, Chi-square, and mutual information, making it easy to understand and apply.\n",
    "\n",
    "Limited Computational Resources \n",
    "Unlike Wrapper methods (which train models multiple times), the Filter method is lightweight and fast, making it suitable for low-resource environments."
   ]
  },
  {
   "cell_type": "markdown",
   "metadata": {},
   "source": [
    "Q6. In a telecom company, you are working on a project to develop a predictive model for customer churn.\n",
    "You are unsure of which features to include in the model because the dataset contains several different\n",
    "ones. Describe how you would choose the most pertinent attributes for the model using the Filter Method.\n"
   ]
  },
  {
   "cell_type": "markdown",
   "metadata": {
    "vscode": {
     "languageId": "plaintext"
    }
   },
   "source": [
    "Feature Selection for Customer Churn Prediction Using the Filter Method\n",
    "\n",
    "\n",
    "Remove Low-Variance Features – Drop features with little variation using VarianceThreshold().\n",
    "\n",
    "\n",
    "Correlation Analysis – Remove highly correlated features (correlation > 0.85) to avoid redundancy.\n",
    "\n",
    "\n",
    "Chi-Square Test (For Categorical Features) – Select top categorical features using SelectKBest(chi2).\n",
    "\n",
    "\n",
    "Mutual Information Score – Identify non-linear relationships between features and Churn"
   ]
  },
  {
   "cell_type": "markdown",
   "metadata": {},
   "source": [
    "Q7. You are working on a project to predict the outcome of a soccer match. You have a large dataset with\n",
    "many features, including player statistics and team rankings. Explain how you would use the Embedded\n",
    "method to select the most relevant features for the model.\n"
   ]
  },
  {
   "cell_type": "markdown",
   "metadata": {},
   "source": [
    "Feature Selection for Soccer Match Prediction Using the Embedded Method\n",
    "1. Train a Model with Built-in Feature Selection:\n",
    "Use Lasso (L1 Regularization) to remove irrelevant features.\n",
    "Use Tree-based models (Random Forest, XGBoost) to get feature importance scores.\n",
    "\n",
    "\n",
    "2. Extract Important Features:\n",
    "Keep features with non-zero coefficients (Lasso).\n",
    "Select top-ranked features based on importance scores (Tree models).\n",
    "\n",
    "\n",
    "3. Recursive Feature Elimination (RFE) (Optional):\n",
    "Iteratively remove the least important features using a model like RandomForestClassifier."
   ]
  },
  {
   "cell_type": "markdown",
   "metadata": {},
   "source": [
    "Q8. You are working on a project to predict the price of a house based on its features, such as size, location,\n",
    "and age. You have a limited number of features, and you want to ensure that you select the most important\n",
    "ones for the model. Explain how you would use the Wrapper method to select the best set of features for the\n",
    "predictor."
   ]
  },
  {
   "cell_type": "code",
   "execution_count": null,
   "metadata": {},
   "outputs": [],
   "source": [
    "from sklearn.feature_selection import RFE\n",
    "from sklearn.linear_model import LinearRegression\n",
    "\n",
    "model = LinearRegression()\n",
    "selector = RFE(model, n_features_to_select=5)  # Select top 5 features\n",
    "selector.fit(X, y)\n",
    "\n",
    "print(\"Selected Features:\", X.columns[selector.support_])\n"
   ]
  },
  {
   "cell_type": "markdown",
   "metadata": {},
   "source": []
  }
 ],
 "metadata": {
  "kernelspec": {
   "display_name": "Python 3",
   "language": "python",
   "name": "python3"
  },
  "language_info": {
   "codemirror_mode": {
    "name": "ipython",
    "version": 3
   },
   "file_extension": ".py",
   "mimetype": "text/x-python",
   "name": "python",
   "nbconvert_exporter": "python",
   "pygments_lexer": "ipython3",
   "version": "3.12.4"
  }
 },
 "nbformat": 4,
 "nbformat_minor": 2
}
