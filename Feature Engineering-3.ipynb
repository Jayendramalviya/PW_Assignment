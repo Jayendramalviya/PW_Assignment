{
 "cells": [
  {
   "cell_type": "markdown",
   "metadata": {},
   "source": []
  },
  {
   "cell_type": "markdown",
   "metadata": {},
   "source": [
    "Q1. What is Min-Max scaling, and how is it used in data preprocessing? Provide an example to illustrate its\n",
    "application."
   ]
  },
  {
   "cell_type": "code",
   "execution_count": 1,
   "metadata": {},
   "outputs": [
    {
     "name": "stdout",
     "output_type": "stream",
     "text": [
      "[[0.        ]\n",
      " [0.33333333]\n",
      " [0.66666667]\n",
      " [1.        ]]\n"
     ]
    }
   ],
   "source": [
    "#Min-Max Scaling transforms data into a fixed range, usually [0,1] or [-1,1]\n",
    "#Scaling [10, 20, 30, 40] to [0,1]\n",
    "\n",
    "from sklearn.preprocessing import MinMaxScaler\n",
    "\n",
    "data = [[10], [20], [30], [40]]\n",
    "scaler = MinMaxScaler(feature_range=(0, 1))\n",
    "scaled_data = scaler.fit_transform(data)\n",
    "print(scaled_data)\n",
    "\n"
   ]
  },
  {
   "cell_type": "markdown",
   "metadata": {},
   "source": [
    "Q2. What is the Unit Vector technique in feature scaling, and how does it differ from Min-Max scaling?\n",
    "Provide an example to illustrate its application."
   ]
  },
  {
   "cell_type": "code",
   "execution_count": 2,
   "metadata": {},
   "outputs": [
    {
     "name": "stdout",
     "output_type": "stream",
     "text": [
      "[[0.6 0.8]]\n"
     ]
    }
   ],
   "source": [
    "'''Unit Vector Scaling (Normalization) scales each feature vector to a unit norm\n",
    "\n",
    "\n",
    "Difference from Min-Max Scaling:\n",
    "Min-Max Scaling maps values to a fixed range.\n",
    "Unit Vector Scaling scales values relative to their magnitude.'''\n",
    "\n",
    "\n",
    "from sklearn.preprocessing import normalize\n",
    "import numpy as np\n",
    "\n",
    "data = np.array([[3, 4]])\n",
    "normalized_data = normalize(data, norm='l2')\n",
    "print(normalized_data)\n"
   ]
  },
  {
   "cell_type": "markdown",
   "metadata": {},
   "source": [
    "Q3. What is PCA (Principle Component Analysis), and how is it used in dimensionality reduction? Provide an\n",
    "example to illustrate its application.\n"
   ]
  },
  {
   "cell_type": "code",
   "execution_count": 3,
   "metadata": {},
   "outputs": [
    {
     "name": "stdout",
     "output_type": "stream",
     "text": [
      "[[-0.43677621 -0.10308634]\n",
      " [ 0.57163439 -0.08274422]\n",
      " [ 0.60211987  0.10543187]\n",
      " [-0.32000852 -0.28552751]\n",
      " [-0.41696953  0.3659262 ]]\n"
     ]
    }
   ],
   "source": [
    "'''PCA reduces high-dimensional data while preserving maximum variance.\n",
    "\n",
    "\n",
    "Steps:\n",
    "Standardize the data.\n",
    "Compute covariance matrix & eigenvectors.\n",
    "Select top components with highest variance.'''\n",
    "\n",
    "from sklearn.decomposition import PCA\n",
    "import numpy as np\n",
    "\n",
    "X = np.random.rand(5, 3)  # 5 samples, 3 features\n",
    "pca = PCA(n_components=2)\n",
    "X_reduced = pca.fit_transform(X)\n",
    "print(X_reduced)\n"
   ]
  },
  {
   "cell_type": "markdown",
   "metadata": {},
   "source": [
    "Q4. What is the relationship between PCA and Feature Extraction, and how can PCA be used for Feature\n",
    "Extraction? Provide an example to illustrate this concept.\n",
    "\n"
   ]
  },
  {
   "cell_type": "code",
   "execution_count": 5,
   "metadata": {},
   "outputs": [
    {
     "data": {
      "text/plain": [
       "array([[-0.43677621, -0.10308634],\n",
       "       [ 0.57163439, -0.08274422],\n",
       "       [ 0.60211987,  0.10543187],\n",
       "       [-0.32000852, -0.28552751],\n",
       "       [-0.41696953,  0.3659262 ]])"
      ]
     },
     "execution_count": 5,
     "metadata": {},
     "output_type": "execute_result"
    }
   ],
   "source": [
    "'''Feature Extraction creates new, meaningful features from raw data.\n",
    "PCA extracts principal components as new features.'''\n",
    "\n",
    "\n",
    "pca = PCA(n_components=2)\n",
    "new_features = pca.fit_transform(X)  # Extracts top 2 features\n",
    "new_features\n",
    "\n"
   ]
  },
  {
   "cell_type": "markdown",
   "metadata": {},
   "source": [
    "Q5. You are working on a project to build a recommendation system for a food delivery service. The dataset\n",
    "contains features such as price, rating, and delivery time. Explain how you would use Min-Max scaling to\n",
    "preprocess the data."
   ]
  },
  {
   "cell_type": "code",
   "execution_count": 7,
   "metadata": {},
   "outputs": [
    {
     "name": "stdout",
     "output_type": "stream",
     "text": [
      "Normalized Data:\n",
      " [[0.5        0.71428571 0.33333333]\n",
      " [0.25       0.21428571 0.66666667]\n",
      " [1.         1.         0.        ]\n",
      " [0.         0.         1.        ]]\n"
     ]
    }
   ],
   "source": [
    "'''To normalize features price, rating, and delivery time for better comparison.\n",
    "Apply Min-Max Scaling'''\n",
    "\n",
    "\n",
    "import numpy as np\n",
    "from sklearn.preprocessing import MinMaxScaler\n",
    "\n",
    "# Sample dataset with price, rating, and delivery time\n",
    "food_data = np.array([\n",
    "    [200, 4.5, 30],  # Price (₹), Rating, Delivery Time (mins)\n",
    "    [150, 3.8, 40],\n",
    "    [300, 4.9, 20],\n",
    "    [100, 3.5, 50]\n",
    "])\n",
    "\n",
    "# Apply Min-Max Scaling\n",
    "scaler = MinMaxScaler()\n",
    "normalized_data = scaler.fit_transform(food_data)\n",
    "\n",
    "print(\"Normalized Data:\\n\", normalized_data)\n",
    "\n"
   ]
  },
  {
   "cell_type": "markdown",
   "metadata": {},
   "source": [
    "Q6. You are working on a project to build a model to predict stock prices. The dataset contains many\n",
    "features, such as company financial data and market trends. Explain how you would use PCA to reduce the\n",
    "dimensionality of the dataset."
   ]
  },
  {
   "cell_type": "code",
   "execution_count": 9,
   "metadata": {},
   "outputs": [
    {
     "name": "stdout",
     "output_type": "stream",
     "text": [
      "Original Shape: (10, 8)\n",
      "Reduced Shape: (10, 5)\n"
     ]
    }
   ],
   "source": [
    "'''Stock data has many features (financial trends, indicators).\n",
    "Reduce to top principal components before training:'''\n",
    "import numpy as np\n",
    "from sklearn.decomposition import PCA\n",
    "\n",
    "# Sample dataset: 10 stocks with 8 financial features each\n",
    "stock_data = np.random.rand(10, 8)  # 10 samples (stocks), 8 features (indicators)\n",
    "\n",
    "# Apply PCA to reduce to 5 principal components\n",
    "pca = PCA(n_components=5)\n",
    "reduced_stock_data = pca.fit_transform(stock_data)\n",
    "\n",
    "print(\"Original Shape:\", stock_data.shape)\n",
    "print(\"Reduced Shape:\", reduced_stock_data.shape)\n"
   ]
  },
  {
   "cell_type": "markdown",
   "metadata": {},
   "source": [
    "Q7. For a dataset containing the following values: [1, 5, 10, 15, 20], perform Min-Max scaling to transform the\n",
    "values to a range of -1 to 1"
   ]
  },
  {
   "cell_type": "code",
   "execution_count": 10,
   "metadata": {},
   "outputs": [
    {
     "name": "stdout",
     "output_type": "stream",
     "text": [
      "[[-1.        ]\n",
      " [-0.57894737]\n",
      " [-0.05263158]\n",
      " [ 0.47368421]\n",
      " [ 1.        ]]\n"
     ]
    }
   ],
   "source": [
    "import numpy as np\n",
    "from sklearn.preprocessing import MinMaxScaler\n",
    "\n",
    "data = np.array([[1], [5], [10], [15], [20]])\n",
    "scaler = MinMaxScaler(feature_range=(-1, 1))\n",
    "scaled_data = scaler.fit_transform(data)\n",
    "print(scaled_data)\n"
   ]
  },
  {
   "cell_type": "code",
   "execution_count": null,
   "metadata": {},
   "outputs": [],
   "source": []
  }
 ],
 "metadata": {
  "kernelspec": {
   "display_name": "Python 3",
   "language": "python",
   "name": "python3"
  },
  "language_info": {
   "codemirror_mode": {
    "name": "ipython",
    "version": 3
   },
   "file_extension": ".py",
   "mimetype": "text/x-python",
   "name": "python",
   "nbconvert_exporter": "python",
   "pygments_lexer": "ipython3",
   "version": "3.12.4"
  }
 },
 "nbformat": 4,
 "nbformat_minor": 2
}
