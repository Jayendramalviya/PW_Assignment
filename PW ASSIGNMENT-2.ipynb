{
 "cells": [
  {
   "cell_type": "markdown",
   "id": "5f92c10a",
   "metadata": {},
   "source": [
    "Q1. How Do you comment code in python ?what are Different type of comment?\n",
    "Ans:- Comment are generally just like information about your code whose does not execute.\n",
    "There are two types of comment:-\n",
    "1. single line comment(#)\n",
    "\n"
   ]
  },
  {
   "cell_type": "code",
   "execution_count": 1,
   "id": "152521b8",
   "metadata": {},
   "outputs": [],
   "source": [
    "#THIS IS COMMENT"
   ]
  },
  {
   "cell_type": "markdown",
   "id": "ef4c48f4",
   "metadata": {},
   "source": [
    "2. Multiline Comment('''  ''')"
   ]
  },
  {
   "cell_type": "code",
   "execution_count": 2,
   "id": "a851914e",
   "metadata": {},
   "outputs": [
    {
     "data": {
      "text/plain": [
       "'This is our \\n       code but not Execute'"
      ]
     },
     "execution_count": 2,
     "metadata": {},
     "output_type": "execute_result"
    }
   ],
   "source": [
    "'''This is our \n",
    "       code but not Execute'''"
   ]
  },
  {
   "cell_type": "markdown",
   "id": "6a8063dd",
   "metadata": {},
   "source": [
    "Q2. What are variables in python? How do you declare and assign value to variable ?\n",
    "Ans:- variable:- variables are just like container whose contain the value.\n",
    "Declaration of variable:- variable are declare with alphanumeric,aphabets but not numeric.\n"
   ]
  },
  {
   "cell_type": "code",
   "execution_count": 3,
   "id": "337c320b",
   "metadata": {},
   "outputs": [
    {
     "data": {
      "text/plain": [
       "'jayendra'"
      ]
     },
     "execution_count": 3,
     "metadata": {},
     "output_type": "execute_result"
    }
   ],
   "source": [
    "a=\"jayendra\"\n",
    "a"
   ]
  },
  {
   "cell_type": "code",
   "execution_count": 4,
   "id": "d35a666f",
   "metadata": {},
   "outputs": [
    {
     "data": {
      "text/plain": [
       "'Malviya'"
      ]
     },
     "execution_count": 4,
     "metadata": {},
     "output_type": "execute_result"
    }
   ],
   "source": [
    "a1=\"Malviya\"\n",
    "a1"
   ]
  },
  {
   "cell_type": "code",
   "execution_count": 5,
   "id": "dd09b900",
   "metadata": {},
   "outputs": [
    {
     "ename": "SyntaxError",
     "evalue": "invalid syntax (2252884135.py, line 1)",
     "output_type": "error",
     "traceback": [
      "\u001b[1;36m  File \u001b[1;32m\"C:\\Users\\acer\\AppData\\Local\\Temp\\ipykernel_144\\2252884135.py\"\u001b[1;36m, line \u001b[1;32m1\u001b[0m\n\u001b[1;33m    @k=\"harry\"\u001b[0m\n\u001b[1;37m      ^\u001b[0m\n\u001b[1;31mSyntaxError\u001b[0m\u001b[1;31m:\u001b[0m invalid syntax\n"
     ]
    }
   ],
   "source": [
    "@k=\"harry\" #Error It is not way to declare Variable\n",
    "@k"
   ]
  },
  {
   "cell_type": "code",
   "execution_count": 6,
   "id": "5e1fcb99",
   "metadata": {},
   "outputs": [
    {
     "ename": "SyntaxError",
     "evalue": "cannot assign to literal (85904275.py, line 1)",
     "output_type": "error",
     "traceback": [
      "\u001b[1;36m  File \u001b[1;32m\"C:\\Users\\acer\\AppData\\Local\\Temp\\ipykernel_144\\85904275.py\"\u001b[1;36m, line \u001b[1;32m1\u001b[0m\n\u001b[1;33m    1=\"jay\"\u001b[0m\n\u001b[1;37m    ^\u001b[0m\n\u001b[1;31mSyntaxError\u001b[0m\u001b[1;31m:\u001b[0m cannot assign to literal\n"
     ]
    }
   ],
   "source": [
    "1=\"jay\"#Error It is not way to declare Variable\n",
    "1"
   ]
  },
  {
   "cell_type": "markdown",
   "id": "1a5d9bfe",
   "metadata": {},
   "source": [
    "Q3.How do you convert one data type in python"
   ]
  },
  {
   "cell_type": "code",
   "execution_count": 9,
   "id": "c4a41059",
   "metadata": {},
   "outputs": [
    {
     "name": "stdout",
     "output_type": "stream",
     "text": [
      "123\n"
     ]
    }
   ],
   "source": [
    "a=123     # Integer\n",
    "print(a)\n"
   ]
  },
  {
   "cell_type": "code",
   "execution_count": 8,
   "id": "9e1a003e",
   "metadata": {},
   "outputs": [
    {
     "data": {
      "text/plain": [
       "int"
      ]
     },
     "execution_count": 8,
     "metadata": {},
     "output_type": "execute_result"
    }
   ],
   "source": [
    "type(a)"
   ]
  },
  {
   "cell_type": "code",
   "execution_count": 12,
   "id": "7dd64077",
   "metadata": {},
   "outputs": [
    {
     "data": {
      "text/plain": [
       "'123'"
      ]
     },
     "execution_count": 12,
     "metadata": {},
     "output_type": "execute_result"
    }
   ],
   "source": [
    "str(a)           #string"
   ]
  },
  {
   "cell_type": "code",
   "execution_count": 13,
   "id": "73467420",
   "metadata": {},
   "outputs": [
    {
     "data": {
      "text/plain": [
       "str"
      ]
     },
     "execution_count": 13,
     "metadata": {},
     "output_type": "execute_result"
    }
   ],
   "source": [
    "type(str(a))"
   ]
  },
  {
   "cell_type": "markdown",
   "id": "b0742d60",
   "metadata": {},
   "source": [
    "This is conversion of Int To string"
   ]
  },
  {
   "cell_type": "markdown",
   "id": "f2443a98",
   "metadata": {},
   "source": [
    "Q4. How do you write and Execute a python script from the command line ?"
   ]
  },
  {
   "cell_type": "markdown",
   "id": "4c796309",
   "metadata": {},
   "source": [
    "To write and execute a Python script from the command line, follow these steps:\n",
    "\n",
    "Open a text editor and create a new file. Save it with a .py extension, for example, \"script.py\". This will be your Python script file.\n",
    "\n",
    "Open the command line or terminal on your operating system. The process may vary depending on your operating system:\n",
    "\n",
    "Windows: Press the Windows key, type \"Command Prompt\" or \"cmd\" in the search bar, and open the Command Prompt application."
   ]
  },
  {
   "cell_type": "code",
   "execution_count": 14,
   "id": "1c5aad48",
   "metadata": {},
   "outputs": [
    {
     "ename": "SyntaxError",
     "evalue": "invalid syntax (4207338516.py, line 1)",
     "output_type": "error",
     "traceback": [
      "\u001b[1;36m  File \u001b[1;32m\"C:\\Users\\acer\\AppData\\Local\\Temp\\ipykernel_144\\4207338516.py\"\u001b[1;36m, line \u001b[1;32m1\u001b[0m\n\u001b[1;33m    python script.py\u001b[0m\n\u001b[1;37m           ^\u001b[0m\n\u001b[1;31mSyntaxError\u001b[0m\u001b[1;31m:\u001b[0m invalid syntax\n"
     ]
    }
   ],
   "source": [
    "python script.py\n"
   ]
  },
  {
   "cell_type": "markdown",
   "id": "4057bf41",
   "metadata": {},
   "source": [
    "Q5.Given a list my_list =[1,2,3,4,5], write the code to slicethe vlist and obtainthe sublist[2,3]"
   ]
  },
  {
   "cell_type": "code",
   "execution_count": 19,
   "id": "30561b08",
   "metadata": {},
   "outputs": [
    {
     "data": {
      "text/plain": [
       "[2, 3]"
      ]
     },
     "execution_count": 19,
     "metadata": {},
     "output_type": "execute_result"
    }
   ],
   "source": [
    "my_list=[1,2,3,4,5]\n",
    "my_list[1:3]"
   ]
  },
  {
   "cell_type": "markdown",
   "id": "cd7b0c82",
   "metadata": {},
   "source": [
    "Q6.what is complex no. in mathematics and how it is represented in python?\n"
   ]
  },
  {
   "cell_type": "code",
   "execution_count": null,
   "id": "99c3ce02",
   "metadata": {},
   "outputs": [],
   "source": [
    "Ans:- complex is combination of both imaginary and real no.\n",
    "    5+8i\n",
    "    but in python 5+8j"
   ]
  },
  {
   "cell_type": "code",
   "execution_count": 20,
   "id": "babdf15d",
   "metadata": {},
   "outputs": [
    {
     "data": {
      "text/plain": [
       "complex"
      ]
     },
     "execution_count": 20,
     "metadata": {},
     "output_type": "execute_result"
    }
   ],
   "source": [
    "a=5+8j\n",
    "type(a)"
   ]
  },
  {
   "cell_type": "code",
   "execution_count": 22,
   "id": "7b180489",
   "metadata": {},
   "outputs": [
    {
     "data": {
      "text/plain": [
       "8.0"
      ]
     },
     "execution_count": 22,
     "metadata": {},
     "output_type": "execute_result"
    }
   ],
   "source": [
    "a.imag"
   ]
  },
  {
   "cell_type": "code",
   "execution_count": 23,
   "id": "e55979b1",
   "metadata": {},
   "outputs": [
    {
     "data": {
      "text/plain": [
       "5.0"
      ]
     },
     "execution_count": 23,
     "metadata": {},
     "output_type": "execute_result"
    }
   ],
   "source": [
    "a.real"
   ]
  },
  {
   "cell_type": "markdown",
   "id": "e106ed0d",
   "metadata": {},
   "source": [
    "Q7 What are the correct way to declare a variable named age and assign the value 25 to it?"
   ]
  },
  {
   "cell_type": "code",
   "execution_count": 24,
   "id": "f08f90f0",
   "metadata": {},
   "outputs": [
    {
     "data": {
      "text/plain": [
       "25"
      ]
     },
     "execution_count": 24,
     "metadata": {},
     "output_type": "execute_result"
    }
   ],
   "source": [
    "#Variable name is understandable by anyone and easily identify the real meaning of variable in particular code\n",
    "age=25\n",
    "age"
   ]
  },
  {
   "cell_type": "markdown",
   "id": "2930b7ca",
   "metadata": {},
   "source": [
    "Q8.Declare the variable named price and assign the value 9.99to it.what data type this variable belonds to it?"
   ]
  },
  {
   "cell_type": "code",
   "execution_count": 25,
   "id": "73919f5e",
   "metadata": {},
   "outputs": [
    {
     "data": {
      "text/plain": [
       "float"
      ]
     },
     "execution_count": 25,
     "metadata": {},
     "output_type": "execute_result"
    }
   ],
   "source": [
    "price=9.99\n",
    "type(price)"
   ]
  },
  {
   "cell_type": "markdown",
   "id": "6869b019",
   "metadata": {},
   "source": [
    "Q9. Create a variable named name and assign the full name to it as string .How would you print the value of this variable?\n"
   ]
  },
  {
   "cell_type": "code",
   "execution_count": 27,
   "id": "2a65f011",
   "metadata": {},
   "outputs": [
    {
     "name": "stdout",
     "output_type": "stream",
     "text": [
      "JAYENDRA MALVIYA\n",
      "<class 'str'>\n"
     ]
    }
   ],
   "source": [
    "Name=\"JAYENDRA MALVIYA\"\n",
    "print(Name)\n",
    "print(type(Name))"
   ]
  },
  {
   "cell_type": "markdown",
   "id": "95d1c6d3",
   "metadata": {},
   "source": [
    "Q10. Given the string \"hello world\",extract the substring \"world\""
   ]
  },
  {
   "cell_type": "code",
   "execution_count": 28,
   "id": "2b52edd9",
   "metadata": {},
   "outputs": [
    {
     "data": {
      "text/plain": [
       "'World'"
      ]
     },
     "execution_count": 28,
     "metadata": {},
     "output_type": "execute_result"
    }
   ],
   "source": [
    "string=\"Hello,World!\"\n",
    "string[6:11]"
   ]
  },
  {
   "cell_type": "code",
   "execution_count": 33,
   "id": "9af7a934",
   "metadata": {},
   "outputs": [
    {
     "data": {
      "text/plain": [
       "'World'"
      ]
     },
     "execution_count": 33,
     "metadata": {},
     "output_type": "execute_result"
    }
   ],
   "source": [
    "string[-6:-1]"
   ]
  },
  {
   "cell_type": "code",
   "execution_count": 34,
   "id": "787ffab1",
   "metadata": {},
   "outputs": [
    {
     "name": "stdout",
     "output_type": "stream",
     "text": [
      "Object `not` not found.\n"
     ]
    }
   ],
   "source": [
    "Q.11 Create a variable named is \"is_student\" and assign it a boolean  value indicating whether you arr currently student or not?"
   ]
  },
  {
   "cell_type": "markdown",
   "id": "dda653cf",
   "metadata": {},
   "source": [
    "Q.11 Create a variable named is \"is_student\" and assign it a boolean  value indicating whether you arr currently student or not"
   ]
  },
  {
   "cell_type": "code",
   "execution_count": 37,
   "id": "5e3b7ae0",
   "metadata": {},
   "outputs": [
    {
     "name": "stdout",
     "output_type": "stream",
     "text": [
      "IS STUDENT\n"
     ]
    }
   ],
   "source": [
    "is_student=True\n",
    "if is_student==True:\n",
    "    print(\"IS STUDENT\")\n",
    "else:\n",
    "    print(\"NOt\")"
   ]
  },
  {
   "cell_type": "code",
   "execution_count": 41,
   "id": "bb843056",
   "metadata": {},
   "outputs": [
    {
     "name": "stdout",
     "output_type": "stream",
     "text": [
      "ENTER ONLY BOOLEAN VALUE90\n",
      "PRINT YOU ARE STUDENT\n"
     ]
    }
   ],
   "source": [
    "is_student=bool(input(\"ENTER ONLY BOOLEAN VALUE\"))\n",
    "if is_student==True:\n",
    "    print(\"PRINT YOU ARE STUDENT\")\n",
    "else:\n",
    "    print(\"NOT\")"
   ]
  },
  {
   "cell_type": "code",
   "execution_count": null,
   "id": "9c9ba6f9",
   "metadata": {},
   "outputs": [],
   "source": []
  },
  {
   "cell_type": "code",
   "execution_count": null,
   "id": "514b4d02",
   "metadata": {},
   "outputs": [],
   "source": []
  }
 ],
 "metadata": {
  "kernelspec": {
   "display_name": "Python 3 (ipykernel)",
   "language": "python",
   "name": "python3"
  },
  "language_info": {
   "codemirror_mode": {
    "name": "ipython",
    "version": 3
   },
   "file_extension": ".py",
   "mimetype": "text/x-python",
   "name": "python",
   "nbconvert_exporter": "python",
   "pygments_lexer": "ipython3",
   "version": "3.9.13"
  }
 },
 "nbformat": 4,
 "nbformat_minor": 5
}
