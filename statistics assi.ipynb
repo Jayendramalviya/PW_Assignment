{
 "cells": [
  {
   "cell_type": "markdown",
   "id": "9882e297",
   "metadata": {},
   "source": [
    "Q1. What are the three measures of central tendency?"
   ]
  },
  {
   "cell_type": "markdown",
   "id": "bdddb3cd",
   "metadata": {},
   "source": [
    "Mean,median and mode"
   ]
  },
  {
   "cell_type": "markdown",
   "id": "3aa0f48c",
   "metadata": {},
   "source": [
    "Q2. What is the difference between the mean, median, and mode? How are they used to measure the\n",
    "central tendency of a dataset?"
   ]
  },
  {
   "cell_type": "markdown",
   "id": "4ed0d1ed",
   "metadata": {},
   "source": [
    "Mean: Average value, sensitive to outliers.\n",
    "Median: Middle value, resistant to outliers.\n",
    "Mode: Most frequent value."
   ]
  },
  {
   "cell_type": "markdown",
   "id": "f9ff27d8",
   "metadata": {},
   "source": [
    "Q3. Measure the three measures of central tendency for the given height data:\n",
    "[178,177,176,177,178.2,178,175,179,180,175,178.9,176.2,177,172.5,178,176.5]"
   ]
  },
  {
   "cell_type": "markdown",
   "id": "bdf597b0",
   "metadata": {},
   "source": [
    "So, the three measures of central tendency for the given height data are:\n",
    "\n",
    "Mean ≈ 177.7\n",
    "Median = 177\n",
    "Mode = 178"
   ]
  },
  {
   "cell_type": "markdown",
   "id": "acdfe2b0",
   "metadata": {},
   "source": [
    "Q4. Find the standard deviation for the given data:\n",
    "[178,177,176,177,178.2,178,175,179,180,175,178.9,176.2,177,172.5,178,176.5]"
   ]
  },
  {
   "cell_type": "markdown",
   "id": "58bfbad8",
   "metadata": {},
   "source": [
    "Data: [178, 177, 176, 177, 178.2, 178, 175, 179, 180, 175, 178.9, 176.2, 177, 172.5, 178, 176.5]\n",
    "\n",
    "Step 1: Calculate the mean:\n",
    "Mean = (178 + 177 + 176 + 177 + 178.2 + 178 + 175 + 179 + 180 + 175 + 178.9 + 176.2 + 177 + 172.5 + 178 + 176.5) / 16\n",
    "Mean ≈ 177.7\n",
    "\n",
    "Step 2: Calculate the deviations:\n",
    "Deviations = [178 - 177.7, 177 - 177.7, 176 - 177.7, 177 - 177.7, 178.2 - 177.7, 178 - 177.7, 175 - 177.7, 179 - 177.7, 180 - 177.7, 175 - 177.7, 178.9 - 177.7, 176.2 - 177.7, 177 - 177.7, 172.5 - 177.7, 178 - 177.7, 176.5 - 177.7]\n",
    "\n",
    "Step 3: Square each deviation:\n",
    "Squared Deviations = [0.09, 0.09, 2.89, 0.09, 0.25, 0.09, 6.09, 1.69, 4.41, 6.09, 2.25, 2.89, 0.09, 30.25, 0.09, 1.69]\n",
    "\n",
    "Step 4: Calculate the mean of squared deviations:\n",
    "Mean of Squared Deviations = (0.09 + 0.09 + 2.89 + 0.09 + 0.25 + 0.09 + 6.09 + 1.69 + 4.41 + 6.09 + 2.25 + 2.89 + 0.09 + 30.25 + 0.09 + 1.69) / 16\n",
    "Mean of Squared Deviations ≈ 3.878125\n",
    "\n",
    "Step 5: Take the square root of the mean of squared deviations to get the standard deviation:\n",
    "Standard Deviation ≈ √3.878125 ≈ 1.969\n",
    "\n",
    "So, the standard deviation for the given data is approximately 1.969."
   ]
  },
  {
   "cell_type": "markdown",
   "id": "22ab100b",
   "metadata": {},
   "source": [
    "Q5. How are measures of dispersion such as range, variance, and standard deviation used to describe\n",
    "the spread of a dataset? Provide an example.\n"
   ]
  },
  {
   "cell_type": "markdown",
   "id": "1e919502",
   "metadata": {},
   "source": [
    "\n",
    "\n",
    "\n",
    "Dataset: [25, 28, 30, 32, 35]\n",
    "\n",
    "Range:\n",
    "Range = Maximum value (35) - Minimum value (25) = 10\n",
    "In this example, the range is 10, indicating that the ages are spread over a range of 10 years.\n",
    "\n",
    "Variance and Standard Deviation:\n",
    "First, calculate the mean:\n",
    "Mean = (25 + 28 + 30 + 32 + 35) / 5 = 30\n",
    "\n",
    "Now, calculate the variance:\n",
    "Variance = [(25-30)^2 + (28-30)^2 + (30-30)^2 + (32-30)^2 + (35-30)^2] / 5 = 14\n",
    "\n",
    "Finally, calculate the standard deviation:\n",
    "Standard Deviation ≈ √14 ≈ 3.74\n",
    "\n",
    "In this example, the variance is 14, and the standard deviation is approximately 3.74, indicating a spread of ages with an average deviation of 3.74 years from the mean age of 30."
   ]
  },
  {
   "cell_type": "markdown",
   "id": "f0f4f0c6",
   "metadata": {},
   "source": [
    "Q6. What is a Venn diagram?"
   ]
  },
  {
   "cell_type": "markdown",
   "id": "4eb48cc1",
   "metadata": {},
   "source": [
    "A Venn diagram is a graphical representation used to show the relationships and commonalities between different sets or groups. I"
   ]
  },
  {
   "cell_type": "markdown",
   "id": "3ff8d273",
   "metadata": {},
   "source": [
    "Q7. For the two given sets A = (2,3,4,5,6,7) & B = (0,2,6,8,10). Find:\n",
    "(i) A B\n",
    "(ii) A ⋃ B"
   ]
  },
  {
   "cell_type": "markdown",
   "id": "727b85db",
   "metadata": {},
   "source": [
    "(i) 2,6\n",
    "(ii) 0,2,3,4,5,6,7,8,10"
   ]
  },
  {
   "cell_type": "markdown",
   "id": "daf7c517",
   "metadata": {},
   "source": [
    "Q8. What do you understand about skewness in data?"
   ]
  },
  {
   "cell_type": "markdown",
   "id": "cd89f399",
   "metadata": {},
   "source": [
    "Skewness in data refers to the asymmetry or lack of symmetry in its distribution. It indicates the degree to which the data is skewed or lopsided from its typical central value (mean, median, or mode). "
   ]
  },
  {
   "cell_type": "markdown",
   "id": "00f7fab9",
   "metadata": {},
   "source": [
    "\n",
    "If a data is right-skewed, the position of the median will be to the left of the mean."
   ]
  },
  {
   "cell_type": "markdown",
   "id": "202a0525",
   "metadata": {},
   "source": [
    "Q10. Explain the difference between covariance and correlation. How are these measures used in\n",
    "statistical analysis?"
   ]
  },
  {
   "cell_type": "markdown",
   "id": "091df6c9",
   "metadata": {},
   "source": [
    "Covariance measures the direction of the relationship between two variables.\n",
    "Correlation measures both the direction and strength of the linear relationship between two variables. Correlation is standardized and easier to interpret than covariance.\n",
    "Both are used in statistical analysis to understand the relationships between variables.\n",
    "\n",
    "\n",
    "\n",
    "\n",
    "\n"
   ]
  },
  {
   "cell_type": "markdown",
   "id": "5b55184f",
   "metadata": {},
   "source": [
    "Q11. What is the formula for calculating the sample mean? Provide an example calculation for a\n",
    "dataset."
   ]
  },
  {
   "cell_type": "markdown",
   "id": "4df861be",
   "metadata": {},
   "source": [
    "Sample Mean = (Sum of all data points) / (Number of data points)\n",
    "\n",
    "Example calculation:\n",
    "\n",
    "Let's consider a dataset of test scores: [85, 90, 78, 92, 88]\n",
    "\n",
    "Step 1: Add up all the data points:\n",
    "Sum = 85 + 90 + 78 + 92 + 88 = 433\n",
    "\n",
    "Step 2: Count the number of data points:\n",
    "Number of data points = 5\n",
    "\n",
    "Step 3: Calculate the sample mean:\n",
    "Sample Mean = 433 / 5 = 86.6\n",
    "\n",
    "So, the sample mean for the given dataset is 86.6."
   ]
  },
  {
   "cell_type": "markdown",
   "id": "9c2b3bb5",
   "metadata": {},
   "source": [
    "Q12. For a normal distribution data what is the relationship between its measure of central tendency?"
   ]
  },
  {
   "cell_type": "markdown",
   "id": "2e745d51",
   "metadata": {},
   "source": [
    "mean=median=mode"
   ]
  },
  {
   "cell_type": "markdown",
   "id": "05c0f641",
   "metadata": {},
   "source": [
    "Q13. How is covariance different from correlation?"
   ]
  },
  {
   "cell_type": "markdown",
   "id": "8fb97698",
   "metadata": {},
   "source": [
    "\n",
    "Covariance and correlation are both measures used to quantify the relationship between two variables, but they differ in their interpretation and scale:\n",
    "\n"
   ]
  },
  {
   "cell_type": "markdown",
   "id": "f5b61c7a",
   "metadata": {},
   "source": [
    "Q14. How do outliers affect measures of central tendency and dispersion? Provide an example."
   ]
  },
  {
   "cell_type": "markdown",
   "id": "e448d75c",
   "metadata": {},
   "source": [
    "Outliers can skew the mean and have a greater effect on the mean than on the median.\n",
    "Outliers can increase the range, variance, and standard deviation, indicating a wider spread of data.\n",
    "\n",
    "\n",
    "\n"
   ]
  }
 ],
 "metadata": {
  "kernelspec": {
   "display_name": "Python 3 (ipykernel)",
   "language": "python",
   "name": "python3"
  },
  "language_info": {
   "codemirror_mode": {
    "name": "ipython",
    "version": 3
   },
   "file_extension": ".py",
   "mimetype": "text/x-python",
   "name": "python",
   "nbconvert_exporter": "python",
   "pygments_lexer": "ipython3",
   "version": "3.9.13"
  }
 },
 "nbformat": 4,
 "nbformat_minor": 5
}
