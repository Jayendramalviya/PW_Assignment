{
 "cells": [
  {
   "cell_type": "markdown",
   "id": "78849fca",
   "metadata": {},
   "source": [
    "Q1. What is a database? Differentiate between SQL and NoSQL databases."
   ]
  },
  {
   "cell_type": "markdown",
   "id": "67be7054",
   "metadata": {},
   "source": [
    "A database is a structured collection of data organized and stored in a way that allows efficient retrieval, management, and manipulation of information. It is designed to store and manage large volumes of data, providing mechanisms for data querying, updating, and maintaining data integrity.\n",
    "\n",
    "SQL Databases:\n",
    "SQL databases are based on a relational model, where data is organized into tables consisting of rows and columns. These databases use structured query language (SQL) for defining and manipulating the data. Some popular SQL databases include MySQL, Oracle, SQL Server, and PostgreSQL.\n",
    "\n",
    "NoSQL Databases:\n",
    "NoSQL databases are designed to store and retrieve large amounts of unstructured or semi-structured data. They provide a flexible schema, allowing the addition or modification of fields without modifying the entire database. NoSQL databases use various data models such as key-value, document, columnar, or graph. Some popular NoSQL databases include MongoDB, Cassandra, Redis, and Neo4j."
   ]
  },
  {
   "cell_type": "markdown",
   "id": "daaa31c0",
   "metadata": {},
   "source": [
    "Q2. What is DDL? Explain why CREATE, DROP, ALTER, and TRUNCATE are used with an example."
   ]
  },
  {
   "cell_type": "markdown",
   "id": "5cd2a028",
   "metadata": {},
   "source": [
    "DDL stands for Data Definition Language. It is a subset of SQL (Structured Query Language) used for defining and managing the structure of a database and its objects. DDL statements are used to create, modify, and delete database objects such as tables, indexes, views, and schemas. The following are examples of commonly used DDL statements:\n",
    "\n",
    "CREATE:\n",
    "The CREATE statement is used to create new database objects such as tables, views, indexes, or schemas. It defines the structure and properties of the object being created. Here's an example of creating a table named \"Employees\" in an imaginary company \n",
    "\n",
    "\n",
    "Example:-\n",
    "\n",
    "\n",
    "CREATE TABLE Employees (\n",
    "  id INT,\n",
    "  name VARCHAR(50),\n",
    "  age INT,\n",
    "  salary DECIMAL(10, 2)\n",
    ");\n",
    "\n",
    "\n",
    "DROP:\n",
    "The DROP statement is used to remove an existing database object. It permanently deletes the object and its associated data. For example, to drop the \"Employees\" table created earlier, you would use the following command:\n",
    "\n",
    "Example:-\n",
    "\n",
    "DROP TABLE Employees;\n",
    "\n",
    "\n",
    "ALTER:\n",
    "The ALTER statement is used to modify the structure of an existing database object. It allows you to add, modify, or delete columns, constraints, or other properties of the object. Here's an example of altering the \"Employees\" table to add a new column for the employee's department:\n",
    "\n",
    "Example:-\n",
    "\n",
    "ALTER TABLE Employees\n",
    "ADD COLUMN department VARCHAR(50);\n",
    "\n",
    "\n",
    "TRUNCATE:\n",
    "The TRUNCATE statement is used to remove all data from a table, while keeping its structure intact. It is faster than the DELETE statement for removing all records because it does not generate individual undo logs for each deleted row. For instance, to remove all data from the \"Employees\" table without deleting the table itself.\n",
    "\n",
    "Example:-\n",
    "\n",
    "TRUNCATE TABLE Employees;\n",
    "\n"
   ]
  },
  {
   "cell_type": "markdown",
   "id": "981500f3",
   "metadata": {},
   "source": [
    "Q3. What is DML? Explain INSERT, UPDATE, and DELETE with an example."
   ]
  },
  {
   "cell_type": "markdown",
   "id": "ac14d073",
   "metadata": {},
   "source": [
    "DML stands for Data Manipulation Language. It is a subset of SQL (Structured Query Language) used for manipulating data within a database. DML statements are used to insert, update, and delete data from database tables. The following are examples of commonly used DML statements:\n",
    "\n",
    "INSERT:\n",
    "The INSERT statement is used to add new records into a table. It allows you to specify the values to be inserted into specific columns or insert data retrieved from another table. Here's an example of inserting a new record into the \"Employees\" table:\n",
    "Example:-\n",
    "\n",
    "INSERT INTO Employees (id, name, age, salary)\n",
    "VALUES (1, 'John Doe', 30, 5000.00);\n",
    "\n",
    "\n",
    "UPDATE:\n",
    "The UPDATE statement is used to modify existing records in a table. It allows you to change the values of specific columns based on specified conditions.\n",
    "\n",
    "Example:-\n",
    "\n",
    "UPDATE Employees\n",
    "SET salary = 6000.00\n",
    "WHERE id = 1;\n",
    "\n",
    "\n",
    "DELETE:\n",
    "The DELETE statement is used to remove one or more records from a table based on specified conditions. It permanently removes the selected rows from the table. Here's an example of deleting all employees with an age greater than 40 from the \"Employees\" \n",
    "Example:-\n",
    "DELETE FROM Employees\n",
    "WHERE age > 40;\n"
   ]
  },
  {
   "cell_type": "markdown",
   "id": "04a8d499",
   "metadata": {},
   "source": [
    "Q4. What is DQL? Explain SELECT with an example."
   ]
  },
  {
   "cell_type": "markdown",
   "id": "abeedfbf",
   "metadata": {},
   "source": [
    "DQL stands for Data Query Language. It is a subset of SQL (Structured Query Language) used for querying and retrieving data from a database. DQL statements, primarily the SELECT statement, are used to retrieve specific data from one or more tables in a database. The SELECT statement allows you to specify the columns to be retrieved, apply filters, perform joins, aggregate data, and more. Here's an example of how the SELECT statement is used:-\n",
    "\n",
    "\n",
    "Consider a table named \"Employees\" with columns: id, name, age, salary, and department. To retrieve the names and salaries of all employees in the \"Sales\" department, the following SELECT statement can be used:\n",
    "\n",
    "Example:-\n",
    "SELECT name, salary\n",
    "FROM Employees\n",
    "WHERE department = 'Sales';"
   ]
  },
  {
   "cell_type": "markdown",
   "id": "bbda5d4b",
   "metadata": {},
   "source": [
    "Q5. Explain Primary Key and Foreign Key."
   ]
  },
  {
   "cell_type": "markdown",
   "id": "5426cefa",
   "metadata": {},
   "source": [
    "1.Primary Key:\n",
    "\n",
    "A primary key is a column or a combination of columns in a database table that uniquely identifies each row in that table. It provides a way to ensure data integrity and uniqueness within the table. The primary key constraint enforces that the values in the primary key column(s) must be unique and cannot be null.\n",
    "\n",
    "\n",
    "2.Foreign Key:\n",
    "\n",
    "A foreign key is a column or a combination of columns in a table that refers to the primary key of another table. It establishes a relationship between two tables based on a common column. The foreign key constraint ensures referential integrity, enforcing that the values in the foreign key column(s) must exist in the referenced primary key column(s) of another table or be null."
   ]
  },
  {
   "cell_type": "markdown",
   "id": "35ca697a",
   "metadata": {},
   "source": [
    "Q6. Write a python code to connect MySQL to python. Explain the cursor() and execute() method."
   ]
  },
  {
   "cell_type": "markdown",
   "id": "ceaaf2a9",
   "metadata": {},
   "source": [
    "To connect MySQL to Python, you need to install the MySQL Connector/Python library. You can install it using pip with the following command:\n",
    "\n",
    "\n"
   ]
  },
  {
   "cell_type": "markdown",
   "id": "75a06a89",
   "metadata": {},
   "source": [
    "pip install mysql-connector-python\n",
    "\n"
   ]
  },
  {
   "cell_type": "code",
   "execution_count": 5,
   "id": "25885433",
   "metadata": {},
   "outputs": [
    {
     "ename": "ProgrammingError",
     "evalue": "1045 (28000): Access denied for user 'abc'@'localhost' (using password: YES)",
     "output_type": "error",
     "traceback": [
      "\u001b[1;31m---------------------------------------------------------------------------\u001b[0m",
      "\u001b[1;31mMySQLInterfaceError\u001b[0m                       Traceback (most recent call last)",
      "\u001b[1;32m~\\anaconda3\\lib\\site-packages\\mysql\\connector\\connection_cext.py\u001b[0m in \u001b[0;36m_open_connection\u001b[1;34m(self)\u001b[0m\n\u001b[0;32m    287\u001b[0m         \u001b[1;32mtry\u001b[0m\u001b[1;33m:\u001b[0m\u001b[1;33m\u001b[0m\u001b[1;33m\u001b[0m\u001b[0m\n\u001b[1;32m--> 288\u001b[1;33m             \u001b[0mself\u001b[0m\u001b[1;33m.\u001b[0m\u001b[0m_cmysql\u001b[0m\u001b[1;33m.\u001b[0m\u001b[0mconnect\u001b[0m\u001b[1;33m(\u001b[0m\u001b[1;33m**\u001b[0m\u001b[0mcnx_kwargs\u001b[0m\u001b[1;33m)\u001b[0m\u001b[1;33m\u001b[0m\u001b[1;33m\u001b[0m\u001b[0m\n\u001b[0m\u001b[0;32m    289\u001b[0m             \u001b[0mself\u001b[0m\u001b[1;33m.\u001b[0m\u001b[0m_cmysql\u001b[0m\u001b[1;33m.\u001b[0m\u001b[0mconverter_str_fallback\u001b[0m \u001b[1;33m=\u001b[0m \u001b[0mself\u001b[0m\u001b[1;33m.\u001b[0m\u001b[0m_converter_str_fallback\u001b[0m\u001b[1;33m\u001b[0m\u001b[1;33m\u001b[0m\u001b[0m\n",
      "\u001b[1;31mMySQLInterfaceError\u001b[0m: Access denied for user 'abc'@'localhost' (using password: YES)",
      "\nThe above exception was the direct cause of the following exception:\n",
      "\u001b[1;31mProgrammingError\u001b[0m                          Traceback (most recent call last)",
      "\u001b[1;32m~\\AppData\\Local\\Temp\\ipykernel_13808\\2997947671.py\u001b[0m in \u001b[0;36m<module>\u001b[1;34m\u001b[0m\n\u001b[0;32m      1\u001b[0m \u001b[1;32mimport\u001b[0m \u001b[0mmysql\u001b[0m\u001b[1;33m.\u001b[0m\u001b[0mconnector\u001b[0m\u001b[1;33m\u001b[0m\u001b[1;33m\u001b[0m\u001b[0m\n\u001b[1;32m----> 2\u001b[1;33m mydb = mysql.connector.connect(\n\u001b[0m\u001b[0;32m      3\u001b[0m   \u001b[0mhost\u001b[0m\u001b[1;33m=\u001b[0m\u001b[1;34m\"localhost\"\u001b[0m\u001b[1;33m,\u001b[0m\u001b[1;33m\u001b[0m\u001b[1;33m\u001b[0m\u001b[0m\n\u001b[0;32m      4\u001b[0m   \u001b[0muser\u001b[0m\u001b[1;33m=\u001b[0m\u001b[1;34m\"abc\"\u001b[0m\u001b[1;33m,\u001b[0m\u001b[1;33m\u001b[0m\u001b[1;33m\u001b[0m\u001b[0m\n\u001b[0;32m      5\u001b[0m   \u001b[0mpassword\u001b[0m\u001b[1;33m=\u001b[0m\u001b[1;34m\"password\"\u001b[0m\u001b[1;33m\u001b[0m\u001b[1;33m\u001b[0m\u001b[0m\n",
      "\u001b[1;32m~\\anaconda3\\lib\\site-packages\\mysql\\connector\\pooling.py\u001b[0m in \u001b[0;36mconnect\u001b[1;34m(*args, **kwargs)\u001b[0m\n\u001b[0;32m    291\u001b[0m \u001b[1;33m\u001b[0m\u001b[0m\n\u001b[0;32m    292\u001b[0m     \u001b[1;32mif\u001b[0m \u001b[0mCMySQLConnection\u001b[0m \u001b[1;32mand\u001b[0m \u001b[1;32mnot\u001b[0m \u001b[0muse_pure\u001b[0m\u001b[1;33m:\u001b[0m\u001b[1;33m\u001b[0m\u001b[1;33m\u001b[0m\u001b[0m\n\u001b[1;32m--> 293\u001b[1;33m         \u001b[1;32mreturn\u001b[0m \u001b[0mCMySQLConnection\u001b[0m\u001b[1;33m(\u001b[0m\u001b[1;33m*\u001b[0m\u001b[0margs\u001b[0m\u001b[1;33m,\u001b[0m \u001b[1;33m**\u001b[0m\u001b[0mkwargs\u001b[0m\u001b[1;33m)\u001b[0m\u001b[1;33m\u001b[0m\u001b[1;33m\u001b[0m\u001b[0m\n\u001b[0m\u001b[0;32m    294\u001b[0m     \u001b[1;32mreturn\u001b[0m \u001b[0mMySQLConnection\u001b[0m\u001b[1;33m(\u001b[0m\u001b[1;33m*\u001b[0m\u001b[0margs\u001b[0m\u001b[1;33m,\u001b[0m \u001b[1;33m**\u001b[0m\u001b[0mkwargs\u001b[0m\u001b[1;33m)\u001b[0m\u001b[1;33m\u001b[0m\u001b[1;33m\u001b[0m\u001b[0m\n\u001b[0;32m    295\u001b[0m \u001b[1;33m\u001b[0m\u001b[0m\n",
      "\u001b[1;32m~\\anaconda3\\lib\\site-packages\\mysql\\connector\\connection_cext.py\u001b[0m in \u001b[0;36m__init__\u001b[1;34m(self, **kwargs)\u001b[0m\n\u001b[0;32m    116\u001b[0m \u001b[1;33m\u001b[0m\u001b[0m\n\u001b[0;32m    117\u001b[0m         \u001b[1;32mif\u001b[0m \u001b[0mkwargs\u001b[0m\u001b[1;33m:\u001b[0m\u001b[1;33m\u001b[0m\u001b[1;33m\u001b[0m\u001b[0m\n\u001b[1;32m--> 118\u001b[1;33m             \u001b[0mself\u001b[0m\u001b[1;33m.\u001b[0m\u001b[0mconnect\u001b[0m\u001b[1;33m(\u001b[0m\u001b[1;33m**\u001b[0m\u001b[0mkwargs\u001b[0m\u001b[1;33m)\u001b[0m\u001b[1;33m\u001b[0m\u001b[1;33m\u001b[0m\u001b[0m\n\u001b[0m\u001b[0;32m    119\u001b[0m \u001b[1;33m\u001b[0m\u001b[0m\n\u001b[0;32m    120\u001b[0m     \u001b[1;32mdef\u001b[0m \u001b[0m_add_default_conn_attrs\u001b[0m\u001b[1;33m(\u001b[0m\u001b[0mself\u001b[0m\u001b[1;33m)\u001b[0m \u001b[1;33m->\u001b[0m \u001b[1;32mNone\u001b[0m\u001b[1;33m:\u001b[0m\u001b[1;33m\u001b[0m\u001b[1;33m\u001b[0m\u001b[0m\n",
      "\u001b[1;32m~\\anaconda3\\lib\\site-packages\\mysql\\connector\\abstracts.py\u001b[0m in \u001b[0;36mconnect\u001b[1;34m(self, **kwargs)\u001b[0m\n\u001b[0;32m   1176\u001b[0m \u001b[1;33m\u001b[0m\u001b[0m\n\u001b[0;32m   1177\u001b[0m         \u001b[0mself\u001b[0m\u001b[1;33m.\u001b[0m\u001b[0mdisconnect\u001b[0m\u001b[1;33m(\u001b[0m\u001b[1;33m)\u001b[0m\u001b[1;33m\u001b[0m\u001b[1;33m\u001b[0m\u001b[0m\n\u001b[1;32m-> 1178\u001b[1;33m         \u001b[0mself\u001b[0m\u001b[1;33m.\u001b[0m\u001b[0m_open_connection\u001b[0m\u001b[1;33m(\u001b[0m\u001b[1;33m)\u001b[0m\u001b[1;33m\u001b[0m\u001b[1;33m\u001b[0m\u001b[0m\n\u001b[0m\u001b[0;32m   1179\u001b[0m         \u001b[1;31m# Server does not allow to run any other statement different from ALTER\u001b[0m\u001b[1;33m\u001b[0m\u001b[1;33m\u001b[0m\u001b[0m\n\u001b[0;32m   1180\u001b[0m         \u001b[1;31m# when user's password has been expired.\u001b[0m\u001b[1;33m\u001b[0m\u001b[1;33m\u001b[0m\u001b[0m\n",
      "\u001b[1;32m~\\anaconda3\\lib\\site-packages\\mysql\\connector\\connection_cext.py\u001b[0m in \u001b[0;36m_open_connection\u001b[1;34m(self)\u001b[0m\n\u001b[0;32m    291\u001b[0m                 \u001b[0mself\u001b[0m\u001b[1;33m.\u001b[0m\u001b[0mconverter\u001b[0m\u001b[1;33m.\u001b[0m\u001b[0mstr_fallback\u001b[0m \u001b[1;33m=\u001b[0m \u001b[0mself\u001b[0m\u001b[1;33m.\u001b[0m\u001b[0m_converter_str_fallback\u001b[0m\u001b[1;33m\u001b[0m\u001b[1;33m\u001b[0m\u001b[0m\n\u001b[0;32m    292\u001b[0m         \u001b[1;32mexcept\u001b[0m \u001b[0mMySQLInterfaceError\u001b[0m \u001b[1;32mas\u001b[0m \u001b[0merr\u001b[0m\u001b[1;33m:\u001b[0m\u001b[1;33m\u001b[0m\u001b[1;33m\u001b[0m\u001b[0m\n\u001b[1;32m--> 293\u001b[1;33m             raise get_mysql_exception(\n\u001b[0m\u001b[0;32m    294\u001b[0m                 \u001b[0mmsg\u001b[0m\u001b[1;33m=\u001b[0m\u001b[0merr\u001b[0m\u001b[1;33m.\u001b[0m\u001b[0mmsg\u001b[0m\u001b[1;33m,\u001b[0m \u001b[0merrno\u001b[0m\u001b[1;33m=\u001b[0m\u001b[0merr\u001b[0m\u001b[1;33m.\u001b[0m\u001b[0merrno\u001b[0m\u001b[1;33m,\u001b[0m \u001b[0msqlstate\u001b[0m\u001b[1;33m=\u001b[0m\u001b[0merr\u001b[0m\u001b[1;33m.\u001b[0m\u001b[0msqlstate\u001b[0m\u001b[1;33m\u001b[0m\u001b[1;33m\u001b[0m\u001b[0m\n\u001b[0;32m    295\u001b[0m             ) from err\n",
      "\u001b[1;31mProgrammingError\u001b[0m: 1045 (28000): Access denied for user 'abc'@'localhost' (using password: YES)"
     ]
    }
   ],
   "source": [
    "import mysql.connector\n",
    "mydb = mysql.connector.connect(\n",
    "  host=\"localhost\",\n",
    "  user=\"abc\",\n",
    "  password=\"password\"\n",
    ")\n",
    "mycursor = mydb.cursor()\n",
    "mycursor.execute(\"insert into test2.test_table values(123 , 'Jayendra' , 234.45,234 ,'kuvarr')\")\n",
    "mydb.commit()\n",
    "mydb.close()"
   ]
  },
  {
   "cell_type": "markdown",
   "id": "fef5f62a",
   "metadata": {},
   "source": [
    "Q7. Give the order of execution of SQL clauses in an SQL query."
   ]
  },
  {
   "cell_type": "code",
   "execution_count": null,
   "id": "7ba871e7",
   "metadata": {},
   "outputs": [],
   "source": [
    "The order of execution of SQL clauses in an SQL query typically follows this sequence:\n",
    "\n",
    "FROM: Specifies the tables or views from which the data will be retrieved.\n",
    "\n",
    "WHERE: Filters the rows based on specified conditions.\n",
    "\n",
    "GROUP BY: Groups the rows based on specified columns.\n",
    "\n",
    "HAVING: Filters the groups produced by the GROUP BY clause based on specified conditions.\n",
    "\n",
    "SELECT: Specifies the columns to be retrieved.\n",
    "\n",
    "DISTINCT: Removes duplicate rows from the result set (optional).\n",
    "\n",
    "ORDER BY: Sorts the result set based on specified columns.\n",
    "\n",
    "LIMIT/OFFSET: Specifies the number of rows to be returned and the starting point for the result set (optional)."
   ]
  }
 ],
 "metadata": {
  "kernelspec": {
   "display_name": "Python 3 (ipykernel)",
   "language": "python",
   "name": "python3"
  },
  "language_info": {
   "codemirror_mode": {
    "name": "ipython",
    "version": 3
   },
   "file_extension": ".py",
   "mimetype": "text/x-python",
   "name": "python",
   "nbconvert_exporter": "python",
   "pygments_lexer": "ipython3",
   "version": "3.9.13"
  }
 },
 "nbformat": 4,
 "nbformat_minor": 5
}
