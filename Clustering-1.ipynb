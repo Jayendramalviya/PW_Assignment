{
 "cells": [
  {
   "cell_type": "markdown",
   "metadata": {},
   "source": [
    "Q1. What are the different types of clustering algorithms, and how do they differ in terms of their approach\n",
    "and underlying assumptions?"
   ]
  },
  {
   "cell_type": "markdown",
   "metadata": {},
   "source": [
    "- K-Means Clustering – Partitions data into k clusters based on centroids. Assumes spherical clusters with equal variance.\n",
    "- Hierarchical Clustering – Builds a tree of clusters using agglomerative (bottom-up) or divisive (top-down) approaches. No need to predefine k.\n",
    "- DBSCAN (Density-Based Clustering) – Groups points based on density, effective for irregularly shaped clusters. Handles noise well.\n",
    "- Gaussian Mixture Model (GMM) – Uses probabilistic distributions to assign cluster memberships. More flexible than K-Means.\n",
    "- Mean Shift Clustering – Uses density estimation to find cluster centers. No need to specify k.\n",
    "- Spectral Clustering – Uses graph theory and eigenvalues to form clusters, effective for complex structures."
   ]
  },
  {
   "cell_type": "markdown",
   "metadata": {},
   "source": [
    "Q2.What is K-means clustering, and how does it work?"
   ]
  },
  {
   "cell_type": "markdown",
   "metadata": {},
   "source": [
    "- It partitions n data points into k clusters by minimizing the variance within clusters.\n",
    "- Steps:\n",
    "1. Choose k cluster centroids randomly.\n",
    "2. Assign points to the nearest centroid.\n",
    "3. Update centroids based on the new cluster assignments.\n",
    "4.Repeat until convergence (when centroids stop changing)."
   ]
  },
  {
   "cell_type": "markdown",
   "metadata": {},
   "source": [
    "Q3. What are some advantages and limitations of K-means clustering compared to other clustering\n",
    "techniques?"
   ]
  },
  {
   "cell_type": "markdown",
   "metadata": {},
   "source": [
    "✅ Advantages:\n",
    "\n",
    "- Simple, fast, and scalable.\n",
    "- Works well for large datasets.\n",
    "- Efficient with well-separated spherical clusters.\n",
    "\n",
    "❌ Limitations:\n",
    "\n",
    "- Requires specifying k in advance.\n",
    "- Sensitive to outliers.\n",
    "S- truggles with non-spherical clusters and varying densities."
   ]
  },
  {
   "cell_type": "markdown",
   "metadata": {},
   "source": [
    "Q4. How do you determine the optimal number of clusters in K-means clustering, and what are some\n",
    "common methods for doing so?"
   ]
  },
  {
   "cell_type": "markdown",
   "metadata": {},
   "source": [
    "- Elbow Method – Plot SSE (Sum of Squared Errors) vs. k and pick the \"elbow\" point.\n",
    "- Silhouette Score – Measures how well points fit within their assigned clusters.\n",
    "- Gap Statistic – Compares clustering performance to random uniform distributions."
   ]
  },
  {
   "cell_type": "markdown",
   "metadata": {},
   "source": [
    "Q5. What are some applications of K-means clustering in real-world scenarios, and how has it been used\n",
    "to solve specific problems?"
   ]
  },
  {
   "cell_type": "markdown",
   "metadata": {},
   "source": [
    "1. Customer Segmentation – Grouping users based on behavior in e-commerce.\n",
    "2. Image Compression – Reducing colors in images using clustering.\n",
    "3. Anomaly Detection – Identifying fraud in financial transactions.\n",
    "4. Document Clustering – Organizing articles or search results.\n"
   ]
  },
  {
   "cell_type": "markdown",
   "metadata": {},
   "source": [
    "Q6. How do you interpret the output of a K-means clustering algorithm, and what insights can you derive\n",
    "from the resulting clusters?"
   ]
  },
  {
   "cell_type": "markdown",
   "metadata": {},
   "source": [
    "1. Cluster Centers – Represent the typical values for each cluster.\n",
    "2. Cluster Sizes – Show how many points belong to each cluster.\n",
    "3. Variance within Clusters – Indicates how compact or spread out clusters are.\n",
    "4. Insights:\n",
    "- Helps identify hidden patterns in data.\n",
    "- Enables targeted marketing, fraud detection, and feature engineering."
   ]
  },
  {
   "cell_type": "markdown",
   "metadata": {},
   "source": [
    "Q7. What are some common challenges in implementing K-means clustering, and how can you address\n",
    "them?"
   ]
  },
  {
   "cell_type": "markdown",
   "metadata": {},
   "source": [
    "- Choosing the right k → Use the Elbow Method or Silhouette Score.\n",
    "- Sensitivity to initialization → Use K-Means++ for better centroid selection.\n",
    "- Outliers affecting centroids → Use robust clustering methods like DBSCAN.\n",
    "- Handling different cluster shapes → Consider GMM or hierarchical clustering.\n"
   ]
  },
  {
   "cell_type": "markdown",
   "metadata": {},
   "source": []
  }
 ],
 "metadata": {
  "language_info": {
   "name": "python"
  }
 },
 "nbformat": 4,
 "nbformat_minor": 2
}
