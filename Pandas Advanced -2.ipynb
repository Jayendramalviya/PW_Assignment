{
 "cells": [
  {
   "cell_type": "markdown",
   "id": "fc2037dd",
   "metadata": {},
   "source": [
    "Consider following code to answer further questions:\n",
    "import pandas as pd\n",
    "course_name = [‘Data Science’, ‘Machine Learning’, ‘Big Data’, ‘Data Engineer’]\n",
    "duration = [2,3,6,4]\n",
    "df = pd.DataFrame(data = {‘course_name’ : course_name, ‘duration’ : duration})\n",
    "Q1. Write a code to print the data present in the second row of the dataframe, df."
   ]
  },
  {
   "cell_type": "code",
   "execution_count": 1,
   "id": "ffccdc40",
   "metadata": {},
   "outputs": [
    {
     "name": "stdout",
     "output_type": "stream",
     "text": [
      "course_name    Machine Learning\n",
      "duration                      3\n",
      "Name: 1, dtype: object\n"
     ]
    }
   ],
   "source": [
    "import pandas as pd\n",
    "\n",
    "course_name = ['Data Science', 'Machine Learning', 'Big Data', 'Data Engineer']\n",
    "duration = [2, 3, 6, 4]\n",
    "df = pd.DataFrame(data={'course_name': course_name, 'duration': duration})\n",
    "\n",
    "# Print the data present in the second row of the DataFrame df\n",
    "second_row_data = df.iloc[1]\n",
    "print(second_row_data)\n"
   ]
  },
  {
   "cell_type": "markdown",
   "id": "0fdc6688",
   "metadata": {},
   "source": [
    "Q2. What is the difference between the functions loc and iloc in pandas.DataFrame?"
   ]
  },
  {
   "cell_type": "code",
   "execution_count": 2,
   "id": "6fb4b3c7",
   "metadata": {},
   "outputs": [
    {
     "name": "stdout",
     "output_type": "stream",
     "text": [
      "Using loc:\n",
      "200\n",
      "    A    B     C\n",
      "1  20  200  2000\n",
      "2  30  300  3000\n",
      "\n",
      "Using iloc:\n",
      "200\n",
      "    A    B     C\n",
      "1  20  200  2000\n",
      "2  30  300  3000\n"
     ]
    }
   ],
   "source": [
    "import pandas as pd\n",
    "\n",
    "data = {\n",
    "    'A': [10, 20, 30, 40],\n",
    "    'B': [100, 200, 300, 400],\n",
    "    'C': [1000, 2000, 3000, 4000]\n",
    "}\n",
    "df = pd.DataFrame(data)\n",
    "\n",
    "# Using loc to select data based on labels\n",
    "print(\"Using loc:\")\n",
    "print(df.loc[1, 'B'])  # Output: 200 (value at row with label 1, column with label 'B')\n",
    "print(df.loc[1:2, 'A':'C'])\n",
    "\n",
    "# Using iloc to select data based on integer positions\n",
    "print(\"\\nUsing iloc:\")\n",
    "print(df.iloc[1, 1])  # Output: 200 (value at row with index 1, column with index 1)\n",
    "print(df.iloc[1:3, 0:3])  # Output: Selects rows with indices 1 and 2, and columns with integer positions 0, 1, and 2 (exclusive)\n"
   ]
  },
  {
   "cell_type": "markdown",
   "id": "8a2f2e86",
   "metadata": {},
   "source": [
    "Q3. Reindex the given dataframe using a variable, reindex = [3,0,1,2] and store it in the variable, new_df\n",
    "then find the output for both new_df.loc[2] and new_df.iloc[2].\n",
    "Did you observe any difference in both the outputs? If so then explain it.\n",
    "Consider the below code to answer further questions:\n",
    "import pandas as pd\n",
    "import numpy as np\n",
    "columns = ['column_1', 'column_2', 'column_3', 'column_4', 'column_5', 'column_6']\n",
    "indices = [1,2,3,4,5,6]\n",
    "#Creating a dataframe:\n",
    "df1 = pd.DataFrame(np.random.rand(6,6), columns = columns, index = indices)"
   ]
  },
  {
   "cell_type": "code",
   "execution_count": 4,
   "id": "1945e9e3",
   "metadata": {},
   "outputs": [
    {
     "name": "stdout",
     "output_type": "stream",
     "text": [
      "Reindexed DataFrame:\n",
      "   column_1  column_2  column_3  column_4  column_5  column_6\n",
      "3  0.189338  0.956736  0.123901  0.000017  0.625781  0.180715\n",
      "0       NaN       NaN       NaN       NaN       NaN       NaN\n",
      "1  0.888787  0.568223  0.844957  0.690220  0.275261  0.608997\n",
      "2  0.901123  0.970602  0.078897  0.559790  0.904162  0.140847\n",
      "\n",
      "new_df.loc[2]:\n",
      "column_1    0.901123\n",
      "column_2    0.970602\n",
      "column_3    0.078897\n",
      "column_4    0.559790\n",
      "column_5    0.904162\n",
      "column_6    0.140847\n",
      "Name: 2, dtype: float64\n",
      "\n",
      "new_df.iloc[2]:\n",
      "column_1    0.888787\n",
      "column_2    0.568223\n",
      "column_3    0.844957\n",
      "column_4    0.690220\n",
      "column_5    0.275261\n",
      "column_6    0.608997\n",
      "Name: 1, dtype: float64\n"
     ]
    }
   ],
   "source": [
    "import pandas as pd\n",
    "import numpy as np\n",
    "\n",
    "# Given DataFrame\n",
    "columns = ['column_1', 'column_2', 'column_3', 'column_4', 'column_5', 'column_6']\n",
    "indices = [1, 2, 3, 4, 5, 6]\n",
    "df1 = pd.DataFrame(np.random.rand(6, 6), columns=columns, index=indices)\n",
    "\n",
    "# Reindex using the variable 'reindex'\n",
    "reindex = [3, 0, 1, 2]\n",
    "new_df = df1.reindex(reindex)\n",
    "\n",
    "# Print the new DataFrame 'new_df'\n",
    "print(\"Reindexed DataFrame:\")\n",
    "print(new_df)\n",
    "\n",
    "# Accessing row at index 2 using loc and iloc\n",
    "print(\"\\nnew_df.loc[2]:\")\n",
    "print(new_df.loc[2])\n",
    "\n",
    "print(\"\\nnew_df.iloc[2]:\")\n",
    "print(new_df.iloc[2])\n"
   ]
  },
  {
   "cell_type": "markdown",
   "id": "cda2ca26",
   "metadata": {},
   "source": [
    "Q4. Write a code to find the following statistical measurements for the above dataframe df1:\n",
    "(i) mean of each and every column present in the dataframe.\n",
    "(ii) standard deviation of column, ‘column_2’"
   ]
  },
  {
   "cell_type": "code",
   "execution_count": 6,
   "id": "7818bf42",
   "metadata": {},
   "outputs": [
    {
     "name": "stdout",
     "output_type": "stream",
     "text": [
      "Mean of each column:\n",
      "column_1    0.598844\n",
      "column_2    0.511707\n",
      "column_3    0.521110\n",
      "column_4    0.616211\n",
      "column_5    0.403198\n",
      "column_6    0.262950\n",
      "dtype: float64\n",
      "\n",
      "Standard deviation of column 'column_2':\n",
      "0.3159955170561263\n"
     ]
    }
   ],
   "source": [
    "import pandas as pd\n",
    "import numpy as np\n",
    "\n",
    "# Given DataFrame\n",
    "columns = ['column_1', 'column_2', 'column_3', 'column_4', 'column_5', 'column_6']\n",
    "indices = [1, 2, 3, 4, 5, 6]\n",
    "df1 = pd.DataFrame(np.random.rand(6, 6), columns=columns, index=indices)\n",
    "\n",
    "# (i) Mean of each column in the DataFrame df1\n",
    "column_means = df1.mean()\n",
    "print(\"Mean of each column:\")\n",
    "print(column_means)\n",
    "\n",
    "# (ii) Standard deviation of the column 'column_2'\n",
    "column_2_std = df1['column_2'].std()\n",
    "print(\"\\nStandard deviation of column 'column_2':\")\n",
    "print(column_2_std)\n"
   ]
  },
  {
   "cell_type": "markdown",
   "id": "ef1be8ed",
   "metadata": {},
   "source": [
    "Q5. Replace the data present in the second row of column, ‘column_2’ by a string variable then find the\n",
    "mean of column, column_2.\n",
    "If you are getting errors in executing it then explain why.\n",
    "[Hint: To replace the data use df1.loc[] and equate this to string data of your choice.]"
   ]
  },
  {
   "cell_type": "code",
   "execution_count": 8,
   "id": "a77f83ce",
   "metadata": {},
   "outputs": [
    {
     "name": "stdout",
     "output_type": "stream",
     "text": [
      "Mean of column 'column_2': 1.9746495873319558\n"
     ]
    }
   ],
   "source": [
    "import pandas as pd\n",
    "import numpy as np\n",
    "\n",
    "# Given DataFrame\n",
    "columns = ['column_1', 'column_2', 'column_3', 'column_4', 'column_5', 'column_6']\n",
    "indices = [1, 2, 3, 4, 5, 6]\n",
    "df1 = pd.DataFrame(np.random.rand(6, 6), columns=columns, index=indices)\n",
    "\n",
    "# Replacing data in the second row of 'column_2' with a numeric value (e.g., 10)\n",
    "df1.loc[2, 'column_2'] = 10\n",
    "\n",
    "# Find the mean of column 'column_2'\n",
    "column_2_mean = df1['column_2'].mean()\n",
    "print(\"Mean of column 'column_2':\", column_2_mean)\n"
   ]
  },
  {
   "cell_type": "markdown",
   "id": "f8d51d60",
   "metadata": {},
   "source": [
    "Q6. What do you understand about the windows function in pandas and list the types of windows\n",
    "functions?"
   ]
  },
  {
   "cell_type": "markdown",
   "id": "a710e72c",
   "metadata": {},
   "source": [
    "In Pandas, the \"window functions\" refer to a group of functions that operate on a sliding window of data in a DataFrame or a Series. These functions allow you to perform calculations and transformations on a set of data points within a specified window size, which moves through the data sequentially. Window functions are particularly useful for tasks such as rolling computations, moving averages, cumulative sums, and more.\n",
    "\n",
    "Types of Window Functions in Pandas:\n",
    "\n",
    "1.Rolling Window Functions:\n",
    "\n",
    "Rolling window functions are used to perform calculations over a fixed-size moving window of data.\n",
    "The window size is specified, and the function calculates results for each window as it moves through the data.\n",
    "Common rolling window functions include rolling(), mean(), sum(), std(), min(), max(), and many more.\n",
    "\n",
    "\n",
    "2.Expanding Window Functions:\n",
    "\n",
    "Expanding window functions calculate the result for the entire range of data up to the current point, progressively including more data as it moves through the DataFrame.\n",
    "Unlike rolling window functions, the window size is not fixed but increases as more data points are included.\n",
    "Common expanding window functions include expanding(), mean(), sum(), std(), min(), max(), and others."
   ]
  },
  {
   "cell_type": "markdown",
   "id": "b49103dd",
   "metadata": {},
   "source": [
    "Q7. Write a code to print only the current month and year at the time of answering this question.\n",
    "[Hint: Use pandas.datetime function]"
   ]
  },
  {
   "cell_type": "code",
   "execution_count": 9,
   "id": "a2888203",
   "metadata": {},
   "outputs": [
    {
     "name": "stdout",
     "output_type": "stream",
     "text": [
      "Current Month: 7\n",
      "Current Year: 2023\n"
     ]
    }
   ],
   "source": [
    "import pandas as pd\n",
    "from datetime import datetime\n",
    "\n",
    "# Get the current date and time\n",
    "current_date = datetime.now()\n",
    "\n",
    "# Extract the current month and year from the current date\n",
    "current_month = current_date.month\n",
    "current_year = current_date.year\n",
    "\n",
    "# Print the current month and year\n",
    "print(\"Current Month:\", current_month)\n",
    "print(\"Current Year:\", current_year)\n"
   ]
  },
  {
   "cell_type": "markdown",
   "id": "cb11796c",
   "metadata": {},
   "source": [
    "Q8. Write a Python program that takes in two dates as input (in the format YYYY-MM-DD) and\n",
    "calculates the difference between them in days, hours, and minutes using Pandas time delta. The\n",
    "program should prompt the user to enter the dates and display the result."
   ]
  },
  {
   "cell_type": "code",
   "execution_count": 10,
   "id": "95d6a6c0",
   "metadata": {},
   "outputs": [
    {
     "name": "stdout",
     "output_type": "stream",
     "text": [
      "Enter the first date (YYYY-MM-DD): 2004-05-10\n",
      "Enter the second date (YYYY-MM-DD): 2023-07-23\n",
      "\n",
      "Difference between the dates:\n",
      "Days: 7013\n",
      "Hours: 0\n",
      "Minutes: 0\n"
     ]
    }
   ],
   "source": [
    "import pandas as pd\n",
    "\n",
    "def date_difference():\n",
    "    # Prompt the user to enter the two dates in the format 'YYYY-MM-DD'\n",
    "    date1_str = input(\"Enter the first date (YYYY-MM-DD): \")\n",
    "    date2_str = input(\"Enter the second date (YYYY-MM-DD): \")\n",
    "\n",
    "    try:\n",
    "        # Convert the input strings to pandas Timestamp objects\n",
    "        date1 = pd.Timestamp(date1_str)\n",
    "        date2 = pd.Timestamp(date2_str)\n",
    "\n",
    "        # Calculate the difference between the two dates using timedelta\n",
    "        time_difference = date2 - date1\n",
    "\n",
    "        # Extract the difference in days, hours, and minutes\n",
    "        days_difference = time_difference.days\n",
    "        hours_difference = time_difference.seconds // 3600\n",
    "        minutes_difference = (time_difference.seconds % 3600) // 60\n",
    "\n",
    "        # Display the result\n",
    "        print(\"\\nDifference between the dates:\")\n",
    "        print(f\"Days: {days_difference}\")\n",
    "        print(f\"Hours: {hours_difference}\")\n",
    "        print(f\"Minutes: {minutes_difference}\")\n",
    "\n",
    "    except ValueError:\n",
    "        print(\"Invalid date format. Please enter dates in the format 'YYYY-MM-DD'.\")\n",
    "\n",
    "if __name__ == \"__main__\":\n",
    "    date_difference()\n"
   ]
  },
  {
   "cell_type": "markdown",
   "id": "4f6eef82",
   "metadata": {},
   "source": [
    "Q9. Write a Python program that reads a CSV file containing categorical data and converts a specified\n",
    "column to a categorical data type. The program should prompt the user to enter the file path, column\n",
    "name, and category order, and then display the sorted data."
   ]
  },
  {
   "cell_type": "code",
   "execution_count": null,
   "id": "c325506d",
   "metadata": {},
   "outputs": [],
   "source": [
    "import pandas as pd\n",
    "\n",
    "def convert_to_categorical():\n",
    "    # Prompt the user to enter the file path and column name\n",
    "    file_path = input(\"Enter the CSV file path: \")\n",
    "    column_name = input(\"Enter the column name to convert to categorical: \")\n",
    "\n",
    "    try:\n",
    "        # Read the CSV file into a DataFrame\n",
    "        df = pd.read_csv(file_path)\n",
    "\n",
    "        # Prompt the user to enter the category order as a comma-separated list\n",
    "        category_order_str = input(\"Enter the category order (comma-separated): \")\n",
    "        category_order = [category.strip() for category in category_order_str.split(',')]\n",
    "\n",
    "        # Convert the specified column to categorical with the specified category order\n",
    "        df[column_name] = pd.Categorical(df[column_name], categories=category_order, ordered=True)\n",
    "\n",
    "        # Sort the DataFrame based on the categorical column\n",
    "        sorted_df = df.sort_values(by=column_name)\n",
    "\n",
    "        # Display the sorted data\n",
    "        print(\"\\nSorted Data:\")\n",
    "        print(sorted_df)\n",
    "\n",
    "    except FileNotFoundError:\n",
    "        print(\"File not found. Please check the file path.\")\n",
    "    except KeyError:\n",
    "        print(f\"Column '{column_name}' not found in the CSV file.\")\n",
    "    except ValueError:\n",
    "        print(\"Invalid category order. Please enter the categories correctly.\")\n",
    "\n",
    "if __name__ == \"__main__\":\n",
    "    convert_to_categorical()\n"
   ]
  },
  {
   "cell_type": "markdown",
   "id": "b5667e4f",
   "metadata": {},
   "source": [
    "Q10. Write a Python program that reads a CSV file containing sales data for different products and\n",
    "visualizes the data using a stacked bar chart to show the sales of each product category over time. The\n",
    "program should prompt the user to enter the file path and display the chart."
   ]
  },
  {
   "cell_type": "code",
   "execution_count": null,
   "id": "2d7facd6",
   "metadata": {},
   "outputs": [],
   "source": [
    "import pandas as pd\n",
    "import matplotlib.pyplot as plt\n",
    "\n",
    "def visualize_sales_data():\n",
    "    # Prompt the user to enter the file path\n",
    "    file_path = input(\"Enter the CSV file path: \")\n",
    "\n",
    "    try:\n",
    "        # Read the CSV file into a DataFrame\n",
    "        df = pd.read_csv(file_path)\n",
    "\n",
    "        # Assuming the CSV file contains columns 'Date', 'Product', and 'Sales'\n",
    "        # Convert the 'Date' column to a pandas datetime object\n",
    "        df['Date'] = pd.to_datetime(df['Date'])\n",
    "\n",
    "        # Group the data by 'Date' and 'Product' and sum the 'Sales' for each product category\n",
    "        sales_data = df.groupby(['Date', 'Product'])['Sales'].sum().unstack(fill_value=0)\n",
    "\n",
    "        # Create a stacked bar chart\n",
    "        sales_data.plot(kind='bar', stacked=True, figsize=(10, 6))\n",
    "\n",
    "        # Customize the plot\n",
    "        plt.title(\"Sales of Each Product Category Over Time\")\n",
    "        plt.xlabel(\"Date\")\n",
    "        plt.ylabel(\"Sales\")\n",
    "        plt.legend(title=\"Product\", bbox_to_anchor=(1.05, 1), loc='upper left')\n",
    "\n",
    "        # Display the chart\n",
    "        plt.show()\n",
    "\n",
    "    except FileNotFoundError:\n",
    "        print(\"File not found. Please check the file path.\")\n",
    "    except KeyError:\n",
    "        print(\"Required columns 'Date', 'Product', and 'Sales' not found in the CSV file.\")\n",
    "\n",
    "if __name__ == \"__main__\":\n",
    "    visualize_sales_data()\n"
   ]
  },
  {
   "cell_type": "markdown",
   "id": "bde2d3ec",
   "metadata": {},
   "source": [
    "Q11. You are given a CSV file containing student data that includes the student ID and their test score. Write\n",
    "a Python program that reads the CSV file, calculates the mean, median, and mode of the test scores, and\n",
    "displays the results in a table.\n",
    "The program should do the followingM\n",
    "I Prompt the user to enter the file path of the CSV file containing the student dataR\n",
    "I Read the CSV file into a Pandas DataFrameR\n",
    "I Calculate the mean, median, and mode of the test scores using Pandas toolsR\n",
    "I Display the mean, median, and mode in a table.\n",
    "Assume the CSV file contains the following columnsM\n",
    "I Student ID: The ID of the studentR\n",
    "I Test Score: The score of the student's test.\n",
    "Example usage of the program:\n",
    "Enter the file path of the CSV file containing the student data: student_data.csv\n",
    "+-----------+--------+\n",
    "| Statistic | Value |\n",
    "+-----------+--------+\n",
    "| Mean | 79.6 |\n",
    "| Median | 82 |\n",
    "| Mode | 85, 90 |\n",
    "+-----------+--------+\n",
    "Assume that the CSV file student_data.csv contains the following data:\n",
    "Student ID,Test Score\n",
    "1,85\n",
    "2,90\n",
    "3,80\n",
    "4,75\n",
    "5,85\n",
    "6,82\n",
    "7,78\n",
    "8,85\n",
    "9,90\n",
    "10,85\n",
    "The program should calculate the mean, median, and mode of the test scores and display the results\n",
    "in a table.\n"
   ]
  },
  {
   "cell_type": "code",
   "execution_count": null,
   "id": "9470914b",
   "metadata": {},
   "outputs": [],
   "source": [
    "import pandas as pd\n",
    "\n",
    "def calculate_statistics():\n",
    "    # Prompt the user to enter the file path of the CSV file containing student data\n",
    "    file_path = input(\"Enter the file path of the CSV file containing student data: \")\n",
    "\n",
    "    try:\n",
    "        # Read the CSV file into a DataFrame\n",
    "        df = pd.read_csv(file_path)\n",
    "\n",
    "        # Calculate the mean, median, and mode of the test scores\n",
    "        mean_score = df['Test Score'].mean()\n",
    "        median_score = df['Test Score'].median()\n",
    "        mode_scores = df['Test Score'].mode()\n",
    "\n",
    "        # Create a table to display the results\n",
    "        results_table = pd.DataFrame({\n",
    "            'Statistic': ['Mean', 'Median', 'Mode'],\n",
    "            'Value': [mean_score, median_score, ', '.join(map(str, mode_scores))]\n",
    "        })\n",
    "\n",
    "        # Display the results\n",
    "        print(\"\\n+-----------+--------+\")\n",
    "        print(\"| Statistic | Value |\")\n",
    "        print(\"+-----------+--------+\")\n",
    "        for index, row in results_table.iterrows():\n",
    "            print(f\"| {row['Statistic']:9} | {row['Value']:6} |\")\n",
    "        print(\"+-----------+--------+\")\n",
    "\n",
    "    except FileNotFoundError:\n",
    "        print(\"File not found. Please check the file path.\")\n",
    "    except KeyError:\n",
    "        print(\"Required column 'Test Score' not found in the CSV file.\")\n",
    "    except Exception as e:\n",
    "        print(f\"Error occurred: {e}\")\n",
    "\n",
    "if __name__ == \"__main__\":\n",
    "    calculate_statistics()\n"
   ]
  },
  {
   "cell_type": "code",
   "execution_count": null,
   "id": "ffd65079",
   "metadata": {},
   "outputs": [],
   "source": []
  }
 ],
 "metadata": {
  "kernelspec": {
   "display_name": "Python 3 (ipykernel)",
   "language": "python",
   "name": "python3"
  },
  "language_info": {
   "codemirror_mode": {
    "name": "ipython",
    "version": 3
   },
   "file_extension": ".py",
   "mimetype": "text/x-python",
   "name": "python",
   "nbconvert_exporter": "python",
   "pygments_lexer": "ipython3",
   "version": "3.9.13"
  }
 },
 "nbformat": 4,
 "nbformat_minor": 5
}
