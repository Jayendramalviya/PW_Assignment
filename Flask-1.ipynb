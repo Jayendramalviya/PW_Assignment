{
 "cells": [
  {
   "cell_type": "markdown",
   "id": "c42015ee",
   "metadata": {},
   "source": [
    "Q1. What is Flask Framework? What are the advantages of Flask Framework?"
   ]
  },
  {
   "cell_type": "markdown",
   "id": "58a3f74c",
   "metadata": {},
   "source": [
    "\n",
    "Flask is a lightweight and popular web framework for Python. It provides a simple yet powerful foundation for building web applications. Here's an explanation of Flask and its advantages:\n",
    "\n",
    "Flask Framework:\n",
    "Flask is a micro web framework that follows the \"micro\" philosophy, which means it aims to keep the core functionality minimal and provides extensibility through modular extensions.\n",
    "\n",
    "   Advantages of Flask Framework:\n",
    "\n",
    "1.Simplicity: Flask has a simple and intuitive design that makes it easy to understand and use. It has a small learning curve, making it accessible to beginners and allowing developers to quickly get started with building web applications.\n",
    "\n",
    "2.Lightweight and Flexible: Flask is a lightweight framework that does not impose unnecessary dependencies or restriction.\n",
    "\n",
    "3.Extensibility: Flask provides a modular structure that encourages the use of extensions. \n",
    "\n",
    "4.Integrated Development Server: Flask comes with a built-in development server that makes it convenient for developers to test and debug their applications during the development process. \n",
    "\n",
    "5.Python Integration: Flask is built with Python and seamlessly integrates with Python libraries and tools. This allows developers to leverage the rich Python ecosystem and utilize existing Python knowledge and resources in their Flask applications.\n",
    "\n"
   ]
  },
  {
   "cell_type": "markdown",
   "id": "7388b870",
   "metadata": {},
   "source": [
    "Q2. Create a simple Flask application to display ‘Hello World!!’. Attach the screenshot of the output in\n",
    "Jupyter Notebook."
   ]
  },
  {
   "cell_type": "code",
   "execution_count": null,
   "id": "0139eac8",
   "metadata": {},
   "outputs": [
    {
     "name": "stdout",
     "output_type": "stream",
     "text": [
      " * Serving Flask app \"__main__\" (lazy loading)\n",
      " * Environment: production\n",
      "\u001b[31m   WARNING: This is a development server. Do not use it in a production deployment.\u001b[0m\n",
      "\u001b[2m   Use a production WSGI server instead.\u001b[0m\n",
      " * Debug mode: off\n"
     ]
    },
    {
     "name": "stderr",
     "output_type": "stream",
     "text": [
      " * Running on http://127.0.0.1:5000/ (Press CTRL+C to quit)\n",
      "127.0.0.1 - - [22/Jun/2023 14:15:35] \"GET / HTTP/1.1\" 200 -\n",
      "127.0.0.1 - - [22/Jun/2023 14:15:35] \"GET /favicon.ico HTTP/1.1\" 404 -\n"
     ]
    }
   ],
   "source": [
    " #Flask application that displays \"Hello World!!\" and guide you on how to run it in a Jupyter Notebook. Here's the code:\n",
    "\n",
    "\n",
    "from flask import Flask\n",
    "\n",
    "app = Flask(__name__)\n",
    "\n",
    "@app.route('/')\n",
    "def hello_world():\n",
    "    return 'Hello World!!'\n",
    "\n",
    "if __name__ == '__main__':\n",
    "    app.run()\n"
   ]
  },
  {
   "cell_type": "markdown",
   "id": "0486cd83",
   "metadata": {},
   "source": [
    "Q3. What is App routing in Flask? Why do we use app routes?"
   ]
  },
  {
   "cell_type": "markdown",
   "id": "7a4727ab",
   "metadata": {},
   "source": [
    "App routing in Flask refers to the process of defining URL routes or endpoints for handling different HTTP requests in a Flask application. These routes determine the functionality and content that should be returned when a specific URL is accessed.\n",
    "\n",
    "In Flask, app routing is achieved using the @app.route() decorator. It is applied to a Python function that serves as a view function, responsible for processing the request and generating the response. The @app.route() decorator associates a URL pattern (route) with the view function, indicating which URL should trigger the function."
   ]
  },
  {
   "cell_type": "markdown",
   "id": "2fb302ca",
   "metadata": {},
   "source": [
    "Q4. Create a “/welcome” route to display the welcome message “Welcome to ABC Corporation” and a “/”\n",
    "route to show the following details:\n",
    "Company Name: ABC Corporation\n",
    "Location: India\n",
    "Contact Detail: 999-999-9999"
   ]
  },
  {
   "cell_type": "code",
   "execution_count": null,
   "id": "adeed35d",
   "metadata": {},
   "outputs": [],
   "source": [
    "from flask import Flask\n",
    "\n",
    "app = Flask(__name__)\n",
    "\n",
    "@app.route('/welcome')\n",
    "def welcome():\n",
    "    return 'Welcome to ABC Corporation'\n",
    "\n",
    "@app.route('/')\n",
    "def company_details():\n",
    "    return '''\n",
    "    <h1>Company Name: ABC Corporation</h1>\n",
    "    <p>Location: India</p>\n",
    "    <p>Contact Detail: 999-999-9999</p>\n",
    "    '''\n",
    "\n",
    "if __name__ == '__main__':\n",
    "    app.run()\n",
    "\n",
    "    "
   ]
  },
  {
   "cell_type": "markdown",
   "id": "813cc928",
   "metadata": {},
   "source": [
    "Q5. What function is used in Flask for URL Building? Write a Python code to demonstrate the working of the\n",
    "url_for() function."
   ]
  },
  {
   "cell_type": "code",
   "execution_count": null,
   "id": "7b4c7017",
   "metadata": {},
   "outputs": [],
   "source": [
    "\n",
    "#In Flask, the url_for() function is used for URL building. It is a handy function that generates a URL for a given endpoint (view function) based on its name and any associated paramete\n",
    "\n",
    "\n",
    "from flask import Flask, url_for\n",
    "\n",
    "app = Flask(__name__)\n",
    "\n",
    "@app.route('/')\n",
    "def home():\n",
    "    return 'Home Page'\n",
    "\n",
    "@app.route('/user/<username>')\n",
    "def user_profile(username):\n",
    "    return f'Profile Page of {username}'\n",
    "\n",
    "@app.route('/post/<int:post_id>')\n",
    "def post_details(post_id):\n",
    "    return f'Details of Post {post_id}'\n",
    "\n",
    "if __name__ == '__main__':\n",
    "    with app.test_request_context():\n",
    "        print(url_for('home'))  # Output: /\n",
    "        print(url_for('user_profile', username='john'))  # Output: /user/john\n",
    "        print(url_for('post_details', post_id=123))  # Output: /post/123\n"
   ]
  },
  {
   "cell_type": "code",
   "execution_count": null,
   "id": "73c6bc72",
   "metadata": {},
   "outputs": [],
   "source": []
  }
 ],
 "metadata": {
  "kernelspec": {
   "display_name": "Python 3 (ipykernel)",
   "language": "python",
   "name": "python3"
  },
  "language_info": {
   "codemirror_mode": {
    "name": "ipython",
    "version": 3
   },
   "file_extension": ".py",
   "mimetype": "text/x-python",
   "name": "python",
   "nbconvert_exporter": "python",
   "pygments_lexer": "ipython3",
   "version": "3.9.13"
  }
 },
 "nbformat": 4,
 "nbformat_minor": 5
}
