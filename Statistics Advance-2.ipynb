{
 "cells": [
  {
   "cell_type": "markdown",
   "id": "cd83405b",
   "metadata": {},
   "source": [
    "Q1: What are the Probability Mass Function (PMF) and Probability Density Function (PDF)? Explain with\n",
    "an example."
   ]
  },
  {
   "cell_type": "markdown",
   "id": "ff3fed7e",
   "metadata": {},
   "source": [
    "PMF is used for discrete random variables and gives the probability that a discrete random variable takes on a specific value. For example, in a fair six-sided die, the PMF of rolling a 3 is 1/6, as there is a 1/6 probability of rolling a 3.\n",
    "\n",
    "PDF is used for continuous random variables and gives the probability density at each point along the continuous range. Unlike PMF, which assigns probabilities to specific values, PDF provides the likelihood of a continuous random variable falling within a particular range. For example, in the standard normal distribution, the PDF is highest at the mean (0) and gradually decreases as we move away from it, indicating the likelihood of a random observation being within certain intervals."
   ]
  },
  {
   "cell_type": "markdown",
   "id": "c804c804",
   "metadata": {},
   "source": [
    "Q2: What is Cumulative Density Function (CDF)? Explain with an example. Why CDF is used?"
   ]
  },
  {
   "cell_type": "markdown",
   "id": "68efafd1",
   "metadata": {},
   "source": [
    ": Cumulative Density Function (CDF) gives the cumulative probability that a random variable is less than or equal to a specific value. It gives the area under the probability density curve up to that point.\n",
    "\n",
    "For example, in the standard normal distribution, the CDF at 1 is about 0.8413, which means that approximately 84.13% of the data falls below 1.\n",
    "\n",
    "CDF is used to calculate probabilities for a given range or interval, determine percentiles, and make comparisons between different data points in the distribution."
   ]
  },
  {
   "cell_type": "markdown",
   "id": "d48cafa0",
   "metadata": {},
   "source": [
    "Q3: What are some examples of situations where the normal distribution might be used as a model?\n",
    "Explain how the parameters of the normal distribution relate to the shape of the distribution."
   ]
  },
  {
   "cell_type": "markdown",
   "id": "1b159273",
   "metadata": {},
   "source": [
    " The normal distribution is used as a model in situations where data tends to cluster around a central value with symmetrical tails. Some examples include heights and weights of people, test scores, and errors in measurements."
   ]
  },
  {
   "cell_type": "markdown",
   "id": "1a08f67c",
   "metadata": {},
   "source": [
    "Q4: Explain the importance of Normal Distribution. Give a few real-life examples of Normal\n",
    "Distribution. "
   ]
  },
  {
   "cell_type": "markdown",
   "id": "29ccd227",
   "metadata": {},
   "source": [
    "The normal distribution is of great importance in statistics and data analysis due to the Central Limit Theorem (CLT). It provides a theoretical basis for many statistical methods. It is used in hypothesis testing, confidence interval estimation, and various inferential statistics.\n",
    "\n",
    "Real-life examples of the normal distribution include human height, IQ scores, exam scores, and errors in measurements like weighing scales."
   ]
  },
  {
   "cell_type": "markdown",
   "id": "4fa7e363",
   "metadata": {},
   "source": [
    "Q5: What is Bernaulli Distribution? Give an Example. What is the difference between Bernoulli\n",
    "Distribution and Binomial Distribution?"
   ]
  },
  {
   "cell_type": "markdown",
   "id": "e144a8ab",
   "metadata": {},
   "source": [
    "Bernoulli Distribution is a discrete probability distribution representing a single trial with two possible outcomes (success and failure), where the probability of success is denoted by 'p'. An example could be a coin flip, where success might be getting a head (p=0.5) and failure getting a tail (1-p=0.5)."
   ]
  },
  {
   "cell_type": "markdown",
   "id": "5fab8f88",
   "metadata": {},
   "source": [
    "The difference between Bernoulli Distribution and Binomial Distribution is that the former models a single trial, while the latter models multiple independent Bernoulli trials. The Binomial Distribution describes the number of successes in a fixed number of trials (n) with a given probability of success (p)."
   ]
  },
  {
   "cell_type": "markdown",
   "id": "39551651",
   "metadata": {},
   "source": [
    "Q6. Consider a dataset with a mean of 50 and a standard deviation of 10. If we assume that the dataset\n",
    "is normally distributed, what is the probability that a randomly selected observation will be greater\n",
    "than 60? Use the appropriate formula and show your calculations."
   ]
  },
  {
   "cell_type": "markdown",
   "id": "ac389a0e",
   "metadata": {},
   "source": [
    ": To find the probability that a randomly selected observation is greater than 60, we can use the z-score formula: z = (X - μ) / σ, where X is the value we want to find the probability for, μ is the mean, and σ is the standard deviation.\n",
    "\n",
    "Given: X = 60, μ = 50, σ = 10\n",
    "z = (60 - 50) / 10 = 1\n",
    "\n",
    "Now, using a standard normal table or a calculator, we can find that the probability (P) of a z-score greater than 1 is approximately 0.1587. Therefore, the probability of a randomly selected observation being greater than 60 is 0.1587 or 15.87%."
   ]
  },
  {
   "cell_type": "markdown",
   "id": "e4f1b0e1",
   "metadata": {},
   "source": [
    "Q7: Explain uniform Distribution with an example."
   ]
  },
  {
   "cell_type": "markdown",
   "id": "8716f4e5",
   "metadata": {},
   "source": [
    "Uniform Distribution is a continuous probability distribution where all values in a range have equal probability. It is represented by a constant probability density over a defined interval.\n",
    "\n",
    "For example, rolling a fair six-sided die has a uniform distribution. Each outcome (1 to 6) has an equal probability of 1/6."
   ]
  },
  {
   "cell_type": "markdown",
   "id": "a3609d94",
   "metadata": {},
   "source": [
    "Q8: What is the z score? State the importance of the z score."
   ]
  },
  {
   "cell_type": "markdown",
   "id": "c543ba60",
   "metadata": {},
   "source": [
    "The z-score, also known as the standard score, is a measure of how many standard deviations an observation is from the mean. It is calculated as z = (X - μ) / σ, where X is the observation, μ is the mean, and σ is the standard deviation.\n",
    "\n",
    "The importance of the z-score lies in standardizing different datasets so that they can be easily compared and analyzed. It allows us to understand how an individual data point compares to the entire distribution, providing insight into how unusual or common a specific observation is."
   ]
  },
  {
   "cell_type": "markdown",
   "id": "5b96aebd",
   "metadata": {},
   "source": [
    "Q9: What is Central Limit Theorem? State the significance of the Central Limit Theorem."
   ]
  },
  {
   "cell_type": "markdown",
   "id": "2c0c2200",
   "metadata": {},
   "source": [
    "Central Limit Theorem (CLT) states that the sampling distribution of the sample means (or other sample statistics) approaches a normal distribution as the sample size increases, regardless of the shape of the original population distribution. It is a fundamental concept in statistics.\n",
    "\n",
    "The significance of the Central Limit Theorem is that it allows us to make inferences about a population using the sample mean. Even if the original data is not normally distributed, the distribution of the sample mean will be approximately normal as long as the sample size is large enough. This is the basis for many statistical methods and hypothesis testing."
   ]
  },
  {
   "cell_type": "markdown",
   "id": "a2662050",
   "metadata": {},
   "source": [
    "Q10: State the assumptions of the Central Limit Theorem."
   ]
  },
  {
   "cell_type": "markdown",
   "id": "dca1d99f",
   "metadata": {},
   "source": [
    "The data is collected from a random sample.\n",
    "The sample size is sufficiently large (typically n ≥ 30).\n",
    "The observations in the sample are independent of each other.\n",
    "The data comes from a finite population, or if from an infinite population, the population distribution must have a well-defined mean and finite variance."
   ]
  }
 ],
 "metadata": {
  "kernelspec": {
   "display_name": "Python 3 (ipykernel)",
   "language": "python",
   "name": "python3"
  },
  "language_info": {
   "codemirror_mode": {
    "name": "ipython",
    "version": 3
   },
   "file_extension": ".py",
   "mimetype": "text/x-python",
   "name": "python",
   "nbconvert_exporter": "python",
   "pygments_lexer": "ipython3",
   "version": "3.9.13"
  }
 },
 "nbformat": 4,
 "nbformat_minor": 5
}
