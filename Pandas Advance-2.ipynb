{
 "cells": [
  {
   "cell_type": "markdown",
   "metadata": {},
   "source": [
    "Q1. Write a code to print the data present in the second row of the dataframe, df."
   ]
  },
  {
   "cell_type": "code",
   "execution_count": null,
   "metadata": {},
   "outputs": [],
   "source": [
    "import pandas as pd\n",
    "\n",
    "course_name = ['Data Science', 'Machine Learning', 'Big Data', 'Data Engineer']\n",
    "duration = [2, 3, 6, 4]\n",
    "df = pd.DataFrame(data={'course_name': course_name, 'duration': duration})\n",
    "print(df.iloc[1])\n"
   ]
  },
  {
   "cell_type": "markdown",
   "metadata": {},
   "source": [
    "Q2. What is the difference between the functions loc and iloc in pandas.DataFrame?"
   ]
  },
  {
   "cell_type": "code",
   "execution_count": null,
   "metadata": {},
   "outputs": [],
   "source": [
    "# Using loc (label-based)\n",
    "print(df.loc[1])  # Selects the row with label '1'\n",
    "\n",
    "# Using iloc (position-based)\n",
    "print(df.iloc[1])  # Selects the second row in the DataFrame (position index 1)\n"
   ]
  },
  {
   "cell_type": "markdown",
   "metadata": {},
   "source": [
    "Q3. Reindex the given dataframe using a variable, reindex = [3,0,1,2] and store it in the variable, new_df\n",
    "then find the output for both new_df.loc[2] and new_df.iloc[2]."
   ]
  },
  {
   "cell_type": "code",
   "execution_count": null,
   "metadata": {},
   "outputs": [],
   "source": [
    "import pandas as pd\n",
    "\n",
    "course_name = ['Data Science', 'Machine Learning', 'Big Data', 'Data Engineer']\n",
    "duration = [2, 3, 6, 4]\n",
    "df = pd.DataFrame(data={'course_name': course_name, 'duration': duration})\n",
    "\n",
    "# Reindex the DataFrame\n",
    "reindex = [3, 0, 1, 2]\n",
    "new_df = df.reindex(reindex)\n",
    "\n",
    "# Print the reindexed DataFrame\n",
    "print(\"Reindexed DataFrame:\")\n",
    "print(new_df, \"\\n\")\n",
    "\n",
    "# Output for new_df.loc[2]\n",
    "print(\"Output of new_df.loc[2]:\")\n",
    "print(new_df.loc[2], \"\\n\")\n",
    "\n",
    "# Output for new_df.iloc[2]\n",
    "print(\"Output of new_df.iloc[2]:\")\n",
    "print(new_df.iloc[2])\n"
   ]
  },
  {
   "cell_type": "markdown",
   "metadata": {},
   "source": [
    "Q4. Write a code to find the following statistical measurements for the above dataframe df1:\n",
    "(i) mean of each and every column present in the dataframe.\n",
    "(ii) standard deviation of column, ‘column_2’"
   ]
  },
  {
   "cell_type": "code",
   "execution_count": null,
   "metadata": {},
   "outputs": [],
   "source": [
    "import pandas as pd\n",
    "import numpy as np\n",
    "\n",
    "columns = ['column_1', 'column_2', 'column_3', 'column_4', 'column_5', 'column_6']\n",
    "indices = [1, 2, 3, 4, 5, 6]\n",
    "df1 = pd.DataFrame(np.random.rand(6, 6), columns=columns, index=indices)\n",
    "\n",
    "# (i) Mean of each column\n",
    "column_means = df1.mean()\n",
    "print(\"Mean of each column:\")\n",
    "print(column_means)\n",
    "\n",
    "# (ii) Standard deviation of 'column_2'\n",
    "column2_std = df1['column_2'].std()\n",
    "print(\"\\nStandard Deviation of 'column_2':\")\n",
    "print(column2_std)\n"
   ]
  },
  {
   "cell_type": "markdown",
   "metadata": {},
   "source": [
    "Q5. Replace the data present in the second row of column, ‘column_2’ by a string variable then find the\n",
    "mean of column, column_2.\n",
    "If you are getting errors in executing it then explain why.\n",
    "[Hint: To replace the data use df1.loc[] and equate this to string data of your choice.]"
   ]
  },
  {
   "cell_type": "code",
   "execution_count": null,
   "metadata": {},
   "outputs": [],
   "source": [
    "import pandas as pd\n",
    "import numpy as np\n",
    "\n",
    "# Creating the DataFrame\n",
    "columns = ['column_1', 'column_2', 'column_3', 'column_4', 'column_5', 'column_6']\n",
    "indices = [1, 2, 3, 4, 5, 6]\n",
    "df1 = pd.DataFrame(np.random.rand(6,6), columns=columns, index=indices)\n",
    "\n",
    "# Replace the data in the second row (index 2) of 'column_2' with a string\n",
    "df1.loc[2, 'column_2'] = \"Hello\"\n",
    "\n",
    "# Attempt to compute the mean of 'column_2'\n",
    "try:\n",
    "    mean_col2 = df1['column_2'].mean()\n",
    "    print(\"Mean of column_2:\", mean_col2)\n",
    "except Exception as e:\n",
    "    print(\"Error while computing mean of column_2:\", e)\n"
   ]
  },
  {
   "cell_type": "markdown",
   "metadata": {},
   "source": [
    "Q6. What do you understand about the windows function in pandas and list the types of windows\n",
    "functions?"
   ]
  },
  {
   "cell_type": "markdown",
   "metadata": {},
   "source": [
    "In pandas, window functions (often referred to as \"rolling\" or \"moving\" functions) allow you to perform calculations over a subset (window) of your data. They are especially useful when working with time series or sequential data, where you might want to compute statistics (such as mean, sum, standard deviation, etc.) over a sliding or expanding window of observations.\n",
    "\n",
    "Types of Window Functions in pandas:\n",
    "\n",
    "Rolling Windows:\n",
    "\n",
    "Method: .rolling(window=...)\n",
    "Description: A fixed-size window that slides over the data. At each position, calculations are performed over the data in that window.\n",
    "Example Use Cases: Moving averages, rolling sums, rolling standard deviations.\n",
    "Example: df.rolling(window=3).mean()\n",
    "Expanding Windows:\n",
    "\n",
    "Method: .expanding()\n",
    "Description: The window starts at the beginning of the dataset and increases in size with each new data point. Essentially, it calculates cumulative statistics.\n",
    "Example Use Cases: Cumulative sums, cumulative means.\n",
    "Example: df.expanding().mean()\n",
    "Exponentially Weighted Windows:\n",
    "\n",
    "Method: .ewm()\n",
    "Description: Applies exponential decay to older observations, giving more weight to recent data points. This is particularly useful when recent observations are more relevant.\n",
    "Example Use Cases: Exponential moving averages, smoothing time series data.\n",
    "Example: df.ewm(span=3).mean()"
   ]
  },
  {
   "cell_type": "markdown",
   "metadata": {},
   "source": [
    "Q7. Write a code to print only the current month and year at the time of answering this question.\n",
    "[Hint: Use pandas.datetime function]"
   ]
  },
  {
   "cell_type": "code",
   "execution_count": null,
   "metadata": {},
   "outputs": [],
   "source": [
    "import pandas as pd\n",
    "\n",
    "# Get the current timestamp using pandas\n",
    "current_date = pd.Timestamp.now()\n",
    "\n",
    "# Format the date to display only the month and year\n",
    "formatted_date = current_date.strftime(\"%B %Y\")\n",
    "print(formatted_date)\n"
   ]
  },
  {
   "cell_type": "markdown",
   "metadata": {},
   "source": [
    "Q8. Write a Python program that takes in two dates as input (in the format YYYY-MM-DD) and\n",
    "calculates the difference between them in days, hours, and minutes using Pandas time delta. The\n",
    "program should prompt the user to enter the dates and display the result."
   ]
  },
  {
   "cell_type": "code",
   "execution_count": null,
   "metadata": {},
   "outputs": [],
   "source": [
    "import pandas as pd\n",
    "\n",
    "# Prompt the user for two dates in the format YYYY-MM-DD\n",
    "date1_str = input(\"Enter the first date (YYYY-MM-DD): \")\n",
    "date2_str = input(\"Enter the second date (YYYY-MM-DD): \")\n",
    "\n",
    "# Convert the string inputs to pandas Timestamp objects\n",
    "date1 = pd.to_datetime(date1_str)\n",
    "date2 = pd.to_datetime(date2_str)\n",
    "\n",
    "# Calculate the absolute difference between the two dates (to avoid negative differences)\n",
    "delta = abs(date2 - date1)\n",
    "\n",
    "# Use the 'components' property of the Timedelta to extract days, hours, and minutes\n",
    "components = delta.components\n",
    "days = components.days\n",
    "hours = components.hours\n",
    "minutes = components.minutes\n",
    "\n",
    "# Display the result\n",
    "print(f\"Difference between the dates: {days} days, {hours} hours, and {minutes} minutes.\")\n"
   ]
  },
  {
   "cell_type": "markdown",
   "metadata": {},
   "source": [
    "Q9. Write a Python program that reads a CSV file containing categorical data and converts a specified\n",
    "column to a categorical data type. The program should prompt the user to enter the file path, column\n",
    "name, and category order, and then display the sorted data."
   ]
  },
  {
   "cell_type": "code",
   "execution_count": null,
   "metadata": {},
   "outputs": [],
   "source": [
    "import pandas as pd\n",
    "\n",
    "# Prompt the user for inputs\n",
    "file_path = input(\"Enter the CSV file path: \")\n",
    "column_name = input(\"Enter the column name to convert to categorical: \")\n",
    "category_order_str = input(\"Enter the category order (comma-separated): \")\n",
    "\n",
    "# Convert the comma-separated string to a list of categories, stripping any extra spaces\n",
    "category_order = [cat.strip() for cat in category_order_str.split(\",\")]\n",
    "\n",
    "# Read the CSV file into a DataFrame\n",
    "df = pd.read_csv(file_path)\n",
    "\n",
    "# Convert the specified column to a categorical type with the given order\n",
    "df[column_name] = pd.Categorical(df[column_name], categories=category_order, ordered=True)\n",
    "\n",
    "# Sort the DataFrame based on the categorical column\n",
    "df_sorted = df.sort_values(by=column_name)\n",
    "\n",
    "# Display the sorted data\n",
    "print(\"Sorted DataFrame:\")\n",
    "print(df_sorted)\n"
   ]
  },
  {
   "cell_type": "markdown",
   "metadata": {},
   "source": []
  },
  {
   "cell_type": "markdown",
   "metadata": {},
   "source": [
    "Q10. Write a Python program that reads a CSV file containing sales data for different products and\n",
    "visualizes the data using a stacked bar chart to show the sales of each product category over time. The\n",
    "program should prompt the user to enter the file path and display the chart."
   ]
  },
  {
   "cell_type": "code",
   "execution_count": null,
   "metadata": {},
   "outputs": [],
   "source": [
    "import pandas as pd\n",
    "import matplotlib.pyplot as plt\n",
    "\n",
    "def main():\n",
    "    # Prompt the user to enter the CSV file path\n",
    "    file_path = input(\"Enter the CSV file path: \")\n",
    "    \n",
    "    try:\n",
    "        # Read the CSV file into a DataFrame\n",
    "        df = pd.read_csv(file_path)\n",
    "    except Exception as e:\n",
    "        print(\"Error reading the CSV file:\", e)\n",
    "        return\n",
    "\n",
    "    # Check if required columns exist in the DataFrame\n",
    "    required_columns = ['Date', 'Product Category', 'Sales']\n",
    "    for col in required_columns:\n",
    "        if col not in df.columns:\n",
    "            print(f\"Required column '{col}' not found in the CSV file.\")\n",
    "            return\n",
    "\n",
    "    # Convert the 'Date' column to datetime and sort the data by date\n",
    "    df['Date'] = pd.to_datetime(df['Date'])\n",
    "    df.sort_values('Date', inplace=True)\n",
    "    \n",
    "    # Pivot the DataFrame: index will be 'Date', columns will be 'Product Category',\n",
    "    # and values will be the sum of 'Sales' for each date-category combination.\n",
    "    pivot_df = df.pivot_table(index='Date', \n",
    "                              columns='Product Category', \n",
    "                              values='Sales', \n",
    "                              aggfunc='sum')\n",
    "    \n",
    "    # Create a stacked bar chart using the pivoted data\n",
    "    pivot_df.plot(kind='bar', stacked=True, figsize=(10, 6))\n",
    "    plt.xlabel('Date')\n",
    "    plt.ylabel('Sales')\n",
    "    plt.title('Sales by Product Category Over Time')\n",
    "    plt.legend(title='Product Category', bbox_to_anchor=(1.05, 1), loc='upper left')\n",
    "    plt.tight_layout()\n",
    "    plt.show()\n",
    "\n",
    "if __name__ == '__main__':\n",
    "    main()\n"
   ]
  },
  {
   "cell_type": "code",
   "execution_count": null,
   "metadata": {},
   "outputs": [],
   "source": []
  }
 ],
 "metadata": {
  "kernelspec": {
   "display_name": "Python 3",
   "language": "python",
   "name": "python3"
  },
  "language_info": {
   "codemirror_mode": {
    "name": "ipython",
    "version": 3
   },
   "file_extension": ".py",
   "mimetype": "text/x-python",
   "name": "python",
   "nbconvert_exporter": "python",
   "pygments_lexer": "ipython3",
   "version": "3.12.4"
  }
 },
 "nbformat": 4,
 "nbformat_minor": 2
}
