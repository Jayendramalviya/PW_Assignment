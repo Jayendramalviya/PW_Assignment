{
 "cells": [
  {
   "cell_type": "markdown",
   "id": "3ebf2bd8",
   "metadata": {},
   "source": [
    "Q1, Create a vehicle class with an init method having instance variables as name_of_vehicle, max_speed\n",
    "and average_of_vehicle."
   ]
  },
  {
   "cell_type": "code",
   "execution_count": 3,
   "id": "04cb2b00",
   "metadata": {},
   "outputs": [],
   "source": [
    "class Vehicle:\n",
    "    def __init__(self, name_of_vehicle, max_speed, average_of_vehicle):\n",
    "        self.name_of_vehicle = name_of_vehicle\n",
    "        self.max_speed = max_speed\n",
    "        self.average_of_vehicle = average_of_vehicle\n"
   ]
  },
  {
   "cell_type": "code",
   "execution_count": 5,
   "id": "0d9af6fe",
   "metadata": {},
   "outputs": [
    {
     "name": "stdout",
     "output_type": "stream",
     "text": [
      "Tesla Model S\n",
      "250\n",
      "30\n"
     ]
    }
   ],
   "source": [
    "car = Vehicle(\"Tesla Model S\", 250, 30)\n",
    "print(car.name_of_vehicle) \n",
    "print(car.max_speed)  \n",
    "print(car.average_of_vehicle)  \n"
   ]
  },
  {
   "cell_type": "markdown",
   "id": "471f37d5",
   "metadata": {},
   "source": [
    "Q2. Create a child class car from the vehicle class created in Que 1, which will inherit the vehicle class.\n",
    "Create a method named seating_capacity which takes capacity as an argument and returns the name of\n",
    "the vehicle and its seating capacity."
   ]
  },
  {
   "cell_type": "code",
   "execution_count": 8,
   "id": "ff6639b4",
   "metadata": {},
   "outputs": [],
   "source": [
    "class Car(Vehicle):\n",
    "    def seating_capacity(self, capacity):\n",
    "        return f\"The {self.name_of_vehicle} has a seating capacity of {capacity}.\"\n",
    "\n"
   ]
  },
  {
   "cell_type": "markdown",
   "id": "8dce1738",
   "metadata": {},
   "source": [
    "car = Car(\"Tesla Model S\", 250, 30)\n",
    "print(car.seating_capacity(5))  "
   ]
  },
  {
   "cell_type": "code",
   "execution_count": 9,
   "id": "60c42c92",
   "metadata": {},
   "outputs": [
    {
     "name": "stdout",
     "output_type": "stream",
     "text": [
      "The Tesla Model S has a seating capacity of 5.\n"
     ]
    }
   ],
   "source": [
    "car = Car(\"Tesla Model S\", 250, 30)\n",
    "print(car.seating_capacity(5))  \n"
   ]
  },
  {
   "cell_type": "markdown",
   "id": "60e41e97",
   "metadata": {},
   "source": [
    "Q3. What is multiple inheritance? Write a python code to demonstrate multiple inheritance."
   ]
  },
  {
   "cell_type": "markdown",
   "id": "b66799f7",
   "metadata": {},
   "source": [
    "Multiple inheritance is a feature in object-oriented programming languages that allows a class to inherit characteristics and behaviors from more than one parent class. In multiple inheritance, a child class can inherit attributes and methods from multiple parent classes, thereby incorporating the features of all the parent classes into the child class."
   ]
  },
  {
   "cell_type": "code",
   "execution_count": 10,
   "id": "11c69c14",
   "metadata": {},
   "outputs": [
    {
     "name": "stdout",
     "output_type": "stream",
     "text": [
      "Chimera\n",
      "Mammal: Roar!\n"
     ]
    }
   ],
   "source": [
    "class Animal:\n",
    "    def __init__(self, name):\n",
    "        self.name = name\n",
    "\n",
    "    def speak(self):\n",
    "        raise NotImplementedError(\"Subclass must implement the 'speak' method.\")\n",
    "\n",
    "\n",
    "class Mammal(Animal):\n",
    "    def speak(self):\n",
    "        return \"Mammal: Roar!\"\n",
    "\n",
    "\n",
    "class Bird(Animal):\n",
    "    def speak(self):\n",
    "        return \"Bird: Chirp!\"\n",
    "\n",
    "\n",
    "class Chimera(Mammal, Bird):\n",
    "    pass\n",
    "\n",
    "\n",
    "chimera = Chimera(\"Chimera\")\n",
    "print(chimera.name)  \n",
    "print(chimera.speak())  \n",
    "\n"
   ]
  },
  {
   "cell_type": "markdown",
   "id": "f58953a8",
   "metadata": {},
   "source": [
    "Q4. What are getter and setter in python? Create a class and create a getter and a setter method in this\n",
    "class."
   ]
  },
  {
   "cell_type": "code",
   "execution_count": 11,
   "id": "aeb70439",
   "metadata": {},
   "outputs": [],
   "source": [
    "class MyClass:\n",
    "    def __init__(self):\n",
    "        self._my_attribute = None\n",
    "\n",
    "    def get_my_attribute(self):\n",
    "        return self._my_attribute\n",
    "\n",
    "    def set_my_attribute(self, value):\n",
    "        self._my_attribute = value\n"
   ]
  },
  {
   "cell_type": "code",
   "execution_count": 12,
   "id": "491cb710",
   "metadata": {},
   "outputs": [
    {
     "name": "stdout",
     "output_type": "stream",
     "text": [
      "Hello\n",
      "World\n"
     ]
    }
   ],
   "source": [
    "obj = MyClass()\n",
    "obj.set_my_attribute(\"Hello\")\n",
    "print(obj.get_my_attribute())  \n",
    "\n",
    "obj.set_my_attribute(\"World\")\n",
    "print(obj.get_my_attribute())  \n"
   ]
  },
  {
   "cell_type": "markdown",
   "id": "e43702d8",
   "metadata": {},
   "source": [
    "Q5.What is method overriding in python? Write a python code to demonstrate method overriding."
   ]
  },
  {
   "cell_type": "code",
   "execution_count": 13,
   "id": "7c24087e",
   "metadata": {},
   "outputs": [
    {
     "name": "stdout",
     "output_type": "stream",
     "text": [
      "The animal makes a sound.\n",
      "Meow!\n",
      "Woof!\n"
     ]
    }
   ],
   "source": [
    "class Animal:\n",
    "    def make_sound(self):\n",
    "        print(\"The animal makes a sound.\")\n",
    "\n",
    "class Cat(Animal):\n",
    "    def make_sound(self):\n",
    "        print(\"Meow!\")\n",
    "\n",
    "class Dog(Animal):\n",
    "    def make_sound(self):\n",
    "        print(\"Woof!\")\n",
    "\n",
    "animal = Animal()\n",
    "animal.make_sound()  \n",
    "\n",
    "cat = Cat()\n",
    "cat.make_sound()  \n",
    "\n",
    "dog = Dog()\n",
    "dog.make_sound()  \n"
   ]
  },
  {
   "cell_type": "code",
   "execution_count": null,
   "id": "08e08c81",
   "metadata": {},
   "outputs": [],
   "source": [
    "\n",
    "\n",
    "\n",
    "\n"
   ]
  }
 ],
 "metadata": {
  "kernelspec": {
   "display_name": "Python 3 (ipykernel)",
   "language": "python",
   "name": "python3"
  },
  "language_info": {
   "codemirror_mode": {
    "name": "ipython",
    "version": 3
   },
   "file_extension": ".py",
   "mimetype": "text/x-python",
   "name": "python",
   "nbconvert_exporter": "python",
   "pygments_lexer": "ipython3",
   "version": "3.9.13"
  }
 },
 "nbformat": 4,
 "nbformat_minor": 5
}
