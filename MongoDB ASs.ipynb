{
 "cells": [
  {
   "cell_type": "markdown",
   "id": "9f761ca2",
   "metadata": {},
   "source": [
    "Q1. What is MongoDB? Explain non-relational databases in short. In which scenarios it is preferred to use\n",
    "MongoDB over SQL databases?"
   ]
  },
  {
   "cell_type": "markdown",
   "id": "f6c44eba",
   "metadata": {},
   "source": [
    "MongoDB is a popular open-source document-oriented NoSQL database system. It stores data in flexible, semi-structured documents called JSON-like documents, known as BSON (Binary JSON). \n",
    "\n",
    "Non-relational databases, also known as NoSQL databases, are designed to handle unstructured and semi-structured data. Unlike traditional SQL databases, which are based on the relational model and use tables with predefined schemas.\n",
    "\n",
    "MongoDB is preferred over SQL databases in several scenarios:\n",
    "\n",
    "1. Flexibility\n",
    "2. Scalability\n",
    "3. Rapid development\n",
    "4. Non -Relational"
   ]
  },
  {
   "cell_type": "markdown",
   "id": "294daaf0",
   "metadata": {},
   "source": [
    "Q2. State and Explain the features of MongoDB."
   ]
  },
  {
   "cell_type": "markdown",
   "id": "218e039d",
   "metadata": {},
   "source": [
    "\n",
    "MongoDB offers several key features that make it a popular choice for developers and organizations:\n",
    "1. Document Oriented\n",
    "2. High scalability\n",
    "3. Flexible schema\n",
    "4. Replication and high availability:-\n",
    "MongoDB supports replica sets, which are self-healing clusters of database nodes. Replica sets provide automatic failover and data redundancy, ensuring high availability and fault tolerance. If a primary node fails, one of the secondary nodes is automatically elected as the new primary, minimizing downtime.\n",
    "5. Indexing and querying:-\n",
    "MongoDB provides efficient indexing capabilities, allowing you to create indexes on any field in a document. Indexes improve query performance and enable fast data retrieval. "
   ]
  },
  {
   "cell_type": "markdown",
   "id": "816a7c53",
   "metadata": {},
   "source": [
    "Q3. Write a code to connect MongoDB to Python. Also, create a database and a collection in MongoDB."
   ]
  },
  {
   "cell_type": "code",
   "execution_count": null,
   "id": "bf1cbec3",
   "metadata": {},
   "outputs": [],
   "source": [
    "import pymongo\n",
    "\n",
    "# Establish a connection to MongoDB\n",
    "client = pymongo.MongoClient(\"mongodb://localhost:27017\")\n",
    "\n",
    "# Create a database\n",
    "database_name = \"mydatabase\"\n",
    "database = client[database_name]\n",
    "\n",
    "# Create a collection\n",
    "collection_name = \"mycollection\"\n",
    "collection = database[collection_name]\n",
    "\n",
    "# Test data to insert into the collection\n",
    "data = {\"name\": \"John\", \"age\": 30, \"city\": \"New York\"}\n",
    "\n",
    "# Insert a document into the collection\n",
    "collection.insert_one(data)\n",
    "\n",
    "# Close the MongoDB connection\n",
    "client.close()\n"
   ]
  },
  {
   "cell_type": "markdown",
   "id": "b06c5257",
   "metadata": {},
   "source": [
    "Q4. Using the database and the collection created in question number 3, write a code to insert one record,\n",
    "and insert many records. Use the find() and find_one() methods to print the inserted record."
   ]
  },
  {
   "cell_type": "code",
   "execution_count": null,
   "id": "d9af03ac",
   "metadata": {},
   "outputs": [],
   "source": [
    "import pymongo\n",
    "\n",
    "# Establish a connection to MongoDB\n",
    "client = pymongo.MongoClient(\"mongodb://localhost:27017\")\n",
    "\n",
    "# Create a database\n",
    "database_name = \"mydatabase\"\n",
    "database = client[database_name]\n",
    "\n",
    "# Create a collection\n",
    "collection_name = \"mycollection\"\n",
    "collection = database[collection_name]\n",
    "\n",
    "# Insert one record\n",
    "data_one = {\"name\": \"Alice\", \"age\": 25, \"city\": \"London\"}\n",
    "insert_one_result = collection.insert_one(data_one)\n",
    "print(\"Inserted Record ID:\", insert_one_result.inserted_id)\n",
    "\n",
    "# Insert multiple records\n",
    "data_many = [\n",
    "    {\"name\": \"Bob\", \"age\": 28, \"city\": \"Paris\"},\n",
    "    {\"name\": \"Charlie\", \"age\": 32, \"city\": \"Berlin\"},\n",
    "    {\"name\": \"Diana\", \"age\": 27, \"city\": \"Madrid\"}\n",
    "]\n",
    "insert_many_result = collection.insert_many(data_many)\n",
    "print(\"Inserted Records IDs:\", insert_many_result.inserted_ids)\n",
    "\n",
    "# Find and print inserted records\n",
    "print(\"\\nFind One Record:\")\n",
    "record_one = collection.find_one({\"name\": \"Alice\"})\n",
    "print(record_one)\n",
    "\n",
    "print(\"\\nFind All Records:\")\n",
    "records_all = collection.find()\n",
    "for record in records_all:\n",
    "    print(record)\n",
    "\n",
    "# Close the MongoDB connection\n",
    "client.close()\n"
   ]
  },
  {
   "cell_type": "markdown",
   "id": "085fb8be",
   "metadata": {},
   "source": [
    "Q5. Explain how you can use the find() method to query the MongoDB database. Write a simple code to\n",
    "demonstrate this."
   ]
  },
  {
   "cell_type": "markdown",
   "id": "d97913d6",
   "metadata": {},
   "source": [
    "The find() method in MongoDB is used to query the database and retrieve documents that match a specified criteria or filter. It allows you to search for documents based on various conditions and retrieve the results as a cursor, which can be iterated over to access the matching documents.\n",
    "\n"
   ]
  },
  {
   "cell_type": "code",
   "execution_count": null,
   "id": "912130c0",
   "metadata": {},
   "outputs": [],
   "source": [
    "import pymongo\n",
    "\n",
    "# Establish a connection to MongoDB\n",
    "client = pymongo.MongoClient(\"mongodb://localhost:27017\")\n",
    "\n",
    "# Access the database and collection\n",
    "database = client[\"mydatabase\"]\n",
    "collection = database[\"mycollection\"]\n",
    "\n",
    "# Query and retrieve documents using find()\n",
    "query = {\"age\": {\"$gt\": 25}}  # Documents where \"age\" is greater than 25\n",
    "projection = {\"_id\": 0, \"name\": 1, \"age\": 1}  # Include only \"name\" and \"age\" fields\n",
    "cursor = collection.find(query, projection)\n",
    "\n",
    "# Iterate over the cursor and print the matching documents\n",
    "for document in cursor:\n",
    "    print(document)\n",
    "\n",
    "# Close the MongoDB connection\n",
    "client.close()\n"
   ]
  },
  {
   "cell_type": "code",
   "execution_count": null,
   "id": "5486c793",
   "metadata": {},
   "outputs": [],
   "source": [
    "Q6. Explain the sort() method. Give an example to demonstrate sorting in MongoDB."
   ]
  },
  {
   "cell_type": "markdown",
   "id": "c01a3244",
   "metadata": {},
   "source": [
    "The sort() method in MongoDB is used to sort the documents in a collection based on one or more fields. "
   ]
  },
  {
   "cell_type": "code",
   "execution_count": null,
   "id": "43e1f0d5",
   "metadata": {},
   "outputs": [],
   "source": [
    "import pymongo\n",
    "\n",
    "# Establish a connection to MongoDB\n",
    "client = pymongo.MongoClient(\"mongodb://localhost:27017\")\n",
    "\n",
    "# Access the database and collection\n",
    "database = client[\"mydatabase\"]\n",
    "collection = database[\"mycollection\"]\n",
    "\n",
    "# Query and sort documents using sort()\n",
    "query = {\"age\": {\"$gt\": 25}}  # Documents where \"age\" is greater than 25\n",
    "sort_key = \"age\"  # Sort by the \"age\" field\n",
    "sort_order = pymongo.DESCENDING  # Sort in descending order\n",
    "cursor = collection.find(query).sort(sort_key, sort_order)\n",
    "\n",
    "# Iterate over the cursor and print the sorted documents\n",
    "for document in cursor:\n",
    "    print(document)\n",
    "\n",
    "# Close the MongoDB connection\n",
    "client.close()\n"
   ]
  },
  {
   "cell_type": "markdown",
   "id": "1fee090c",
   "metadata": {},
   "source": [
    "Q7. Explain why delete_one(), delete_many(), and drop() is used."
   ]
  },
  {
   "cell_type": "markdown",
   "id": "e0dc27d0",
   "metadata": {},
   "source": [
    "1. delete_one(filter):\n",
    "1.delete_one() is used to delete a single document that matches a specified filter or criteria.\n",
    "2.It removes the first document that satisfies the given filter from the collection.\n",
    "3.If multiple documents match the filter, only the first one encountered will be deleted.\n",
    "4.If no document matches the filter, no action is taken.\n",
    "5.It returns a DeleteResult object that provides information about the deletion operation, including the number of documents deleted.\n",
    "\n",
    "2. delete_many(filter):\n",
    "\n",
    "1.delete_many() is used to delete multiple documents that match a specified filter or criteria.\n",
    "2.It removes all documents that satisfy the given filter from the collection.\n",
    "3.If no document matches the filter, no action is taken.\n",
    "4.It returns a DeleteResult object that provides information about the deletion operation, including the number of documents deleted.\n",
    "\n",
    "3. drop():\n",
    "\n",
    "1.drop() is used to delete an entire collection from the database.\n",
    "2.It removes the collection and all its associated documents"
   ]
  }
 ],
 "metadata": {
  "kernelspec": {
   "display_name": "Python 3 (ipykernel)",
   "language": "python",
   "name": "python3"
  },
  "language_info": {
   "codemirror_mode": {
    "name": "ipython",
    "version": 3
   },
   "file_extension": ".py",
   "mimetype": "text/x-python",
   "name": "python",
   "nbconvert_exporter": "python",
   "pygments_lexer": "ipython3",
   "version": "3.9.13"
  }
 },
 "nbformat": 4,
 "nbformat_minor": 5
}
