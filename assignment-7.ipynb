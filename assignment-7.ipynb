{
 "cells": [
  {
   "cell_type": "code",
   "execution_count": null,
   "id": "3fb1cf88",
   "metadata": {},
   "outputs": [],
   "source": [
    "Q1. What is Abstraction in OOps? Explain with an example."
   ]
  },
  {
   "cell_type": "markdown",
   "id": "a3629070",
   "metadata": {},
   "source": [
    "In object-oriented programming (OOP), abstraction is a fundamental concept that involves simplifying complex systems by breaking them down into more manageable and understandable parts. It allows you to focus on the essential features and behaviors of an object or a system while hiding unnecessary details."
   ]
  },
  {
   "cell_type": "code",
   "execution_count": 1,
   "id": "1475b1a6",
   "metadata": {},
   "outputs": [],
   "source": [
    "class Car:\n",
    "    def __init__(self, model, color):\n",
    "        self.model = model\n",
    "        self.color = color\n",
    "        self.engine_started = False\n",
    "\n",
    "    def start_engine(self):\n",
    "        self.engine_started = True\n",
    "        print(\"Engine started\")\n",
    "\n",
    "    def accelerate(self):\n",
    "        if self.engine_started:\n",
    "            print(\"Car is accelerating\")\n",
    "        else:\n",
    "            print(\"Start the engine first\")\n",
    "\n",
    "    def brake(self):\n",
    "        print(\"Car is braking\")\n"
   ]
  },
  {
   "cell_type": "code",
   "execution_count": 5,
   "id": "0c1819bc",
   "metadata": {},
   "outputs": [],
   "source": [
    "c=Car( 6,\"Red\")"
   ]
  },
  {
   "cell_type": "code",
   "execution_count": 6,
   "id": "62df6548",
   "metadata": {},
   "outputs": [
    {
     "name": "stdout",
     "output_type": "stream",
     "text": [
      "Engine started\n"
     ]
    }
   ],
   "source": [
    "c.start_engine()"
   ]
  },
  {
   "cell_type": "code",
   "execution_count": 7,
   "id": "6b685279",
   "metadata": {},
   "outputs": [
    {
     "name": "stdout",
     "output_type": "stream",
     "text": [
      "Car is accelerating\n"
     ]
    }
   ],
   "source": [
    "c.accelerate()"
   ]
  },
  {
   "cell_type": "code",
   "execution_count": 8,
   "id": "0fa4ea5b",
   "metadata": {},
   "outputs": [
    {
     "name": "stdout",
     "output_type": "stream",
     "text": [
      "Car is braking\n"
     ]
    }
   ],
   "source": [
    "c.brake()"
   ]
  },
  {
   "cell_type": "markdown",
   "id": "99791717",
   "metadata": {},
   "source": [
    "Q2. Differentiate between Abstraction and Encapsulation. Explain with an example."
   ]
  },
  {
   "cell_type": "markdown",
   "id": "bacebb9d",
   "metadata": {},
   "source": [
    "Abstraction is a process of hiding unnecessary details and complexities, focusing only on the essential features and behaviors.\n",
    "It provides a generalized and simplified view of an object or a system."
   ]
  },
  {
   "cell_type": "markdown",
   "id": "a9ff9b67",
   "metadata": {},
   "source": [
    "Encapsulation is a mechanism of bundling data (properties) and methods (behaviors) together within a class, and restricting direct access to the internal state of an object.\n",
    "It promotes data hiding and protection by making the internal state accessible only through well-defined public interfaces (methods)."
   ]
  },
  {
   "cell_type": "code",
   "execution_count": 11,
   "id": "cc2e7dbd",
   "metadata": {},
   "outputs": [],
   "source": [
    "class BankAccount:\n",
    "    def __init__(self, account_number, balance):\n",
    "        self.account_number = account_number\n",
    "        self.balance = balance\n",
    "\n",
    "    def deposit(self, amount):\n",
    "        self.balance += amount\n",
    "\n",
    "    def withdraw(self, amount):\n",
    "        if amount <= self.balance:\n",
    "            self.balance -= amount\n",
    "        else:\n",
    "            print(\"Insufficient balance\")\n",
    "\n",
    "    def get_balance(self):\n",
    "        return self.balance\n"
   ]
  },
  {
   "cell_type": "code",
   "execution_count": 13,
   "id": "242b47ca",
   "metadata": {},
   "outputs": [],
   "source": [
    "cust=BankAccount(1,1000)"
   ]
  },
  {
   "cell_type": "code",
   "execution_count": 14,
   "id": "c0046cd6",
   "metadata": {},
   "outputs": [],
   "source": [
    "cust.deposit(1500)"
   ]
  },
  {
   "cell_type": "code",
   "execution_count": 15,
   "id": "850a68c9",
   "metadata": {},
   "outputs": [
    {
     "data": {
      "text/plain": [
       "2500"
      ]
     },
     "execution_count": 15,
     "metadata": {},
     "output_type": "execute_result"
    }
   ],
   "source": [
    "cust.get_balance()"
   ]
  },
  {
   "cell_type": "code",
   "execution_count": 16,
   "id": "61d3f897",
   "metadata": {},
   "outputs": [
    {
     "name": "stdout",
     "output_type": "stream",
     "text": [
      "Insufficient balance\n"
     ]
    }
   ],
   "source": [
    "cust.withdraw(4000)"
   ]
  },
  {
   "cell_type": "code",
   "execution_count": 17,
   "id": "c8e5d8b1",
   "metadata": {},
   "outputs": [],
   "source": [
    "cust.withdraw(0.999999)"
   ]
  },
  {
   "cell_type": "code",
   "execution_count": 18,
   "id": "f5049fd4",
   "metadata": {},
   "outputs": [
    {
     "data": {
      "text/plain": [
       "2499.000001"
      ]
     },
     "execution_count": 18,
     "metadata": {},
     "output_type": "execute_result"
    }
   ],
   "source": [
    "cust.get_balance()"
   ]
  },
  {
   "cell_type": "markdown",
   "id": "60e981d8",
   "metadata": {},
   "source": [
    "Q3. What is abc module in python? Why is it used?"
   ]
  },
  {
   "cell_type": "markdown",
   "id": "b329efbc",
   "metadata": {},
   "source": [
    "In Python, the abc module stands for \"Abstract Base Classes.\" It provides infrastructure for creating abstract base classes, which are classes that cannot be instantiated but serve as blueprints for derived classes. Abstract base classes are used to define common interfaces and enforce certain method implementations across multiple derived classes."
   ]
  },
  {
   "cell_type": "code",
   "execution_count": null,
   "id": "343616ca",
   "metadata": {},
   "outputs": [],
   "source": [
    "Q4. How can we achieve data abstraction?"
   ]
  },
  {
   "cell_type": "markdown",
   "id": "3b439b80",
   "metadata": {},
   "source": [
    "\n",
    "Data abstraction can be achieved in several ways, depending on the programming language and the specific features it provides. In the context of object-oriented programming, here are some common techniques for achieving data abstraction:\n",
    "\n",
    "1. Encapsulation:-\n",
    "2. Access Modifiers:\n",
    "3. Getters and Setters:\n",
    "4. Abstract Data TypesInterfaces and Contracts:"
   ]
  },
  {
   "cell_type": "code",
   "execution_count": null,
   "id": "fc8f10f6",
   "metadata": {},
   "outputs": [],
   "source": [
    "Q5. Can we create an instance of an abstract class? Explain your answer."
   ]
  },
  {
   "cell_type": "markdown",
   "id": "f05c029b",
   "metadata": {},
   "source": [
    "No, we cannot create an instance of an abstract class directly. Abstract classes are designed to be incomplete and serve as blueprints for derived classes. They define common properties, behaviors, and sometimes abstract methods that must be implemented by their derived classes.\n",
    "\n",
    "The purpose of an abstract class is to provide a common interface and enforce certain behaviors or method implementations across multiple derived classes. It acts as a template or a guide for creating concrete subclasses. Therefore, instantiating an abstract class doesn't make sense because it is incomplete and lacks the necessary implementations for its abstract methods.\n",
    "\n",
    "If we try to create an instance of an abstract class in a programming language that supports abstract classes (such as Python with the abc module), it will result in an error. This error serves as a reminder that the abstract class should not be instantiated directly."
   ]
  }
 ],
 "metadata": {
  "kernelspec": {
   "display_name": "Python 3 (ipykernel)",
   "language": "python",
   "name": "python3"
  },
  "language_info": {
   "codemirror_mode": {
    "name": "ipython",
    "version": 3
   },
   "file_extension": ".py",
   "mimetype": "text/x-python",
   "name": "python",
   "nbconvert_exporter": "python",
   "pygments_lexer": "ipython3",
   "version": "3.9.13"
  }
 },
 "nbformat": 4,
 "nbformat_minor": 5
}
