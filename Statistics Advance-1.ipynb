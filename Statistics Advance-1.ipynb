{
 "cells": [
  {
   "cell_type": "markdown",
   "id": "9c65d341",
   "metadata": {},
   "source": [
    "Q1. What is the Probability density function?"
   ]
  },
  {
   "cell_type": "markdown",
   "id": "0d75a8ef",
   "metadata": {},
   "source": [
    "The Probability Density Function (PDF) is a fundamental concept in probability theory and statistics. It is used to describe the probability distribution of a continuous random variable. The PDF provides the likelihood of a continuous random variable taking on a specific value or falling within a particular range of values."
   ]
  },
  {
   "cell_type": "markdown",
   "id": "686cc51f",
   "metadata": {},
   "source": [
    "Q2. What are the types of Probability distribution?\n",
    "\n",
    "Discrete Probability Distribution: Used for countable, distinct values (e.g., binomial, Poisson).\n",
    "\n",
    "Continuous Probability Distribution: Used for continuous values (e.g., normal, exponential).\n",
    "\n",
    "Multinomial Distribution: Extension of binomial for more than two outcomes.\n",
    "\n",
    "Hypergeometric Distribution: Sampling without replacement.\n",
    "\n",
    "Negative Binomial Distribution: Number of successes before a specified number of failures.\n",
    "\n",
    "Beta Distribution: Models probabilities or proportions.\n",
    "\n",
    "Gamma Distribution: Models waiting times or survival times.\n",
    "\n",
    "Exponential Distribution: Models time between events in a Poisson process."
   ]
  },
  {
   "cell_type": "markdown",
   "id": "ae1439a0",
   "metadata": {},
   "source": [
    "Q3. Write a Python function to calculate the probability density function of a normal distribution with\n",
    "given mean and standard deviation at a given point."
   ]
  },
  {
   "cell_type": "code",
   "execution_count": 2,
   "id": "69586fea",
   "metadata": {},
   "outputs": [],
   "source": [
    "from scipy.stats import norm\n",
    "\n",
    "def normal_pdf(mean, std_dev, x):\n",
    "    \"\"\"\n",
    "    Calculate the probability density function (PDF) of a normal distribution at a given point.\n",
    "\n",
    "    Parameters:\n",
    "        mean (float): Mean of the normal distribution.\n",
    "        std_dev (float): Standard deviation of the normal distribution.\n",
    "        x (float): Point at which to calculate the PDF.\n",
    "\n",
    "    Returns:\n",
    "        float: The value of the PDF at the given point.\n",
    "    \"\"\"\n",
    "    pdf_value = norm.pdf(x, mean, std_dev)\n",
    "    return pdf_value\n"
   ]
  },
  {
   "cell_type": "markdown",
   "id": "78971e6c",
   "metadata": {},
   "source": [
    "Q4. What are the properties of Binomial distribution? Give two examples of events where binomial\n",
    "distribution can be applied.\n",
    "\n"
   ]
  },
  {
   "cell_type": "markdown",
   "id": "8f86ca44",
   "metadata": {},
   "source": [
    "The Binomial distribution is a probability distribution used to model the number of successes in a fixed number of independent Bernoulli trials. It has the following properties:\n",
    "\n",
    "Fixed Number of Trials: The number of trials, denoted as 'n', is fixed and known in advance.\n",
    "\n",
    "Independent Trials: Each trial is independent of the others, meaning the outcome of one trial does not affect the outcome of another.\n",
    "\n",
    "Two Outcomes: Each trial has two possible outcomes, usually labeled as success (S) and failure (F).\n",
    "\n",
    "Constant Probability: The probability of success, denoted as 'p', remains constant across all trials.\n",
    "\n",
    "Discrete: The Binomial distribution is a discrete distribution since it deals with a count of successes, which must be whole numbers."
   ]
  },
  {
   "cell_type": "markdown",
   "id": "41ef5855",
   "metadata": {},
   "source": [
    "Q5. Generate a random sample of size 1000 from a binomial distribution with probability of success 0.4\n",
    "and plot a histogram of the results using matplotlib"
   ]
  },
  {
   "cell_type": "code",
   "execution_count": 4,
   "id": "1e61d6d4",
   "metadata": {},
   "outputs": [
    {
     "data": {
      "image/png": "[encoded data removed]",
      "text/plain": [
       "<Figure size 640x480 with 1 Axes>"
      ]
     },
     "metadata": {},
     "output_type": "display_data"
    }
   ],
   "source": [
    "import numpy as np\n",
    "import matplotlib.pyplot as plt\n",
    "\n",
    "# Set the parameters\n",
    "n = 1000  # Number of trials\n",
    "p = 0.4   # Probability of success\n",
    "\n",
    "# Generate the random sample from the binomial distribution\n",
    "random_sample = np.random.binomial(n, p, 1000)\n",
    "\n",
    "# Plot the histogram\n",
    "plt.hist(random_sample, bins=30, edgecolor='black')\n",
    "plt.xlabel('Number of Successes')\n",
    "plt.ylabel('Frequency')\n",
    "plt.title('Histogram of Random Sample from Binomial Distribution')\n",
    "plt.show()\n"
   ]
  },
  {
   "cell_type": "markdown",
   "id": "b7a101f9",
   "metadata": {},
   "source": [
    "Q6. Write a Python function to calculate the cumulative distribution function of a Poisson distribution\n",
    "with given mean at a given point."
   ]
  },
  {
   "cell_type": "code",
   "execution_count": 5,
   "id": "68fbaf1c",
   "metadata": {},
   "outputs": [],
   "source": [
    "from scipy.stats import poisson\n",
    "\n",
    "def poisson_cdf(mean, x):\n",
    "    \"\"\"\n",
    "    Calculate the cumulative distribution function (CDF) of a Poisson distribution at a given point.\n",
    "\n",
    "    Parameters:\n",
    "        mean (float): Mean of the Poisson distribution.\n",
    "        x (int): Point at which to calculate the CDF.\n",
    "\n",
    "    Returns:\n",
    "        float: The value of the CDF at the given point.\n",
    "    \"\"\"\n",
    "    cdf_value = poisson.cdf(x, mean)\n",
    "    return cdf_value\n"
   ]
  },
  {
   "cell_type": "markdown",
   "id": "b1491b78",
   "metadata": {},
   "source": [
    "Q7. How Binomial distribution different from Poisson distribution?"
   ]
  },
  {
   "cell_type": "markdown",
   "id": "b04d1741",
   "metadata": {},
   "source": [
    "Binomial distribution is used for counting successes in fixed trials with two outcomes.\n",
    "Poisson distribution is used for counting rare events with a known average rate in continuous settings."
   ]
  },
  {
   "cell_type": "markdown",
   "id": "57a2e5bc",
   "metadata": {},
   "source": [
    "Q8. Generate a random sample of size 1000 from a Poisson distribution with mean 5 and calculate the\n",
    "sample mean and variance.\n",
    "\n"
   ]
  },
  {
   "cell_type": "code",
   "execution_count": 6,
   "id": "57a951bd",
   "metadata": {},
   "outputs": [
    {
     "name": "stdout",
     "output_type": "stream",
     "text": [
      "Sample Mean: 4.969\n",
      "Sample Variance: 4.848887887887888\n"
     ]
    }
   ],
   "source": [
    "import numpy as np\n",
    "\n",
    "# Set the parameters\n",
    "mean = 5\n",
    "sample_size = 1000\n",
    "\n",
    "# Generate the random sample from the Poisson distribution\n",
    "random_sample = np.random.poisson(mean, sample_size)\n",
    "\n",
    "# Calculate the sample mean and variance\n",
    "sample_mean = np.mean(random_sample)\n",
    "sample_variance = np.var(random_sample, ddof=1)  # ddof=1 for sample variance, use ddof=0 for population variance\n",
    "\n",
    "print(f\"Sample Mean: {sample_mean}\")\n",
    "print(f\"Sample Variance: {sample_variance}\")\n"
   ]
  },
  {
   "cell_type": "markdown",
   "id": "6dfe8416",
   "metadata": {},
   "source": [
    "Q9. How mean and variance are related in Binomial distribution and Poisson distribution?"
   ]
  },
  {
   "cell_type": "markdown",
   "id": "1fefce1b",
   "metadata": {},
   "source": [
    "In both Binomial and Poisson distributions, the mean and variance are related, but the nature of this relationship is different for each distribution.\n",
    "\n",
    "Binomial Distribution:\n",
    "In a Binomial distribution, where 'n' is the number of trials and 'p' is the probability of success in each trial, the mean and variance are related as follows:\n",
    "Mean (μ) = n * p\n",
    "Variance (σ^2) = n * p * (1 - p)\n",
    "\n",
    "Here, the mean represents the expected number of successes in 'n' trials, and the variance represents the spread or variability of the number of successes around the mean. The variance is maximized when 'p' = 0.5 (equal probability of success and failure) and decreases as 'p' approaches 0 or 1 (biased towards one of the outcomes).\n",
    "\n",
    "Poisson Distribution:\n",
    "In a Poisson distribution, where 'λ' is the average rate of occurrence of events in a fixed interval of time or space, the mean and variance are related as follows:\n",
    "Mean (μ) = λ\n",
    "Variance (σ^2) = λ\n",
    "\n",
    "In the Poisson distribution, both the mean and variance are equal and are given by the parameter 'λ'. The mean represents the average number of events occurring in the fixed interval, and the variance indicates the spread or variability around this mean.\n",
    "\n"
   ]
  },
  {
   "cell_type": "markdown",
   "id": "7cb358c4",
   "metadata": {},
   "source": [
    "Q10. In normal distribution with respect to mean position, where does the least frequent data appear?"
   ]
  },
  {
   "cell_type": "markdown",
   "id": "4be77a0a",
   "metadata": {},
   "source": [
    "In a standard normal distribution (a specific type of normal distribution with mean=0 and standard deviation=1), the least frequent data points are those with extreme values, such as more than a few standard deviations away from the mean."
   ]
  }
 ],
 "metadata": {
  "kernelspec": {
   "display_name": "Python 3 (ipykernel)",
   "language": "python",
   "name": "python3"
  },
  "language_info": {
   "codemirror_mode": {
    "name": "ipython",
    "version": 3
   },
   "file_extension": ".py",
   "mimetype": "text/x-python",
   "name": "python",
   "nbconvert_exporter": "python",
   "pygments_lexer": "ipython3",
   "version": "3.9.13"
  }
 },
 "nbformat": 4,
 "nbformat_minor": 5
}
