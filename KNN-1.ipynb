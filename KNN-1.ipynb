{
 "cells": [
  {
   "cell_type": "markdown",
   "metadata": {},
   "source": [
    "Q1. What is the KNN algorithm?"
   ]
  },
  {
   "cell_type": "markdown",
   "metadata": {},
   "source": [
    "K-Nearest Neighbors (KNN) is a non-parametric, instance-based learning algorithm that classifies or predicts based on the majority (for classification) or average (for regression) of its K closest neighbors."
   ]
  },
  {
   "cell_type": "markdown",
   "metadata": {},
   "source": [
    "Q2. How do you choose the value of K in KNN?"
   ]
  },
  {
   "cell_type": "markdown",
   "metadata": {},
   "source": [
    "- Use cross-validation to find the optimal K.\n",
    "\n",
    "- A small K makes the model sensitive to noise.\n",
    "\n",
    "- A large K smooths the decision boundary but may underfit."
   ]
  },
  {
   "cell_type": "markdown",
   "metadata": {},
   "source": [
    "Q3. What is the difference between KNN classifier and KNN regressor?"
   ]
  },
  {
   "cell_type": "markdown",
   "metadata": {},
   "source": [
    "- KNN Classifier: Predicts the majority class among the K-nearest neighbors.\n",
    "\n",
    "- KNN Regressor: Predicts the average (or weighted average) of the K-nearest neighbors."
   ]
  },
  {
   "cell_type": "markdown",
   "metadata": {},
   "source": [
    "Q4. How do you measure the performance of KNN?"
   ]
  },
  {
   "cell_type": "markdown",
   "metadata": {},
   "source": [
    "- Classification: Accuracy, Precision, Recall, F1-score.\n",
    "- Regression: Mean Squared Error (MSE), R-squared."
   ]
  },
  {
   "cell_type": "markdown",
   "metadata": {},
   "source": [
    "Q5. What is the curse of dimensionality in KNN?"
   ]
  },
  {
   "cell_type": "markdown",
   "metadata": {},
   "source": [
    "As the number of features increases, distances between points become less meaningful, making KNN less effective.\n"
   ]
  },
  {
   "cell_type": "markdown",
   "metadata": {},
   "source": [
    "Q6. How do you handle missing values in KNN?"
   ]
  },
  {
   "cell_type": "markdown",
   "metadata": {},
   "source": [
    "- Impute missing values using mean, median, or mode.\n",
    "\n",
    "- Use KNN imputation to predict missing values based on nearest neighbors."
   ]
  },
  {
   "cell_type": "markdown",
   "metadata": {},
   "source": [
    "Q7. Compare and contrast the performance of the KNN classifier and regressor. Which one is better for\n",
    "which type of problem?"
   ]
  },
  {
   "cell_type": "markdown",
   "metadata": {},
   "source": [
    "- KNN Classifier: Best for categorical target variables.\n",
    "\n",
    "- KNN Regressor: Best for continuous target variables.\n",
    "\n",
    "- Both work well in low-dimensional data but struggle with high dimensions."
   ]
  },
  {
   "cell_type": "markdown",
   "metadata": {},
   "source": [
    "Q8. What are the strengths and weaknesses of the KNN algorithm for classification and regression tasks,\n",
    "and how can these be addressed?"
   ]
  },
  {
   "cell_type": "markdown",
   "metadata": {},
   "source": [
    "Strengths:\n",
    "\n",
    "- Simple and intuitive.\n",
    "\n",
    "- Works well with small datasets.\n",
    "\n",
    "\n",
    "\n",
    "\n",
    "Weaknesses:\n",
    "\n",
    "- Computationally expensive for large datasets.\n",
    "\n",
    "- Affected by irrelevant features.\n",
    "\n",
    "\n",
    "\n",
    "Solutions:\n",
    "\n",
    "- Use feature selection and dimensionality reduction techniques.\n"
   ]
  },
  {
   "cell_type": "markdown",
   "metadata": {},
   "source": [
    "Q9. What is the difference between Euclidean distance and Manhattan distance in KNN?"
   ]
  },
  {
   "cell_type": "markdown",
   "metadata": {},
   "source": [
    "- Euclidean distance: Measures straight-line distance.\n",
    "\n",
    "- Manhattan distance: Measures distance along grid-like paths."
   ]
  },
  {
   "cell_type": "markdown",
   "metadata": {},
   "source": [
    "Q10. What is the role of feature scaling in KNN?"
   ]
  },
  {
   "cell_type": "markdown",
   "metadata": {},
   "source": [
    "Feature scaling ensures that all features contribute equally to distance calculations, preventing dominant features from skewing results."
   ]
  },
  {
   "cell_type": "markdown",
   "metadata": {},
   "source": []
  }
 ],
 "metadata": {
  "language_info": {
   "name": "python"
  }
 },
 "nbformat": 4,
 "nbformat_minor": 2
}
