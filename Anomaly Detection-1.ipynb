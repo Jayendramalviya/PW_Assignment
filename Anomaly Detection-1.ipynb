{
 "cells": [
  {
   "cell_type": "markdown",
   "metadata": {},
   "source": [
    "Q1. What is anomaly detection and what is its purpose?"
   ]
  },
  {
   "cell_type": "markdown",
   "metadata": {},
   "source": [
    "- Anomaly detection identifies rare or unusual data points that deviate from normal patterns.\n",
    "- Purpose: Detect fraud, network intrusions, or system failures.\n"
   ]
  },
  {
   "cell_type": "markdown",
   "metadata": {},
   "source": [
    "Q2. What are the key challenges in anomaly detection?"
   ]
  },
  {
   "cell_type": "markdown",
   "metadata": {},
   "source": [
    "- Lack of labeled anomaly data.\n",
    "- High-dimensional data complexity.\n",
    "- Imbalanced datasets with very few anomalies.\n",
    "- Dynamic data patterns requiring adaptive models.\n"
   ]
  },
  {
   "cell_type": "markdown",
   "metadata": {},
   "source": [
    "Q3. How does unsupervised anomaly detection differ from supervised anomaly detection?"
   ]
  },
  {
   "cell_type": "markdown",
   "metadata": {},
   "source": [
    "- Supervised: Uses labeled normal and anomaly data for training.\n",
    "- Unsupervised: Identifies anomalies based on deviation from normal patterns without labeled data.\n"
   ]
  },
  {
   "cell_type": "markdown",
   "metadata": {},
   "source": [
    "Q4. What are the main categories of anomaly detection algorithms?"
   ]
  },
  {
   "cell_type": "markdown",
   "metadata": {},
   "source": [
    "1. **Statistical Methods** - Based on probability distributions.\n",
    "2. **Machine Learning Models** - Isolation Forest, Autoencoders.\n",
    "3. **Distance-Based Methods** - k-NN, LOF.\n",
    "4. **Clustering-Based Methods** - DBSCAN, k-Means."
   ]
  },
  {
   "cell_type": "markdown",
   "metadata": {},
   "source": [
    "Q5. What are the main assumptions made by distance-based anomaly detection methods?"
   ]
  },
  {
   "cell_type": "markdown",
   "metadata": {},
   "source": [
    "- Normal data points are closer to each other.\n",
    "- Anomalies are isolated or distant from clusters.\n",
    "- Distance metrics (Euclidean, Manhattan) measure abnormality."
   ]
  },
  {
   "cell_type": "markdown",
   "metadata": {},
   "source": [
    "Q6. How does the LOF algorithm compute anomaly scores?"
   ]
  },
  {
   "cell_type": "markdown",
   "metadata": {},
   "source": [
    "Computation:\n",
    "\n",
    "- Compares density of a point to its neighbors.\n",
    "- Computes **Local Reachability Density (LRD)**.\n",
    "- LOF Score > 1 → Outlier, LOF Score ≈ 1 → Normal."
   ]
  },
  {
   "cell_type": "markdown",
   "metadata": {},
   "source": [
    "Q7. What are the key parameters of the Isolation Forest algorithm?"
   ]
  },
  {
   "cell_type": "markdown",
   "metadata": {},
   "source": [
    "- **n_estimators**: Number of trees in the forest.\n",
    "- **max_samples**: Number of samples per tree.\n",
    "- **contamination**: Expected anomaly fraction.\n",
    "- **max_features**: Number of features per split.\n"
   ]
  },
  {
   "cell_type": "markdown",
   "metadata": {},
   "source": [
    "Q8. If a data point has only 2 neighbours of the same class within a radius of 0.5, what is its anomaly score\n",
    "using KNN with K=10?"
   ]
  },
  {
   "cell_type": "markdown",
   "metadata": {},
   "source": [
    "- If a data point has only 2 neighbors within **radius = 0.5**, it is an outlier.\n",
    "- Lower density relative to K=10 suggests a high anomaly score."
   ]
  },
  {
   "cell_type": "markdown",
   "metadata": {},
   "source": [
    "Q9. Using the Isolation Forest algorithm with 100 trees and a dataset of 3000 data points, what is the\n",
    "anomaly score for a data point that has an average path length of 5.0 compared to the average path\n",
    "length of the trees ?"
   ]
  },
  {
   "cell_type": "markdown",
   "metadata": {},
   "source": [
    "- Shorter average path length **(5.0)** → More isolated → Higher anomaly score.\n",
    "- If normal data has longer paths, this data point is likely anomalous."
   ]
  },
  {
   "cell_type": "markdown",
   "metadata": {},
   "source": []
  }
 ],
 "metadata": {
  "language_info": {
   "name": "python"
  }
 },
 "nbformat": 4,
 "nbformat_minor": 2
}
