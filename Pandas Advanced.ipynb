{
 "cells": [
  {
   "cell_type": "markdown",
   "id": "5f75bbde",
   "metadata": {},
   "source": [
    "Q1. List any five functions of the pandas library with execution."
   ]
  },
  {
   "cell_type": "code",
   "execution_count": 1,
   "id": "0404597b",
   "metadata": {},
   "outputs": [
    {
     "name": "stdout",
     "output_type": "stream",
     "text": [
      "DataFrame Info:\n",
      "<class 'pandas.core.frame.DataFrame'>\n",
      "RangeIndex: 3 entries, 0 to 2\n",
      "Data columns (total 3 columns):\n",
      " #   Column  Non-Null Count  Dtype \n",
      "---  ------  --------------  ----- \n",
      " 0   Name    3 non-null      object\n",
      " 1   Age     3 non-null      int64 \n",
      " 2   Gender  3 non-null      object\n",
      "dtypes: int64(1), object(2)\n",
      "memory usage: 200.0+ bytes\n",
      "None\n",
      "\n",
      "Grouped DataFrame:\n",
      "Name\n",
      "Alice     87.5\n",
      "Bob       90.0\n",
      "Claire    78.0\n",
      "Name: Score, dtype: float64\n",
      "\n",
      "DataFrame after dropping 'Gender' column:\n",
      "     Name  Age\n",
      "0   Alice   25\n",
      "1     Bob   30\n",
      "2  Claire   27\n",
      "\n",
      "Merged DataFrame:\n",
      "   ID  Subject  Score\n",
      "0   2  Science     85\n",
      "1   3  English     92\n"
     ]
    }
   ],
   "source": [
    "import pandas as pd\n",
    "\n",
    "# 1. Reading data from a CSV file and creating a DataFrame\n",
    "data = {\n",
    "    'Name': ['Alice', 'Bob', 'Claire'],\n",
    "    'Age': [25, 30, 27],\n",
    "    'Gender': ['Female', 'Male', 'Female']\n",
    "}\n",
    "df = pd.DataFrame(data)\n",
    "\n",
    "# Saving the DataFrame to a CSV file\n",
    "df.to_csv('data.csv', index=False)\n",
    "\n",
    "# 2. Displaying the summary of the DataFrame\n",
    "print(\"DataFrame Info:\")\n",
    "print(df.info())\n",
    "\n",
    "# 3. Grouping the data by 'Name' and calculating the average score for each person\n",
    "data_scores = {\n",
    "    'Name': ['Alice', 'Bob', 'Claire', 'Bob', 'Alice'],\n",
    "    'Score': [85, 92, 78, 88, 90]\n",
    "}\n",
    "df_scores = pd.DataFrame(data_scores)\n",
    "grouped_df = df_scores.groupby('Name')['Score'].mean()\n",
    "\n",
    "print(\"\\nGrouped DataFrame:\")\n",
    "print(grouped_df)\n",
    "\n",
    "# 4. Removing the 'Gender' column from the DataFrame\n",
    "df = df.drop('Gender', axis=1)\n",
    "print(\"\\nDataFrame after dropping 'Gender' column:\")\n",
    "print(df)\n",
    "\n",
    "# 5. Merging two DataFrames based on the 'ID' column\n",
    "data1 = {'ID': [1, 2, 3], 'Subject': ['Math', 'Science', 'English']}\n",
    "data2 = {'ID': [2, 3, 4], 'Score': [85, 92, 78]}\n",
    "df1 = pd.DataFrame(data1)\n",
    "df2 = pd.DataFrame(data2)\n",
    "\n",
    "merged_df = pd.merge(df1, df2, on='ID', how='inner')\n",
    "print(\"\\nMerged DataFrame:\")\n",
    "print(merged_df)\n"
   ]
  },
  {
   "cell_type": "markdown",
   "id": "33311b2c",
   "metadata": {},
   "source": [
    "Q2. Given a Pandas DataFrame df with columns 'A', 'B', and 'C', write a Python function to re-index the\n",
    "DataFrame with a new index that starts from 1 and increments by 2 for each row."
   ]
  },
  {
   "cell_type": "code",
   "execution_count": 2,
   "id": "2b0388ef",
   "metadata": {},
   "outputs": [
    {
     "name": "stdout",
     "output_type": "stream",
     "text": [
      "    A    B     C\n",
      "1  10  100  1000\n",
      "3  20  200  2000\n",
      "5  30  300  3000\n",
      "7  40  400  4000\n"
     ]
    }
   ],
   "source": [
    "import pandas as pd\n",
    "\n",
    "def reindex_with_custom_increment(df):\n",
    "    # Creating a new DataFrame with a custom index\n",
    "    new_index = pd.RangeIndex(start=1, stop=2*len(df)+1, step=2)\n",
    "    new_df = df.copy()  # Create a copy of the original DataFrame to avoid modifying it\n",
    "    new_df.index = new_index\n",
    "    \n",
    "    return new_df\n",
    "\n",
    "# Sample DataFrame with columns 'A', 'B', and 'C'\n",
    "data = {\n",
    "    'A': [10, 20, 30, 40],\n",
    "    'B': [100, 200, 300, 400],\n",
    "    'C': [1000, 2000, 3000, 4000]\n",
    "}\n",
    "df = pd.DataFrame(data)\n",
    "\n",
    "# Re-indexing the DataFrame with a custom index\n",
    "new_df = reindex_with_custom_increment(df)\n",
    "\n",
    "# Printing the new DataFrame\n",
    "print(new_df)\n"
   ]
  },
  {
   "cell_type": "markdown",
   "id": "d3c8e307",
   "metadata": {},
   "source": [
    "Q3. You have a Pandas DataFrame df with a column named 'Values'. Write a Python function that\n",
    "iterates over the DataFrame and calculates the sum of the first three values in the 'Values' column. The\n",
    "function should print the sum to the console."
   ]
  },
  {
   "cell_type": "code",
   "execution_count": 3,
   "id": "05763097",
   "metadata": {},
   "outputs": [
    {
     "name": "stdout",
     "output_type": "stream",
     "text": [
      "Sum of the first three values in the 'Values' column: 60\n"
     ]
    }
   ],
   "source": [
    "import pandas as pd\n",
    "\n",
    "def calculate_sum_of_first_three(df):\n",
    "    # Accessing the 'Values' column and calculating the sum of the first three values\n",
    "    first_three_sum = df['Values'].iloc[:3].sum()\n",
    "    \n",
    "    # Printing the sum to the console\n",
    "    print(\"Sum of the first three values in the 'Values' column:\", first_three_sum)\n",
    "\n",
    "# Sample DataFrame with a column 'Values'\n",
    "data = {\n",
    "    'Values': [10, 20, 30, 40, 50]\n",
    "}\n",
    "df = pd.DataFrame(data)\n",
    "\n",
    "# Calling the function to calculate and print the sum of the first three values\n",
    "calculate_sum_of_first_three(df)\n"
   ]
  },
  {
   "cell_type": "markdown",
   "id": "d926a977",
   "metadata": {},
   "source": [
    "Q4. Given a Pandas DataFrame df with a column 'Text', write a Python function to create a new column\n",
    "'Word_Count' that contains the number of words in each row of the 'Text' column."
   ]
  },
  {
   "cell_type": "code",
   "execution_count": 4,
   "id": "d5a8a28b",
   "metadata": {},
   "outputs": [
    {
     "name": "stdout",
     "output_type": "stream",
     "text": [
      "                     Text  Word_Count\n",
      "0  This is a sample text.           5\n",
      "1        Count the words.           3\n",
      "2        Pandas is great!           3\n"
     ]
    }
   ],
   "source": [
    "import pandas as pd\n",
    "\n",
    "def count_words(text):\n",
    "    # Split the text by whitespace and return the count of words\n",
    "    return len(text.split())\n",
    "\n",
    "def add_word_count_column(df):\n",
    "    # Create a new column 'Word_Count' using the 'Text' column and the count_words function\n",
    "    df['Word_Count'] = df['Text'].apply(count_words)\n",
    "    return df\n",
    "\n",
    "# Sample DataFrame with a column 'Text'\n",
    "data = {\n",
    "    'Text': [\"This is a sample text.\", \"Count the words.\", \"Pandas is great!\"]\n",
    "}\n",
    "df = pd.DataFrame(data)\n",
    "\n",
    "# Call the function to create the 'Word_Count' column\n",
    "df = add_word_count_column(df)\n",
    "\n",
    "# Print the DataFrame with the new 'Word_Count' column\n",
    "print(df)\n"
   ]
  },
  {
   "cell_type": "markdown",
   "id": "c0fc1c98",
   "metadata": {},
   "source": [
    "Q5. How are DataFrame.size() and DataFrame.shape() different?"
   ]
  },
  {
   "cell_type": "code",
   "execution_count": 6,
   "id": "9a77c3c0",
   "metadata": {},
   "outputs": [
    {
     "name": "stdout",
     "output_type": "stream",
     "text": [
      "DataFrame.size(): 9\n",
      "DataFrame.shape(): (3, 3)\n"
     ]
    }
   ],
   "source": [
    "import pandas as pd\n",
    "\n",
    "# Sample DataFrame\n",
    "data = {\n",
    "    'A': [1, 2, 3],\n",
    "    'B': [4, 5, 6],\n",
    "    'C': [7, 8, 9]\n",
    "}\n",
    "df = pd.DataFrame(data)\n",
    "\n",
    "# DataFrame.size() - Total number of elements (cells) in the DataFrame\n",
    "print(\"DataFrame.size():\", df.size)  \n",
    "\n",
    "# DataFrame.shape() - Dimensions of the DataFrame\n",
    "print(\"DataFrame.shape():\", df.shape)  \n"
   ]
  },
  {
   "cell_type": "markdown",
   "id": "14fe7028",
   "metadata": {},
   "source": [
    "Q6. Which function of pandas do we use to read an excel file?"
   ]
  },
  {
   "cell_type": "code",
   "execution_count": null,
   "id": "e5adffe5",
   "metadata": {},
   "outputs": [],
   "source": [
    "import pandas as pd\n",
    "\n",
    "# Reading data from an Excel file and creating a DataFrame\n",
    "df = pd.read_excel('Sample-Superstore.xlsx')\n"
   ]
  },
  {
   "cell_type": "markdown",
   "id": "b9809135",
   "metadata": {},
   "source": [
    "Q7. You have a Pandas DataFrame df that contains a column named 'Email' that contains email\n",
    "addresses in the format 'username@domain.com'. Write a Python function that creates a new column\n",
    "'Username' in df that contains only the username part of each email address."
   ]
  },
  {
   "cell_type": "code",
   "execution_count": 11,
   "id": "c605e6e4",
   "metadata": {},
   "outputs": [
    {
     "name": "stdout",
     "output_type": "stream",
     "text": [
      "                Email Username\n",
      "0   alice@example.com    alice\n",
      "1     bob@example.com      bob\n",
      "2  claire@example.com   claire\n"
     ]
    }
   ],
   "source": [
    "import pandas as pd\n",
    "\n",
    "def extract_username(email):\n",
    "    # Split the email address by '@' and return the first part (username)\n",
    "    return email.split('@')[0]\n",
    "\n",
    "def add_username_column(df):\n",
    "    # Create a new column 'Username' using the 'Email' column and the extract_username function\n",
    "    df['Username'] = df['Email'].apply(extract_username)\n",
    "    return df\n",
    "\n",
    "# Sample DataFrame with a column 'Email'\n",
    "data = {\n",
    "    'Email': ['alice@example.com', 'bob@example.com', 'claire@example.com']\n",
    "}\n",
    "df = pd.DataFrame(data)\n",
    "\n",
    "# Call the function to create the 'Username' column\n",
    "df = add_username_column(df)\n",
    "\n",
    "# Print the DataFrame with the new 'Username' column\n",
    "print(df)\n"
   ]
  },
  {
   "cell_type": "markdown",
   "id": "26ce2520",
   "metadata": {},
   "source": [
    "Q8. You have a Pandas DataFrame df with columns 'A', 'B', and 'C'. Write a Python function that selects\n",
    "all rows where the value in column 'A' is greater than 5 and the value in column 'B' is less than 10. The\n",
    "function should return a new DataFrame that contains only the selected rows.\n",
    "For example, if df contains the following values:\n",
    "A B C\n",
    "0 3 5 1\n",
    "1 8 2 7\n",
    "2 6 9 4\n",
    "3 2 3 5\n",
    "4 9 1 2"
   ]
  },
  {
   "cell_type": "code",
   "execution_count": 12,
   "id": "0d2a756d",
   "metadata": {},
   "outputs": [
    {
     "name": "stdout",
     "output_type": "stream",
     "text": [
      "   A  B  C\n",
      "1  8  2  7\n",
      "2  6  9  4\n",
      "4  9  1  2\n"
     ]
    }
   ],
   "source": [
    "import pandas as pd\n",
    "\n",
    "def select_rows_condition(df):\n",
    "    # Boolean indexing to select rows that meet the condition\n",
    "    selected_rows = df[(df['A'] > 5) & (df['B'] < 10)]\n",
    "    return selected_rows\n",
    "\n",
    "# Sample DataFrame with columns 'A', 'B', and 'C'\n",
    "data = {\n",
    "    'A': [3, 8, 6, 2, 9],\n",
    "    'B': [5, 2, 9, 3, 1],\n",
    "    'C': [1, 7, 4, 5, 2]\n",
    "}\n",
    "df = pd.DataFrame(data)\n",
    "\n",
    "# Call the function to select rows based on the condition\n",
    "selected_df = select_rows_condition(df)\n",
    "\n",
    "# Print the new DataFrame containing selected rows\n",
    "print(selected_df)\n"
   ]
  },
  {
   "cell_type": "markdown",
   "id": "5891fe87",
   "metadata": {},
   "source": [
    "Q9. Given a Pandas DataFrame df with a column 'Values', write a Python function to calculate the mean,\n",
    "median, and standard deviation of the values in the 'Values' column."
   ]
  },
  {
   "cell_type": "code",
   "execution_count": 14,
   "id": "9ee4ceb4",
   "metadata": {},
   "outputs": [
    {
     "name": "stdout",
     "output_type": "stream",
     "text": [
      "Mean: 19.4\n",
      "Median: 19.0\n",
      "Standard Deviation: 0.5477225575051661\n"
     ]
    }
   ],
   "source": [
    "import pandas as pd\n",
    "\n",
    "def calculate_statistics(df):\n",
    "    # Calculate mean, median, and standard deviation of the 'Values' column\n",
    "    mean_value = df['Values'].mean()\n",
    "    median_value = df['Values'].median()\n",
    "    std_value = df['Values'].std()\n",
    "    \n",
    "    return mean_value, median_value, std_value\n",
    "\n",
    "# Sample DataFrame with a column 'Values'\n",
    "data = {\n",
    "    'Values': [19,19,19,20,20]\n",
    "}\n",
    "df = pd.DataFrame(data)\n",
    "\n",
    "# Call the function to calculate statistics\n",
    "mean, median, std = calculate_statistics(df)\n",
    "\n",
    "# Print the results\n",
    "print(\"Mean:\", mean)\n",
    "print(\"Median:\", median)\n",
    "print(\"Standard Deviation:\", std)\n"
   ]
  },
  {
   "cell_type": "markdown",
   "id": "ae982346",
   "metadata": {},
   "source": [
    "Q10. Given a Pandas DataFrame df with a column 'Sales' and a column 'Date', write a Python function to\n",
    "create a new column 'MovingAverage' that contains the moving average of the sales for the past 7 days\n",
    "for each row in the DataFrame. The moving average should be calculated using a window of size 7 and\n",
    "should include the current day."
   ]
  },
  {
   "cell_type": "code",
   "execution_count": 15,
   "id": "8e7672f9",
   "metadata": {},
   "outputs": [
    {
     "name": "stdout",
     "output_type": "stream",
     "text": [
      "   Sales       Date  MovingAverage\n",
      "0    100 2023-07-01     100.000000\n",
      "1    150 2023-07-02     125.000000\n",
      "2    120 2023-07-03     123.333333\n",
      "3    180 2023-07-04     137.500000\n",
      "4    200 2023-07-05     150.000000\n",
      "5    140 2023-07-06     148.333333\n",
      "6    160 2023-07-07     150.000000\n",
      "7    130 2023-07-08     154.285714\n",
      "8    170 2023-07-09     157.142857\n",
      "9    190 2023-07-10     167.142857\n"
     ]
    }
   ],
   "source": [
    "import pandas as pd\n",
    "\n",
    "def calculate_moving_average(df):\n",
    "    # Calculate the moving average of 'Sales' column with a window of size 7\n",
    "    df['MovingAverage'] = df['Sales'].rolling(window=7, min_periods=1).mean()\n",
    "    return df\n",
    "\n",
    "# Sample DataFrame with columns 'Sales' and 'Date'\n",
    "data = {\n",
    "    'Sales': [100, 150, 120, 180, 200, 140, 160, 130, 170, 190],\n",
    "    'Date': pd.date_range(start='2023-07-01', periods=10)\n",
    "}\n",
    "df = pd.DataFrame(data)\n",
    "\n",
    "# Call the function to calculate the moving average\n",
    "df = calculate_moving_average(df)\n",
    "\n",
    "# Print the DataFrame with the new 'MovingAverage' column\n",
    "print(df)\n"
   ]
  },
  {
   "cell_type": "markdown",
   "id": "49fbb316",
   "metadata": {},
   "source": [
    "Q11. You have a Pandas DataFrame df with a column 'Date'. Write a Python function that creates a new\n",
    "column 'Weekday' in the DataFrame. The 'Weekday' column should contain the weekday name (e.g.\n",
    "Monday, Tuesday) corresponding to each date in the 'Date' column.\n",
    "For example, if df contains the following values:\n",
    "Date\n",
    "0 2023-01-01\n",
    "1 2023-01-02\n",
    "2 2023-01-03\n",
    "3 2023-01-04\n",
    "4 2023-01-05\n",
    "Your function should create the following DataFrame:\n",
    "\n",
    "Date Weekday\n",
    "0 2023-01-01 Sunday\n",
    "1 2023-01-02 Monday\n",
    "2 2023-01-03 Tuesday\n",
    "3 2023-01-04 Wednesday\n",
    "4 2023-01-05 Thursday\n",
    "The function should return the modified DataFrame."
   ]
  },
  {
   "cell_type": "code",
   "execution_count": 19,
   "id": "bb5eae53",
   "metadata": {},
   "outputs": [
    {
     "name": "stdout",
     "output_type": "stream",
     "text": [
      "        Date    Weekday\n",
      "0 2023-01-01     Sunday\n",
      "1 2023-01-02     Monday\n",
      "2 2023-01-03    Tuesday\n",
      "3 2023-01-04  Wednesday\n",
      "4 2023-01-05   Thursday\n"
     ]
    }
   ],
   "source": [
    "import pandas as pd\n",
    "\n",
    "def add_weekday_column(df):\n",
    "    # Convert the 'Date' column to datetime if it is not already\n",
    "    df['Date'] = pd.to_datetime(df['Date'])\n",
    "    \n",
    "    # Create the 'Weekday' column containing the weekday names\n",
    "    df['Weekday'] = df['Date'].dt.strftime('%A')\n",
    "    \n",
    "    return df\n",
    "\n",
    "# Sample DataFrame with a column 'Date'\n",
    "data = {\n",
    "    'Date': ['2023-01-01', '2023-01-02', '2023-01-03', '2023-01-04', '2023-01-05']\n",
    "}\n",
    "df = pd.DataFrame(data)\n",
    "\n",
    "# Call the function to create the 'Weekday' column\n",
    "df = add_weekday_column(df)\n",
    "\n",
    "# Print the DataFrame with the new 'Weekday' column\n",
    "print(df)\n",
    "\n"
   ]
  },
  {
   "cell_type": "markdown",
   "id": "061821fb",
   "metadata": {},
   "source": [
    "Q12. Given a Pandas DataFrame df with a column 'Date' that contains timestamps, write a Python\n",
    "function to select all rows where the date is between '2023-01-01' and '2023-01-31'."
   ]
  },
  {
   "cell_type": "code",
   "execution_count": 20,
   "id": "f3e3b03d",
   "metadata": {},
   "outputs": [
    {
     "name": "stdout",
     "output_type": "stream",
     "text": [
      "        Date\n",
      "0 2023-01-01\n",
      "1 2023-01-15\n",
      "2 2023-01-31\n"
     ]
    }
   ],
   "source": [
    "import pandas as pd\n",
    "\n",
    "def select_rows_between_dates(df):\n",
    "    # Convert the 'Date' column to datetime if it is not already\n",
    "    df['Date'] = pd.to_datetime(df['Date'])\n",
    "    \n",
    "    # Define the start and end dates\n",
    "    start_date = pd.to_datetime('2023-01-01')\n",
    "    end_date = pd.to_datetime('2023-01-31')\n",
    "    \n",
    "    # Boolean indexing to select rows that meet the condition\n",
    "    selected_rows = df[(df['Date'] >= start_date) & (df['Date'] <= end_date)]\n",
    "    return selected_rows\n",
    "\n",
    "# Sample DataFrame with a column 'Date'\n",
    "data = {\n",
    "    'Date': ['2023-01-01', '2023-01-15', '2023-01-31', '2023-02-10']\n",
    "}\n",
    "df = pd.DataFrame(data)\n",
    "\n",
    "# Call the function to select rows between the dates\n",
    "selected_df = select_rows_between_dates(df)\n",
    "\n",
    "# Print the DataFrame with selected rows\n",
    "print(selected_df)\n"
   ]
  },
  {
   "cell_type": "markdown",
   "id": "1899fcef",
   "metadata": {},
   "source": [
    "Q13. To use the basic functions of pandas, what is the first and foremost necessary library that needs to\n",
    "be imported?"
   ]
  },
  {
   "cell_type": "code",
   "execution_count": 21,
   "id": "4ca2580e",
   "metadata": {},
   "outputs": [
    {
     "data": {
      "text/plain": [
       "'The as pd part is optional but commonly used as a convention to create an alias for the pandas library, making it easier to reference Pandas functions and objects throughout the code using the shorter alias pd. This is the standard way to import Pandas, and you will see it commonly used in Pandas-related code examples and tutorials.'"
      ]
     },
     "execution_count": 21,
     "metadata": {},
     "output_type": "execute_result"
    }
   ],
   "source": [
    "'''To use the basic functions of Pandas, the first and foremost necessary library that needs to be imported is pandas itself. Pandas is a popular and powerful library in Python that provides data manipulation and analysis tools, including data structures like Series and DataFrame.\n",
    "\n",
    "To import Pandas, you can use the following import statement:\n",
    "\n",
    "python'''\n",
    "\n",
    "import pandas as pd\n",
    "\n",
    "'''The as pd part is optional but commonly used as a convention to create an alias for the pandas library, making it easier to reference Pandas functions and objects throughout the code using the shorter alias pd. This is the standard way to import Pandas, and you will see it commonly used in Pandas-related code examples and tutorials.'''\n",
    "\n",
    "\n",
    "\n",
    "\n"
   ]
  },
  {
   "cell_type": "code",
   "execution_count": null,
   "id": "faf5c309",
   "metadata": {},
   "outputs": [],
   "source": []
  }
 ],
 "metadata": {
  "kernelspec": {
   "display_name": "Python 3 (ipykernel)",
   "language": "python",
   "name": "python3"
  },
  "language_info": {
   "codemirror_mode": {
    "name": "ipython",
    "version": 3
   },
   "file_extension": ".py",
   "mimetype": "text/x-python",
   "name": "python",
   "nbconvert_exporter": "python",
   "pygments_lexer": "ipython3",
   "version": "3.9.13"
  }
 },
 "nbformat": 4,
 "nbformat_minor": 5
}
