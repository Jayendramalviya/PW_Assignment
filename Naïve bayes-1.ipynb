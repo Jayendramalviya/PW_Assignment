{
 "cells": [
  {
   "cell_type": "markdown",
   "metadata": {},
   "source": [
    "Q1. What is Bayes' theorem?\n",
    "\n"
   ]
  },
  {
   "cell_type": "markdown",
   "metadata": {},
   "source": [
    "Bayes' theorem describes the probability of an event based on prior knowledge of conditions related to that event. It is expressed as:\n",
    "\n",
    "\n",
    "\n",
    "P(A∣B)=P(B∣A)⋅P(A)/P(B)\n",
    "\n",
    "​Where:\n",
    "P(A∣B) = Probability of event A happening given B (Posterior Probabilit\n",
    "P(B∣A) = Probability of event B happening given A (Likelihood)\n",
    "P(A) = Probability of event A happening (Prior Probability)\n",
    "P(B) = Probability of event B happening (Evidence)\n"
   ]
  },
  {
   "cell_type": "markdown",
   "metadata": {},
   "source": [
    "Q2. What is the formula for Bayes' theorem?\n",
    "\n"
   ]
  },
  {
   "cell_type": "markdown",
   "metadata": {},
   "source": [
    "P(A∣B)=P(B∣A)⋅P(A)/P(B)"
   ]
  },
  {
   "cell_type": "markdown",
   "metadata": {},
   "source": [
    "Q3. How is Bayes' theorem used in practice?\n",
    "\n"
   ]
  },
  {
   "cell_type": "markdown",
   "metadata": {},
   "source": [
    "1. Spam Filtering → Identifies spam emails using Naïve Bayes Classifier by computing \n",
    "P(Spam∣Words).\n",
    "\n",
    "2. Medical Diagnosis → Calculates disease probability given a positive test result, e.g., \n",
    "P(COVID∣PositiveTest).\n",
    "\n",
    "3. Machine Learning → Used in text classification, sentiment analysis, and recommendation systems.\n",
    "\n",
    "4. Fraud Detection & Credit Risk → Banks assess loan default risk using Bayes' theorem."
   ]
  },
  {
   "cell_type": "markdown",
   "metadata": {},
   "source": [
    "\n",
    "\n",
    "Q4. What is the relationship between Bayes' theorem and conditional probability?\n",
    "\n"
   ]
  },
  {
   "cell_type": "markdown",
   "metadata": {},
   "source": [
    "Bayes' theorem is derived from conditional probability, which measures the probability of an event occurring given that another event has already occurred.\n",
    "\n",
    "Conditional Probability Formula:\n",
    "P(A∣B)=P(A∩B)/P(B)\n",
    "\n",
    "\n",
    "\n",
    "This means the probability of A happening given B is the probability of both A and B occurring, divided by the probability of B occurring.\n",
    "\n",
    "Bayes' Theorem Formula:\n",
    "\n",
    "P(A∣B)=P(B∣A)⋅P(A)/P(B)\n",
    "\n",
    "\n",
    "​\n"
   ]
  },
  {
   "cell_type": "markdown",
   "metadata": {},
   "source": [
    "\n",
    "\n",
    "Q5. How do you choose which type of Naive Bayes classifier to use for any given problem?"
   ]
  },
  {
   "cell_type": "markdown",
   "metadata": {},
   "source": [
    "Naïve Bayes classifiers vary based on the type of data and feature distribution. Here’s how to choose the right one:\n",
    "\n",
    "Gaussian Naïve Bayes (GaussianNB)\n",
    "Use When: Features are continuous and follow a normal (Gaussian) distribution.\n",
    "Example: Medical diagnosis, weather prediction (e.g., temperature, blood pressure).\n",
    "\n",
    "\n",
    "\n",
    "Multinomial Naïve Bayes (MultinomialNB)\n",
    "Use When: Features are discrete counts (word frequency, occurrences).\n",
    "Example: Text classification, spam filtering, sentiment analysis.\n",
    "\n",
    "\n",
    "Bernoulli Naïve Bayes (BernoulliNB)\n",
    "Use When: Features are binary (0/1) (word presence/absence, yes/no data).\n",
    "Example: Spam detection, fraud detection, document classification.\n",
    "\n",
    "\n",
    "\n",
    "✅ How to Choose?\n",
    "\n",
    "If continuous numerical data → GaussianNB\n",
    "If count-based text data → MultinomialNB\n",
    "If binary features → BernoulliNB"
   ]
  },
  {
   "cell_type": "markdown",
   "metadata": {},
   "source": [
    "Q6. Assignment:\n",
    "You have a dataset with two features, X1 and X2, and two possible classes, A and B. You want to use Naive\n",
    "Bayes to classify a new instance with features X1 = 3 and X2 = 4. The following table shows the frequency of\n",
    "each feature value for each class:\n",
    "\n",
    "Class\t X1=1 X1=2 \tX1=3 \tX2=1 \tX2=2 \tX2=3\t X2=4\n",
    "\n",
    " A\t 3\t 3\t 4\t 4\t 3\t 3\t 3\n",
    "\n",
    " B\t 2\t 2\t 1\t 2\t 2\t 2\t 3\n",
    "\n",
    "Assuming equal prior probabilities for each class, which class would Naive Bayes predict the new instance\n",
    "to belong to?\n"
   ]
  },
  {
   "cell_type": "markdown",
   "metadata": {},
   "source": [
    "### Solution Using Naïve Bayes  \n",
    "\n",
    "We will use **Naïve Bayes Classification** to determine whether the new instance (X1=3, X2=4) belongs to **Class A or Class B**.  \n",
    "\n",
    "#### Step 1: Compute Prior Probabilities (Given Equal Priors)  \n",
    "Since both classes have equal prior probabilities:  \n",
    "P(A) = P(B) = 0.5  \n",
    "\n",
    "#### Step 2: Compute Likelihoods (Using Frequency Counts)  \n",
    "Using the given frequency table, we estimate the likelihood probabilities:  \n",
    "\n",
    "P(X1=3 | A) = count of X1=3 in A / total in A  \n",
    "= 4 / (3+3+4) = 4/10 = 0.4  \n",
    "\n",
    "P(X2=4 | A) = count of X2=4 in A / total in A  \n",
    "= 3 / (4+3+3+3) = 3/13 ≈ 0.23  \n",
    "\n",
    "P(X1=3 | B) = count of X1=3 in B / total in B  \n",
    "= 1 / (2+2+1) = 1/5 = 0.2  \n",
    "\n",
    "P(X2=4 | B) = count of X2=4 in B / total in B  \n",
    "= 3 / (2+2+2+3) = 3/9 = 0.33  \n",
    "\n",
    "#### Step 3: Compute Posterior Probabilities  \n",
    "Using Bayes’ theorem:  \n",
    "P(A | X1=3, X2=4) ∝ P(X1=3 | A) * P(X2=4 | A) * P(A)  \n",
    "P(B | X1=3, X2=4) ∝ P(X1=3 | B) * P(X2=4 | B) * P(B)  \n",
    "\n",
    "Since P(A) = P(B) = 0.5, we can ignore them for comparison.  \n",
    "\n",
    "P(A | X1=3, X2=4) ∝ 0.4 * 0.23 = 0.092  \n",
    "P(B | X1=3, X2=4) ∝ 0.2 * 0.33 = 0.066  \n",
    "\n",
    "#### Step 4: Class Prediction  \n",
    "Since **P(A | X1=3, X2=4) > P(B | X1=3, X2=4)**, Naïve Bayes predicts the instance belongs to **Class A**. ✅  \n"
   ]
  },
  {
   "cell_type": "markdown",
   "metadata": {},
   "source": []
  }
 ],
 "metadata": {
  "language_info": {
   "name": "python"
  }
 },
 "nbformat": 4,
 "nbformat_minor": 2
}
